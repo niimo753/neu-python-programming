{
 "cells": [
  {
   "cell_type": "markdown",
   "id": "a7c44165",
   "metadata": {},
   "source": [
    "__FINAL EXAM__\n",
    "<br>\n",
    "Full Name: Nguyễn Thị Minh Ngọc\n",
    "<br>\n",
    "Student ID: 11219280\n",
    "<br>\n",
    "Class: DSEB 63"
   ]
  },
  {
   "cell_type": "code",
   "execution_count": 1,
   "id": "c45bbbf1",
   "metadata": {},
   "outputs": [],
   "source": [
    "import numpy as np\n",
    "import random\n",
    "import re\n",
    "import json\n",
    "test_no = 6304"
   ]
  },
  {
   "cell_type": "markdown",
   "id": "7d2865de",
   "metadata": {},
   "source": [
    "# Question 1"
   ]
  },
  {
   "cell_type": "code",
   "execution_count": 2,
   "id": "e60d6b07",
   "metadata": {},
   "outputs": [
    {
     "name": "stdout",
     "output_type": "stream",
     "text": [
      "little_women.txt\n"
     ]
    }
   ],
   "source": [
    "stories = ['alice.txt', 'little_women.txt', 'moby_dick.txt', 'siddhartha.txt']\n",
    "np.random.seed(test_no)\n",
    "story = random.choice(stories)\n",
    "print(story)"
   ]
  },
  {
   "cell_type": "code",
   "execution_count": 3,
   "id": "6c4a4d60",
   "metadata": {},
   "outputs": [],
   "source": [
    "class Story:\n",
    "    def __init__(self, story_name):\n",
    "        path = f'Data/Stories/{story_name}'\n",
    "        self.story, self.lines = self.read(path)\n",
    "        self.storystd, self.linestd = self.standardized()\n",
    "        \n",
    "    def read(self, path):\n",
    "        with open(path) as file:\n",
    "            story = file.read()\n",
    "        with open(path) as file:\n",
    "            lines = file.readlines()\n",
    "        lines[0] = lines[0][3::]\n",
    "        return story[3::], lines\n",
    "    \n",
    "    def standardized(self):\n",
    "        storystd = self.story\n",
    "        linestd = self.lines\n",
    "        \n",
    "        # story standardized\n",
    "        while '\\n' in storystd:\n",
    "            storystd = storystd.replace('\\n', ' ')\n",
    "        storystd = re.sub('[^a-zA-Z0-9 ]', '', storystd)\n",
    "        while '  ' in storystd:\n",
    "            storystd = storystd.replace('  ', ' ')\n",
    "        storystd = storystd.strip()\n",
    "        storystd = storystd.lower()\n",
    "        \n",
    "        # lines standardized\n",
    "        for i in range(len(linestd)):\n",
    "            while '\\n' in linestd[i]:\n",
    "                linestd[i] = linestd[i].replace('\\n', ' ')\n",
    "            while '  ' in linestd[i]:\n",
    "                linestd[i] = linestd[i].replace('  ', ' ')\n",
    "            linestd[i] = linestd[i].strip()\n",
    "        while '' in  linestd:\n",
    "            linestd.remove('')\n",
    "        return storystd, linestd\n",
    "\n",
    "    def freq_word_3(self):\n",
    "        freq_word_3 = {}\n",
    "        wordlist = self.storystd.split(' ')\n",
    "        wordset = set(wordlist)\n",
    "        wordset_3 = []\n",
    "        for word in wordset:\n",
    "            if len(word) < 4:\n",
    "                wordset_3.append(word)\n",
    "        for word in wordset_3:\n",
    "            freq_word_3[word] = wordlist.count(word)\n",
    "        return freq_word_3\n",
    "    \n",
    "    def find_word_from_set(self):\n",
    "        letters = {'s', 't', 'r', 'o', 'n', 'a', 'e', 'h'}\n",
    "        wordlist = self.storystd.split(' ')\n",
    "        wordset = set(wordlist)\n",
    "        words_found = []\n",
    "        for word in wordset:\n",
    "            word_letter = word.replace('', '-')\n",
    "            word_letter = word_letter[1:-1:]\n",
    "            word_letter = word_letter.split('-')\n",
    "            count = 0\n",
    "            for i in word_letter:\n",
    "                if i in letters:\n",
    "                    count += 1\n",
    "            if count == len(word):\n",
    "                words_found.append(word)\n",
    "        return set(words_found)"
   ]
  },
  {
   "cell_type": "markdown",
   "id": "8f2320e9",
   "metadata": {},
   "source": [
    "### 1 - a"
   ]
  },
  {
   "cell_type": "code",
   "execution_count": 4,
   "id": "de2b9740",
   "metadata": {},
   "outputs": [
    {
     "name": "stdout",
     "output_type": "stream",
     "text": [
      "['http://www.gutenberg.net', 'This Web site includes information about Project Gutenberg-tm,', 'including how to make donations to the Project Gutenberg Literary', 'Archive Foundation, how to help produce our new eBooks, and how to', 'subscribe to our email newsletter to hear about new eBooks.']\n"
     ]
    }
   ],
   "source": [
    "str1 = Story(story)\n",
    "print(str1.linestd[-5:len(str1.linestd)])"
   ]
  },
  {
   "cell_type": "markdown",
   "id": "540f1cd8",
   "metadata": {},
   "source": [
    "### 1 - b"
   ]
  },
  {
   "cell_type": "code",
   "execution_count": 5,
   "id": "f1a0c857",
   "metadata": {},
   "outputs": [
    {
     "name": "stdout",
     "output_type": "stream",
     "text": [
      "{'ach': 2, '100': 1, 'opy': 1, 'his': 1116, 'nge': 1, '1f4': 1, 'dis': 1, 'du': 2, 'f3': 1, 'day': 238, 'web': 7, 'do': 707, 'nun': 1, 'eye': 34, 'fog': 3, 'lee': 1, 'bit': 48, 'rap': 3, 'or': 511, 'few': 79, 'hid': 14, 'mud': 10, 'pc': 4, 'lor': 1, 'mit': 1, 'cut': 25, 'dim': 7, 'das': 4, 'yer': 3, 'ed': 1, 'fix': 2, 'age': 18, 'nut': 1, 'gay': 28, 'arm': 51, 'get': 239, 'sp': 1, 'off': 173, '30': 1, 'des': 1, 'gem': 2, 'job': 2, 'coo': 2, 'hot': 23, 'yes': 143, 'ned': 23, 'by': 562, 'gad': 1, 'up': 639, 'gut': 2, 'tag': 1, 'say': 275, 'bob': 2, 'ob': 2, 'fun': 69, '90': 2, 'tt': 1, 'bun': 1, 'ma': 3, 'mes': 3, 'mix': 1, 'pm': 1, 'to': 5148, '1e4': 1, 'pin': 5, '1f2': 1, '1e': 2, 'sit': 38, 'go': 390, '1e3': 1, 'are': 506, 'see': 358, 'ode': 1, '1e6': 1, 'jes': 1, 'too': 197, 'bed': 50, '5': 1, 'wig': 3, 'toe': 1, 'add': 9, 'out': 479, 'iss': 2, 'nip': 1, 'saw': 142, 'po': 2, 'if': 916, 'a': 4509, 'her': 3245, 'am': 123, 'meg': 633, 'eer': 1, 'foe': 1, 'pie': 2, 'my': 843, 'lot': 6, 'has': 160, 'jos': 112, 'mis': 3, 'jo': 1247, 'of': 3518, 'ms': 1, 'ha': 9, 'cot': 1, 'oft': 1, 'wry': 2, 'fee': 8, 'hes': 62, 'tom': 2, 'jew': 1, 'oar': 2, 'dod': 1, 'red': 47, 'p': 4, 'jib': 2, 'had': 1062, 'guy': 3, 'bad': 70, 'ho': 2, 'mus': 1, 'tip': 1, 'doy': 1, '7th': 1, 'beg': 21, 'pat': 7, '1f': 1, 'god': 32, 'tun': 1, 'our': 156, 'far': 56, 'non': 1, 'fur': 1, 'rig': 2, 'boy': 128, 'dry': 5, 'ahs': 1, 'on': 974, 'lit': 1, 'sob': 7, 'tar': 1, 'fie': 1, 'mrs': 244, 'ups': 1, 'can': 268, 'ran': 43, 'pet': 20, '76': 1, 'ive': 148, 'war': 5, 'odd': 22, 'big': 89, 'law': 5, 'oui': 1, 'aim': 1, 'ask': 80, 'sky': 12, 'did': 420, 'ark': 1, 'mon': 1, 'hop': 4, 'paw': 2, 'won': 7, 'cab': 1, 'ef': 4, 'nom': 2, 'tax': 6, 'ak': 1, 'c': 4, 'lap': 21, 'nor': 39, '4': 3, 'err': 1, 'tin': 10, 'sum': 10, 'fly': 26, 'own': 183, '1e9': 3, 'bug': 1, '60': 1, 'sin': 3, 'oh': 134, 'owe': 7, 'oil': 2, 'git': 2, '20': 2, 'imp': 2, 'n': 1, '3': 3, '801': 1, 'in': 2500, '18': 1, 'pan': 6, 'box': 22, '1e8': 4, 'put': 210, 'ear': 10, 'bow': 18, 'it': 2470, 'lid': 6, '1e1': 5, 'ted': 2, 'who': 458, 'how': 352, 'new': 182, 'mop': 5, 'vow': 1, 'sir': 50, 'ah': 25, 'bag': 13, 'wet': 12, 'ray': 2, 'ow': 1, 'ill': 240, 'hug': 7, 'apt': 8, '1f3': 4, 'low': 27, 'em': 11, '1f6': 1, 'he': 1503, 'jar': 3, 'sly': 10, 'sun': 32, 'woo': 1, 'due': 1, 'bib': 4, 'dr': 9, 'roi': 1, 'she': 2279, '1e7': 3, 'bee': 4, 'cow': 1, 'gif': 12, 'eve': 5, 'rob': 3, 'jig': 3, 'hey': 9, 'urn': 2, '13': 1, 'ein': 2, 'fit': 30, 'met': 22, 'la': 11, 'mad': 8, 's': 5, 'fed': 8, 'we': 551, 'win': 7, 'pip': 8, 'net': 2, 'sip': 1, 'bay': 4, 'rue': 1, 'ivy': 2, 'hum': 9, 'pig': 2, 't': 1, 'lay': 69, 'dig': 5, 'cry': 45, 'as': 1979, 'rag': 7, 'why': 111, 'way': 213, 'nap': 5, 'sad': 36, 'end': 58, 'me': 749, 'que': 1, 'son': 18, 'air': 112, 'one': 703, 'shy': 16, 'ad': 1, 'l': 2, 'tie': 10, 'hem': 3, 'so': 1131, 'run': 34, 'co': 1, 'par': 1, '2': 5, 'o': 3, 'hen': 2, 'us': 185, 'den': 3, 'gum': 1, 'ohs': 1, 'mr': 310, 'id': 95, 'sat': 133, '1f5': 1, 'wed': 4, 'let': 163, '514': 1, '19': 1, 'hed': 12, 'fo': 2, 'eat': 29, 'rat': 2, 'hev': 2, 'amy': 571, 'les': 1, 'bud': 3, 'nil': 1, 'men': 45, 'all': 873, 'be': 1012, 'de': 8, 'pen': 12, 'fib': 5, 'pay': 33, 'wax': 3, 'an': 466, 'sow': 2, 'nod': 18, 'mar': 1, '1d': 1, 'i': 3144, 'row': 19, 'sew': 7, 'don': 7, 'act': 23, 'map': 1, 'fro': 17, 'im': 389, 'is': 820, 'nov': 1, '1a': 1, 'the': 7682, 'lie': 14, 'aid': 3, 'dug': 2, 'buy': 21, 'ist': 3, 'tut': 3, 'lad': 14, 'not': 942, 'cat': 9, 'jet': 1, 'flo': 18, '1b': 1, 'joy': 20, 'try': 124, '1e5': 1, 'yet': 90, 'sam': 3, 'en': 4, 'ten': 13, 'ut': 1, 'now': 398, 'tea': 40, 'hay': 1, 'and': 8097, 'pg': 1, 'bog': 1, 'gas': 1, 'pot': 11, 'oak': 1, 'nw': 1, 'six': 21, 'mm': 1, 'oer': 2, 'ago': 31, 'thy': 3, 'top': 9, 'you': 2250, 'may': 167, 'cap': 18, 'leg': 3, 'irs': 1, '1f1': 1, 'rug': 5, 'ink': 8, 'rid': 2, 'riz': 2, 'ice': 17, 'fan': 8, 'fat': 14, 'but': 1463, 'any': 297, 'har': 1, 'set': 101, 'hue': 1, 'awe': 1, 'die': 20, '1e2': 1, 'bon': 2, 'wan': 1, 'tap': 5, 'au': 1, 'mum': 5, 'use': 66, 'sea': 20, 'key': 10, 'at': 1065, 'him': 781, 'vex': 2, 'bid': 5, 'peg': 1, 'mat': 1, 'hit': 5, 'two': 140, 'tis': 2, 'was': 2034, 'mug': 2, 'toy': 2, 'hat': 56, 'nan': 2, 'ate': 9, 'haf': 31, 'k': 5, 'b': 3, 'm': 3, 'aye': 7, 'tub': 4, 'cup': 7, 'fry': 1, 'wal': 1, '1c': 2, 'for': 2224, 'dog': 9, 'woe': 6, 'pop': 1, 'bea': 1, '50': 1, 'st': 4, 'bus': 2, '809': 1, 'ps': 1, 'got': 255, 'old': 364, 'art': 23, '1': 3, 'dew': 3, 'tug': 1, 'led': 24, 'hod': 2, 'fox': 1, 'no': 540, 'its': 398, 'log': 2, 'man': 137, 'keg': 1}\n"
     ]
    }
   ],
   "source": [
    "print(str1.freq_word_3())"
   ]
  },
  {
   "cell_type": "markdown",
   "id": "ca7c38e3",
   "metadata": {},
   "source": [
    "# 1 - c"
   ]
  },
  {
   "cell_type": "code",
   "execution_count": 6,
   "id": "46d523a8",
   "metadata": {},
   "outputs": [
    {
     "name": "stdout",
     "output_type": "stream",
     "text": [
      "{'tt', 'ate', 'serene', 'an', 'tar', 'oar', 'nonsense', 'then', 'senna', 'estates', 'neatness', 'hears', 'roast', 'hen', 'threatens', 'rear', 'as', 'rent', 'enters', 'rats', 'sheet', 'hearten', 'toe', 'she', 'threes', 'heart', 'oer', 'sant', 'arent', 'ashes', 'theaters', 'har', 'reason', 'thethe', 'toss', 'hero', 'set', 'soreness', 'ear', 'honest', 'host', 'other', 'seashore', 'hose', 'shes', 'trot', 'heroes', 'tears', 'hash', 'stare', 'neat', 'heartens', 'note', 'harshness', 'earthe', 'root', 'sons', 'en', 'estate', 'assert', 'resent', 'ran', 'rashness', 'ohs', 'tents', 'theresa', 'atone', 'trees', 'nest', 'nor', 'stares', 'noter', 'hasnt', 'ten', 'soar', 'ease', 'threaten', 'tares', 'sat', 'three', 'short', 'honor', 'err', 'orno', 'torn', 'hannahs', 'star', 'hortense', 'onethe', 'horrors', 'errors', 'soon', 'a', 'hens', 'seats', 'hart', 'error', 'seat', 'shorter', 'teteatete', 'heres', 'earnest', 'ho', 'than', 'sartor', 'earnestness', 'tart', 'rehearse', 'norton', 'soonest', 'tearose', 'her', 'ants', 'to', 'shoes', 'hats', 'restore', 'rash', 'eer', 'start', 'theres', 'oats', 'enter', 'rate', 'state', 'anon', 'thrash', 'treat', 'sane', 'sere', 'north', 'shorten', 'eat', 'street', 'st', 'noon', 'teens', 'heath', 'streets', 'near', 'hath', 'thee', 'rat', 'threat', 'or', 'nose', 'sees', 'hot', 'eaten', 'throat', 'sea', 'arts', 'sense', 'east', 'nearer', 'tones', 'heros', 'treats', 'stars', 'toes', 'hearth', 'has', 'notes', 'rare', 'nearest', 'asters', 'sorts', 'terror', 'toast', 'satan', 'neath', 'shot', 'sooner', 'tree', 'ah', 'those', 's', 'santa', 'nets', 'noses', 'the', 'ears', 'tea', 'stern', 'stone', 'hearers', 'at', 'art', 'hers', 'rose', 'thrones', 'hear', 'shone', 'ha', 'rather', 'here', 'honors', 'hates', 'earth', 'shoe', 'assent', 'hostess', 'are', 'sore', 'heat', 'horns', 'ashore', 'erste', 'sash', 'horses', 'states', 'hearts', 'entree', 'onto', 'shortest', 'throne', 'ones', 'oh', 'see', 'others', 'restante', 'thorn', 'seen', 'net', 'tone', 'share', 'tarts', 'shorn', 'thats', 'hearer', 'rotten', 'stores', 'harsh', 'shoot', 'son', 'heartsease', 'teeth', 'taste', 'rest', 'hate', 'theater', 'sahara', 'reasons', 'test', 'not', 'one', 'tease', 'rosettes', 'trash', 'non', 'retreats', 'sheets', 'n', 'shant', 'sonata', 'roses', 'rents', 'tore', 'tastes', 'no', 'sort', 'tent', 'thorns', 'too', 'another', 'hannah', 'horrorthe', 'hans', 'shore', 'store', 'these', 'noahs', 'asserts', 'there', 'he', 'tars', 'throats', 'esther', 'so', 'ahs', 'earn', 'that', 'sets', 'haste', 'hes', 'horse', 'on', 'seasons', 'roar', 'hat', 'tear', 'tres', 'soothes', 'hoarse', 'soothe', 'arose', 'horror', 'horn', 'theatre', 't', 'season', 'none', 'nan', 'sent', 'aster', 'nests', 'eats', 'o', 'oars', 'stones'}\n"
     ]
    }
   ],
   "source": [
    "print(str1.find_word_from_set())"
   ]
  },
  {
   "cell_type": "markdown",
   "id": "9efc5cc9",
   "metadata": {},
   "source": [
    "# Question 2"
   ]
  },
  {
   "cell_type": "code",
   "execution_count": 7,
   "id": "3c704aa9",
   "metadata": {},
   "outputs": [],
   "source": [
    "class Matrix:\n",
    "    def __init__(self, matrix):\n",
    "        self.matrix = matrix\n",
    "    \n",
    "    def __repr__(self):\n",
    "        return str(self.matrix)\n",
    "    \n",
    "    def count_entries_greater_than_6(self):\n",
    "        return len(self.matrix[self.matrix>6])\n",
    "    \n",
    "    def mean_col(self):\n",
    "        mean_col_result = {}\n",
    "        matrix_t = np.transpose(self.matrix)\n",
    "        for i in range(len(matrix_t)):\n",
    "            mean_col_result[f'Column {i+1}'] = matrix_t[i].mean()\n",
    "        return mean_col_result\n",
    "    \n",
    "    def mean_matrix(self):\n",
    "        return self.matrix.mean()\n",
    "    \n",
    "    def check_prime(self, number):\n",
    "        if number < 2:\n",
    "            return False\n",
    "        else:\n",
    "            count = 0\n",
    "            for i in range(1, number+1):\n",
    "                if number%i == 0:\n",
    "                    count += 1\n",
    "            if count == 2:\n",
    "                return True\n",
    "            else:\n",
    "                return False\n",
    "    \n",
    "    def check_prime_product(self, number):\n",
    "        check = False\n",
    "        for i in range(1, number):\n",
    "            i2 = int(number/i)\n",
    "            if i2*i == number:\n",
    "                if self.check_prime(i) == True and self.check_prime(i2) == True:\n",
    "                    check = True\n",
    "        return check\n",
    "    \n",
    "    def check_entries_prime_product(self):\n",
    "        count = 0\n",
    "        for row in range(self.matrix.shape[0]):\n",
    "            for col in range(self.matrix.shape[1]):\n",
    "                if self.check_prime_product(self.matrix[row][col]) == True:\n",
    "                    count += 1\n",
    "        return count"
   ]
  },
  {
   "cell_type": "code",
   "execution_count": 8,
   "id": "e8402296",
   "metadata": {},
   "outputs": [
    {
     "data": {
      "text/plain": [
       "array([[ 2,  5, 10, 11,  7,  5,  7],\n",
       "       [ 6,  2,  3,  7,  8,  8,  1],\n",
       "       [ 9, 14, 10, 14,  5,  0,  9],\n",
       "       [ 2, 13, 13, 15,  0,  5, 15],\n",
       "       [12,  6, 12,  2,  4,  3,  9],\n",
       "       [ 1,  3, 12,  9, 10,  0,  8],\n",
       "       [11, 14, 10, 11, 14,  1,  8],\n",
       "       [12, 11,  0,  9, 13, 14, 10],\n",
       "       [ 3, 10, 15,  6, 13,  3, 12]])"
      ]
     },
     "execution_count": 8,
     "metadata": {},
     "output_type": "execute_result"
    }
   ],
   "source": [
    "np.random.seed(test_no)\n",
    "A = np.random.randint(0, 16, size = 63).reshape(9,7)\n",
    "A"
   ]
  },
  {
   "cell_type": "code",
   "execution_count": 9,
   "id": "7c09ead1",
   "metadata": {},
   "outputs": [],
   "source": [
    "mtA = Matrix(A)"
   ]
  },
  {
   "cell_type": "code",
   "execution_count": 10,
   "id": "04ff8e81",
   "metadata": {},
   "outputs": [
    {
     "name": "stdout",
     "output_type": "stream",
     "text": [
      "(a) Entries greater than 6: 39\n",
      "\n",
      "(b) Mean:\n",
      ">>> Mean of the columns of the matrix: {'Column 1': 6.444444444444445, 'Column 2': 8.666666666666666, 'Column 3': 9.444444444444445, 'Column 4': 9.333333333333334, 'Column 5': 8.222222222222221, 'Column 6': 4.333333333333333, 'Column 7': 8.777777777777779}\n",
      ">>> Mean of the matrix: 7.888888888888889\n",
      "(c) Entries that are product of two prime numbers: 23\n"
     ]
    }
   ],
   "source": [
    "print('(a) Entries greater than 6:', mtA.count_entries_greater_than_6())\n",
    "print('\\n(b) Mean:\\n>>> Mean of the columns of the matrix:', mtA.mean_col())\n",
    "print('>>> Mean of the matrix:', mtA.mean_matrix())\n",
    "print('(c) Entries that are product of two prime numbers:', mtA.check_entries_prime_product())"
   ]
  },
  {
   "cell_type": "markdown",
   "id": "53b7f525",
   "metadata": {},
   "source": [
    "# Question 3"
   ]
  },
  {
   "cell_type": "markdown",
   "id": "2259a9c4",
   "metadata": {},
   "source": [
    "### 3 - a"
   ]
  },
  {
   "cell_type": "code",
   "execution_count": 11,
   "id": "a8f7caea",
   "metadata": {},
   "outputs": [],
   "source": [
    "def convert_grade_4(point10):\n",
    "    point4 = (point10/10)*4\n",
    "    return point4"
   ]
  },
  {
   "cell_type": "markdown",
   "id": "aacfef7a",
   "metadata": {},
   "source": [
    "### 3 - b"
   ]
  },
  {
   "cell_type": "code",
   "execution_count": 12,
   "id": "d27c585a",
   "metadata": {},
   "outputs": [
    {
     "name": "stdout",
     "output_type": "stream",
     "text": [
      "{'An': [9, 9, 5, 7, 5], 'Mai': [10, 9, 6, 5, 7], 'Duong': [5, 6, 4, 7, 7], 'Huy': [8, 4, 6, 8, 5], 'Dung': [7, 8, 10, 4, 10], 'Tam': [10, 6, 5, 8, 4], 'Anh': [5, 10, 5, 8, 8]}\n"
     ]
    }
   ],
   "source": [
    "filename = 'grade10.json'\n",
    "with open(f'Data/{filename}') as file:\n",
    "    grade10 = json.load(file)\n",
    "print(grade10)"
   ]
  },
  {
   "cell_type": "code",
   "execution_count": 13,
   "id": "e1143254",
   "metadata": {},
   "outputs": [],
   "source": [
    "def convert_grade_letter(point4):\n",
    "    if point4 < 2:\n",
    "        letter = 'D'\n",
    "    elif point4 < 2.4:\n",
    "        letter = 'C'\n",
    "    elif point4 < 2.8:\n",
    "        letter = 'B'\n",
    "    elif point4 < 3.2:\n",
    "        letter = 'B+'\n",
    "    elif point4 < 3.6:\n",
    "        letter = 'A'\n",
    "    else:\n",
    "        letter = 'A+'\n",
    "    return letter\n",
    "\n",
    "grade_4 = {}\n",
    "grade_letter = {}\n",
    "for name in grade10:\n",
    "    grade_4[name] = []\n",
    "    for i in grade10[name]:\n",
    "        grade_4[name].append(convert_grade_4(i))\n",
    "    grade_letter[name] = []\n",
    "    for i in grade_4[name]:\n",
    "        grade_letter[name].append(convert_grade_letter(i))"
   ]
  },
  {
   "cell_type": "markdown",
   "id": "03e61037",
   "metadata": {},
   "source": [
    "### 3 - c"
   ]
  },
  {
   "cell_type": "code",
   "execution_count": 14,
   "id": "bcd2f632",
   "metadata": {},
   "outputs": [],
   "source": [
    "newfile = 'grade4.json'\n",
    "with open(newfile, 'w') as file:\n",
    "    json.dump(grade_4, file)\n",
    "    json.dump(grade_letter, file)"
   ]
  },
  {
   "cell_type": "markdown",
   "id": "f42003c3",
   "metadata": {},
   "source": [
    "# Question 4"
   ]
  },
  {
   "cell_type": "code",
   "execution_count": 15,
   "id": "8008344d",
   "metadata": {},
   "outputs": [
    {
     "name": "stdout",
     "output_type": "stream",
     "text": [
      "[[0 6 4 6 8 3]\n",
      " [6 0 5 5 5 4]\n",
      " [4 5 0 5 5 4]\n",
      " [6 5 5 0 6 6]\n",
      " [8 5 5 6 0 5]\n",
      " [3 4 4 6 5 0]]\n"
     ]
    }
   ],
   "source": [
    "np.random.seed(test_no)\n",
    "C = np.random.randint(1, 5, 36).reshape(6, 6)\n",
    "C = C + C.T\n",
    "C = C - np.diag(C.diagonal())\n",
    "print(C)"
   ]
  }
 ],
 "metadata": {
  "kernelspec": {
   "display_name": "Python 3 (ipykernel)",
   "language": "python",
   "name": "python3"
  },
  "language_info": {
   "codemirror_mode": {
    "name": "ipython",
    "version": 3
   },
   "file_extension": ".py",
   "mimetype": "text/x-python",
   "name": "python",
   "nbconvert_exporter": "python",
   "pygments_lexer": "ipython3",
   "version": "3.11.7"
  }
 },
 "nbformat": 4,
 "nbformat_minor": 5
}
