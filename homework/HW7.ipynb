{
 "cells": [
  {
   "cell_type": "markdown",
   "metadata": {},
   "source": [
    "__HOMEWORK 7__\n",
    "<br>\n",
    "Full Name: Nguyễn Thị Minh Ngọc\n",
    "<br>\n",
    "Student ID: 11219280\n",
    "<br>\n",
    "Class: DSEB 63"
   ]
  },
  {
   "cell_type": "markdown",
   "metadata": {},
   "source": [
    "## Exercise 1"
   ]
  },
  {
   "cell_type": "code",
   "execution_count": 1,
   "metadata": {},
   "outputs": [
    {
     "name": "stdout",
     "output_type": "stream",
     "text": [
      ">>> mười \n",
      "\n",
      ">>> hai mươi mốt \n",
      "\n",
      ">>> bốn mươi lăm \n",
      "\n",
      ">>> chín mươi sáu \n",
      "\n",
      ">>> bảy mươi \n",
      "\n"
     ]
    }
   ],
   "source": [
    "def read_num(x):\n",
    "    if x == 1:\n",
    "        return 'một'\n",
    "    elif x == 2:\n",
    "        return 'hai'\n",
    "    elif x == 3:\n",
    "        return 'ba'\n",
    "    elif x == 4:\n",
    "        return 'tư'\n",
    "    elif x == 5:\n",
    "        return 'lăm'\n",
    "    elif x == 6:\n",
    "        return 'sáu'\n",
    "    elif x == 7:\n",
    "        return 'bảy'\n",
    "    elif x == 8:\n",
    "        return 'tám'\n",
    "    elif x == 9:\n",
    "        return 'chín'\n",
    "    else:\n",
    "        return 'mươi'\n",
    "    \n",
    "while True:\n",
    "    number = input('Enter a 2-digit number or quit this program: ')\n",
    "    if number.lower() == 'quit' or number.lower() == 'end':\n",
    "        break\n",
    "    else:\n",
    "        while number.isnumeric() == False or (number.isnumeric() == True and int(number)<10 or int(number)>99):\n",
    "            number = input(\"Not valid! Re-enter: \")\n",
    "            if number.lower() == 'quit' or number.lower() == 'end':\n",
    "                break\n",
    "    if number.lower() == 'quit' or number.lower() == 'end':\n",
    "        break\n",
    "    else:\n",
    "        tens = int(number)//10\n",
    "        units = int(number)%10\n",
    "        if tens == 1:\n",
    "            read = 'mười'\n",
    "            if units != 0:\n",
    "                read = f'{read} {read_num(units)}'\n",
    "        else:\n",
    "            if tens == 4:\n",
    "                read = 'bốn'\n",
    "            elif tens == 5:\n",
    "                read = 'năm'\n",
    "            else:\n",
    "                read = read_num(tens)\n",
    "            if units != 0:\n",
    "                if tens == 2 and units == 1:\n",
    "                    read = f'{read} mươi mốt'\n",
    "                else:\n",
    "                    read = f'{read} mươi {read_num(units)}'\n",
    "            else:\n",
    "                read = f'{read} {read_num(units)}'\n",
    "        print('>>>', read, '\\n')"
   ]
  },
  {
   "cell_type": "markdown",
   "metadata": {},
   "source": [
    "# For Exercise 2 - 4"
   ]
  },
  {
   "cell_type": "code",
   "execution_count": 2,
   "metadata": {},
   "outputs": [],
   "source": [
    "import random\n",
    "random.seed(20)\n",
    "\n",
    "names = ['An', 'Ly', 'Nam', 'Mai', 'Hoa', 'Linh']\n",
    "pizza_toppings = ['chicken', 'chorio', 'beef', 'cheese', 'pineapple']\n",
    "sizes = ['small', 'medium', 'large']\n",
    "cake_bases = ['thick', 'thin']\n",
    "\n",
    "monday_orders = []\n",
    "for _ in range(100):\n",
    "    i = random.randrange(len(names))\n",
    "    j = random.randrange(len(pizza_toppings))\n",
    "    k = random.randrange(len(sizes))\n",
    "    n = random.randrange(len(cake_bases))\n",
    "    monday_orders.append((names[i], pizza_toppings[j], sizes[k], cake_bases[n]))"
   ]
  },
  {
   "cell_type": "markdown",
   "metadata": {},
   "source": [
    "## Exercise 2\n",
    "### a - Recount the number of pizzas ordered by the customer's name"
   ]
  },
  {
   "cell_type": "code",
   "execution_count": 3,
   "metadata": {},
   "outputs": [
    {
     "name": "stdout",
     "output_type": "stream",
     "text": [
      "An - The number of orders: 15\n",
      "\t> ['pineapple', 'medium', 'thin'] - 2\n",
      "\t> ['chorio', 'large', 'thick'] - 2\n",
      "\t> ['chorio', 'small', 'thick'] - 1\n",
      "\t> ['beef', 'large', 'thick'] - 1\n",
      "\t> ['beef', 'large', 'thin'] - 1\n",
      "\t> ['cheese', 'small', 'thick'] - 1\n",
      "\t> ['chorio', 'small', 'thin'] - 1\n",
      "\t> ['cheese', 'medium', 'thin'] - 1\n",
      "\t> ['chorio', 'large', 'thin'] - 1\n",
      "\t> ['cheese', 'small', 'thin'] - 1\n",
      "\t> ['beef', 'small', 'thick'] - 1\n",
      "\t> ['beef', 'medium', 'thick'] - 1\n",
      "\t> ['chicken', 'large', 'thin'] - 1\n",
      "Ly - The number of orders: 17\n",
      "\t> ['beef', 'medium', 'thin'] - 1\n",
      "\t> ['beef', 'large', 'thin'] - 3\n",
      "\t> ['pineapple', 'small', 'thick'] - 1\n",
      "\t> ['chorio', 'medium', 'thick'] - 2\n",
      "\t> ['chicken', 'small', 'thin'] - 1\n",
      "\t> ['pineapple', 'large', 'thick'] - 1\n",
      "\t> ['chicken', 'large', 'thick'] - 1\n",
      "\t> ['chorio', 'small', 'thick'] - 2\n",
      "\t> ['chicken', 'medium', 'thin'] - 1\n",
      "\t> ['cheese', 'large', 'thin'] - 1\n",
      "\t> ['cheese', 'medium', 'thin'] - 1\n",
      "\t> ['beef', 'medium', 'thick'] - 1\n",
      "\t> ['pineapple', 'medium', 'thin'] - 1\n",
      "Nam - The number of orders: 19\n",
      "\t> ['pineapple', 'small', 'thick'] - 3\n",
      "\t> ['beef', 'small', 'thick'] - 2\n",
      "\t> ['chorio', 'small', 'thick'] - 1\n",
      "\t> ['chicken', 'large', 'thin'] - 1\n",
      "\t> ['chorio', 'medium', 'thin'] - 1\n",
      "\t> ['chorio', 'large', 'thin'] - 1\n",
      "\t> ['pineapple', 'medium', 'thick'] - 1\n",
      "\t> ['chorio', 'small', 'thin'] - 2\n",
      "\t> ['chicken', 'small', 'thin'] - 2\n",
      "\t> ['beef', 'large', 'thick'] - 2\n",
      "\t> ['cheese', 'small', 'thin'] - 1\n",
      "\t> ['chicken', 'large', 'thick'] - 1\n",
      "\t> ['chicken', 'medium', 'thick'] - 1\n",
      "Mai - The number of orders: 17\n",
      "\t> ['cheese', 'small', 'thick'] - 2\n",
      "\t> ['chorio', 'small', 'thin'] - 1\n",
      "\t> ['pineapple', 'large', 'thick'] - 2\n",
      "\t> ['chicken', 'medium', 'thick'] - 2\n",
      "\t> ['beef', 'medium', 'thick'] - 1\n",
      "\t> ['chorio', 'large', 'thick'] - 1\n",
      "\t> ['chorio', 'medium', 'thick'] - 2\n",
      "\t> ['chorio', 'small', 'thick'] - 1\n",
      "\t> ['cheese', 'large', 'thin'] - 1\n",
      "\t> ['cheese', 'small', 'thin'] - 1\n",
      "\t> ['cheese', 'large', 'thick'] - 1\n",
      "\t> ['pineapple', 'large', 'thin'] - 1\n",
      "\t> ['beef', 'small', 'thick'] - 1\n",
      "Hoa - The number of orders: 16\n",
      "\t> ['chorio', 'medium', 'thick'] - 1\n",
      "\t> ['beef', 'small', 'thick'] - 1\n",
      "\t> ['chicken', 'small', 'thin'] - 1\n",
      "\t> ['cheese', 'small', 'thick'] - 1\n",
      "\t> ['cheese', 'large', 'thick'] - 1\n",
      "\t> ['beef', 'medium', 'thin'] - 1\n",
      "\t> ['cheese', 'medium', 'thin'] - 1\n",
      "\t> ['chicken', 'medium', 'thick'] - 3\n",
      "\t> ['pineapple', 'large', 'thin'] - 1\n",
      "\t> ['chicken', 'large', 'thin'] - 1\n",
      "\t> ['chicken', 'medium', 'thin'] - 1\n",
      "\t> ['pineapple', 'medium', 'thick'] - 1\n",
      "\t> ['chicken', 'small', 'thick'] - 1\n",
      "\t> ['chorio', 'large', 'thin'] - 1\n",
      "Linh - The number of orders: 16\n",
      "\t> ['chorio', 'medium', 'thick'] - 1\n",
      "\t> ['beef', 'medium', 'thin'] - 1\n",
      "\t> ['chorio', 'large', 'thin'] - 4\n",
      "\t> ['chorio', 'small', 'thin'] - 1\n",
      "\t> ['chicken', 'small', 'thick'] - 1\n",
      "\t> ['chicken', 'small', 'thin'] - 2\n",
      "\t> ['pineapple', 'small', 'thin'] - 2\n",
      "\t> ['chicken', 'large', 'thick'] - 1\n",
      "\t> ['beef', 'small', 'thick'] - 1\n",
      "\t> ['pineapple', 'small', 'thick'] - 1\n",
      "\t> ['chorio', 'small', 'thick'] - 1\n"
     ]
    }
   ],
   "source": [
    "orders_list = []\n",
    "for order in monday_orders:\n",
    "    orders_list.append(list(order))\n",
    "\n",
    "customers = {}\n",
    "for name in names:\n",
    "    temp = []\n",
    "    first_check = True\n",
    "    count = 0\n",
    "    for order in orders_list:\n",
    "        check = True\n",
    "        if order[0] == name:\n",
    "            if first_check == True:\n",
    "                temp.append([order[1:4], 1])\n",
    "                first_check = False\n",
    "            else:\n",
    "                for i in range(len(temp)):\n",
    "                    if order[1:4] == temp[i][0]:\n",
    "                        temp[i][1] += 1\n",
    "                        check = False\n",
    "                if check == True:\n",
    "                    temp.append([order[1:4]])\n",
    "                    temp[-1].append(1)\n",
    "    for i in temp:\n",
    "        count += i[1]\n",
    "    temp.append(count)\n",
    "    customers[name] = temp\n",
    "for name, order in customers.items():\n",
    "    print(f'{name} - The number of orders: {order[-1]}')\n",
    "    for i in range(len(order)-1):\n",
    "        print(f'\\t> {order[i][0]} - {order[i][1]}')"
   ]
  },
  {
   "cell_type": "markdown",
   "metadata": {},
   "source": [
    "### b. Suppose that the number of toppings on the chicken pizza is only 20. Remind customers to order another when this pizza topping runs out"
   ]
  },
  {
   "cell_type": "code",
   "execution_count": 4,
   "metadata": {},
   "outputs": [
    {
     "name": "stdout",
     "output_type": "stream",
     "text": [
      "Order 80: Sorry Ly, the chorio topping has already run out! Would you like to order another one?\n",
      "Order 84: Sorry Linh, the chorio topping has already run out! Would you like to order another one?\n",
      "Order 87: Sorry Linh, the chorio topping has already run out! Would you like to order another one?\n",
      "Order 88: Sorry Nam, the chorio topping has already run out! Would you like to order another one?\n",
      "Order 89: Sorry Mai, the chorio topping has already run out! Would you like to order another one?\n",
      "Order 92: Sorry Hoa, the chorio topping has already run out! Would you like to order another one?\n",
      "Order 94: Sorry Linh, the chorio topping has already run out! Would you like to order another one?\n",
      "Order 96: Sorry Ly, the chorio topping has already run out! Would you like to order another one?\n",
      "Order 99: Sorry Hoa, the chicken topping has already run out! Would you like to order another one?\n",
      "Order 100: Sorry Hoa, the chicken topping has already run out! Would you like to order another one?\n"
     ]
    }
   ],
   "source": [
    "toppings = [[i, 20] for i in pizza_toppings]\n",
    "for order in range(len(orders_list)):\n",
    "    for i in toppings:\n",
    "        if orders_list[order][1] == i[0]:\n",
    "            i[1] -= 1\n",
    "    for i in toppings:\n",
    "        if orders_list[order][1] == i[0] and i[1]<0:\n",
    "            print(f\"Order {order+1}: Sorry {orders_list[order][0]}, the {i[0]} topping has already run out! Would you like to order another one?\")"
   ]
  },
  {
   "cell_type": "markdown",
   "metadata": {},
   "source": [
    "## Exercise 3"
   ]
  },
  {
   "cell_type": "code",
   "execution_count": 5,
   "metadata": {},
   "outputs": [
    {
     "name": "stdout",
     "output_type": "stream",
     "text": [
      "Order 80: Sorry Ly, the chorio topping has already run out! Would you like to order another one?\n",
      "Order 84: Sorry Linh, the chorio topping has already run out! Would you like to order another one?\n",
      "Order 87: Sorry Linh, the chorio topping has already run out! Would you like to order another one?\n",
      "Order 88: Sorry Nam, the small size has already run out! Would you like to order another one?\n",
      "Order 88: Sorry Nam, the chorio topping has already run out! Would you like to order another one?\n",
      "Order 89: Sorry Mai, the chorio topping has already run out! Would you like to order another one?\n",
      "Order 90: Sorry Hoa, the small size has already run out! Would you like to order another one?\n",
      "Order 92: Sorry Hoa, the chorio topping has already run out! Would you like to order another one?\n",
      "Order 94: Sorry Linh, the small size has already run out! Would you like to order another one?\n",
      "Order 94: Sorry Linh, the chorio topping has already run out! Would you like to order another one?\n",
      "Order 95: Sorry Mai, the large size has already run out! Would you like to order another one?\n",
      "Order 96: Sorry Ly, the chorio topping has already run out! Would you like to order another one?\n",
      "Order 97: Sorry An, the large size has already run out! Would you like to order another one?\n",
      "Order 98: Sorry Mai, the small size has already run out! Would you like to order another one?\n",
      "Order 99: Sorry Hoa, the chicken topping has already run out! Would you like to order another one?\n",
      "Order 100: Sorry Hoa, the chicken topping has already run out! Would you like to order another one?\n"
     ]
    }
   ],
   "source": [
    "toppings = [[i, 20] for i in pizza_toppings]\n",
    "sizes = [['small', 35], ['medium', 35], ['large', 30]]\n",
    "for order in range(len(orders_list)):\n",
    "    for i in toppings:\n",
    "        if orders_list[order][1] == i[0]:\n",
    "            i[1] -= 1\n",
    "    for i in sizes:\n",
    "        if orders_list[order][2] == i[0]:\n",
    "            i[1] -= 1\n",
    "    for (topping, size) in zip(toppings, sizes):\n",
    "        topping_check = True\n",
    "        size_check = True\n",
    "        if orders_list[order][1] == topping[0] and topping[1]<0:\n",
    "            topping_check = False\n",
    "        if orders_list[order][2] == size[0] and size[1]<0:\n",
    "            size_check = False\n",
    "        if topping_check == False and size_check == False:\n",
    "            print(f\"Order {order+1}: Sorry {orders_list[order][0]}, both the {topping[0]} topping and the {size[0]} size have already run out! Would you like to order another one?\")\n",
    "        elif topping_check == False:\n",
    "            print(f\"Order {order+1}: Sorry {orders_list[order][0]}, the {topping[0]} topping has already run out! Would you like to order another one?\")\n",
    "        elif size_check == False:\n",
    "            print(f\"Order {order+1}: Sorry {orders_list[order][0]}, the {size[0]} size has already run out! Would you like to order another one?\")"
   ]
  },
  {
   "cell_type": "markdown",
   "metadata": {},
   "source": [
    "## Exercise 4\n",
    "### a - Sizes sell pizza prices: small: 4, 6, and large: 12. Calculate the total revenue of the restaurant on Monday"
   ]
  },
  {
   "cell_type": "code",
   "execution_count": 6,
   "metadata": {},
   "outputs": [
    {
     "name": "stdout",
     "output_type": "stream",
     "text": [
      "Total Revenue = $714\n"
     ]
    }
   ],
   "source": [
    "revenue = [['small', 4, 0], ['medium', 6, 0], ['large', 12, 0]]\n",
    "for order in orders_list:\n",
    "    for i in revenue:\n",
    "        if order[2] == i[0]:\n",
    "            i[-1] += 1\n",
    "total_revenue = sum(i[-1]*i[-2] for i in revenue)\n",
    "print(f\"Total Revenue = ${total_revenue}\")"
   ]
  },
  {
   "cell_type": "markdown",
   "metadata": {},
   "source": [
    "### b - The cost for a small pizza is 2, a medium one is 3, a large one is 5, and 100 for other expenses. Calculate restaurant profit on Monday"
   ]
  },
  {
   "cell_type": "code",
   "execution_count": 7,
   "metadata": {},
   "outputs": [
    {
     "name": "stdout",
     "output_type": "stream",
     "text": [
      "Total Profit = $289\n"
     ]
    }
   ],
   "source": [
    "cost = [['small', -2], ['medium', -3], ['large', -5], ['other', 1, -100]]\n",
    "for i in range(len(revenue)):\n",
    "    cost[i].append(revenue[i][-1])\n",
    "total_profit = sum(i[-1]*i[-2] for i in revenue) + sum(i[-1]*i[-2] for i in cost)\n",
    "print(f\"Total Profit = ${total_profit}\")"
   ]
  }
 ],
 "metadata": {
  "kernelspec": {
   "display_name": ".venv",
   "language": "python",
   "name": "python3"
  },
  "language_info": {
   "codemirror_mode": {
    "name": "ipython",
    "version": 3
   },
   "file_extension": ".py",
   "mimetype": "text/x-python",
   "name": "python",
   "nbconvert_exporter": "python",
   "pygments_lexer": "ipython3",
   "version": "3.11.7"
  }
 },
 "nbformat": 4,
 "nbformat_minor": 2
}
