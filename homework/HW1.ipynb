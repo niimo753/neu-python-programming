{
 "cells": [
  {
   "cell_type": "markdown",
   "metadata": {},
   "source": [
    "__HOMEWORK 1__\n",
    "<br>\n",
    "Full Name: Nguyễn Thị Minh Ngọc\n",
    "<br>\n",
    "Student ID: 11219280\n",
    "<br>\n",
    "Class: DSEB 63"
   ]
  },
  {
   "cell_type": "markdown",
   "metadata": {},
   "source": [
    "## Exercise 2"
   ]
  },
  {
   "cell_type": "code",
   "execution_count": 1,
   "metadata": {},
   "outputs": [
    {
     "name": "stdout",
     "output_type": "stream",
     "text": [
      "Twinkle, twinkle, little star,      \n",
      "\tHow I wonder what you are!      \n",
      "\t\tUp above the world so high,      \n",
      "\t\tLike a diamond in the sky.      \n",
      "Twinkle, twinkle, little star,      \n",
      "\tHow I wonder what you are\n"
     ]
    }
   ],
   "source": [
    "print(\"Twinkle, twinkle, little star,\\\n",
    "      \\n\\tHow I wonder what you are!\\\n",
    "      \\n\\t\\tUp above the world so high,\\\n",
    "      \\n\\t\\tLike a diamond in the sky.\\\n",
    "      \\nTwinkle, twinkle, little star,\\\n",
    "      \\n\\tHow I wonder what you are\")"
   ]
  },
  {
   "cell_type": "markdown",
   "metadata": {},
   "source": [
    "## Exercise 3"
   ]
  },
  {
   "cell_type": "code",
   "execution_count": 2,
   "metadata": {},
   "outputs": [
    {
     "name": "stdout",
     "output_type": "stream",
     "text": [
      "\tI'm tabbed in.\n",
      "I'm split\n",
      "on a line. \n",
      "I'm \\ a \\ cat.\n",
      "\n",
      "I'll do a list:\n",
      "\t* Cat food\n",
      "\t* Fishes\n",
      "\t* Catnip\n",
      "\t* Grass\n"
     ]
    }
   ],
   "source": [
    "print(\"\\tI'm tabbed in.\\nI'm split\\non a line. \\nI'm \\\\ a \\\\ cat.\\n\\nI'll do a list:\\n\\t* Cat food\\n\\t* Fishes\\n\\t* Catnip\\n\\t* Grass\")"
   ]
  },
  {
   "cell_type": "markdown",
   "metadata": {},
   "source": [
    "## Exercise 4"
   ]
  },
  {
   "cell_type": "code",
   "execution_count": 3,
   "metadata": {},
   "outputs": [
    {
     "name": "stdout",
     "output_type": "stream",
     "text": [
      "Product: 1200\n",
      "    Sum: 70\n"
     ]
    }
   ],
   "source": [
    "number1 = 40\n",
    "number2 = 30\n",
    "product12 = number1*number2\n",
    "sum12 = number1 + number2\n",
    "print(\"Product: {}\\n    Sum: {}\".format(product12, sum12))"
   ]
  },
  {
   "cell_type": "markdown",
   "metadata": {},
   "source": [
    "## Exercise 5"
   ]
  },
  {
   "cell_type": "code",
   "execution_count": 4,
   "metadata": {},
   "outputs": [
    {
     "name": "stdout",
     "output_type": "stream",
     "text": [
      "**************************************************\n",
      "\t\tCoding Temple, Inc.\n",
      "\t\t283 Franklin St.\n",
      "\t\tBoston, MA\n",
      "==================================================\n",
      "\tProduct Name\tProduct Price\n",
      "\tBook\t\t$49.95\n",
      "\tComputer\t$579.99\n",
      "\tMonitor\t\t$124.89\n",
      "==================================================\n",
      "\t\t\tTotal\n",
      "\t\t\t$754.83\n",
      "==================================================\n",
      "\n",
      "\tThanks for shopping with us today!\n",
      "\n",
      "**************************************************\n"
     ]
    }
   ],
   "source": [
    "name1 = 'Book'\n",
    "price1 = 49.95\n",
    "name2 = 'Computer'\n",
    "price2 = 579.99\n",
    "name3 = 'Monitor'\n",
    "price3 = 124.89\n",
    "print(\"*\"*50)\n",
    "print(\"\\t\\tCoding Temple, Inc.\\n\\t\\t283 Franklin St.\\n\\t\\tBoston, MA\")\n",
    "print(\"=\"*50)\n",
    "print(\"\\tProduct Name\\tProduct Price\\n\\t{}\\t\\t${}\\n\\t{}\\t${}\\n\\t{}\\t\\t${}\".format(name1, price1, name2, price2, name3, price3))\n",
    "print(\"=\"*50)\n",
    "total = price1 + price2 + price3\n",
    "print(\"\\t\\t\\tTotal\\n\\t\\t\\t${}\".format(total))\n",
    "print(\"=\"*50)\n",
    "print(\"\\n\\tThanks for shopping with us today!\\n\")\n",
    "print(\"*\"*50)"
   ]
  },
  {
   "cell_type": "markdown",
   "metadata": {},
   "source": [
    "## Exercise 6"
   ]
  },
  {
   "cell_type": "code",
   "execution_count": 5,
   "metadata": {},
   "outputs": [
    {
     "name": "stdout",
     "output_type": "stream",
     "text": [
      "****************************************************\n",
      "*\t\tCoding Temple, Inc.\t\t   *\n",
      "*\t\t283 Franklin St.\t\t   *\n",
      "*\t\tBoston, MA\t\t\t   *\n",
      "*==================================================*\n",
      "*\tProduct Name\tProduct Price\t\t   *\n",
      "*\tBook\t\t$49.95\t\t\t   *\n",
      "*\tComputer\t$579.99\t\t\t   *\n",
      "*\tMonitor\t\t$124.89\t\t\t   *\n",
      "*==================================================*\n",
      "*\t\t\tTotal\t\t\t   *\n",
      "*\t\t\t$754.83\t\t\t   *\n",
      "*==================================================*\n",
      "*\t\t\t\t\t\t   *\n",
      "*\tThanks for shopping with us today!\t   *\n",
      "*\t\t\t\t\t\t   *\n",
      "****************************************************\n"
     ]
    }
   ],
   "source": [
    "name1 = 'Book'\n",
    "price1 = 49.95\n",
    "name2 = 'Computer'\n",
    "price2 = 579.99\n",
    "name3 = 'Monitor'\n",
    "price3 = 124.89\n",
    "print(\"*\"*52)\n",
    "print(\"*\\t\\tCoding Temple, Inc.\\t\\t   *\\n*\\t\\t283 Franklin St.\\t\\t   *\\n*\\t\\tBoston, MA\\t\\t\\t   *\")\n",
    "print(\"*\",\"*\", sep = \"=\"*50)\n",
    "print(\"*\\tProduct Name\\tProduct Price\\t\\t   *\\n*\\t{}\\t\\t${}\\t\\t\\t   *\\n*\\t{}\\t${}\\t\\t\\t   *\\n*\\t{}\\t\\t${}\\t\\t\\t   *\".format(name1, price1, name2, price2, name3, price3))\n",
    "print(\"*\",\"*\", sep = \"=\"*50)\n",
    "total = price1 + price2 + price3\n",
    "print(\"*\\t\\t\\tTotal\\t\\t\\t   *\\n*\\t\\t\\t${}\\t\\t\\t   *\".format(total))\n",
    "print(\"*\",\"*\", sep = \"=\"*50)\n",
    "print(\"*\", \"   *\", sep = \"\\t\"*6,)\n",
    "print(\"*\\tThanks for shopping with us today!\\t   *\")\n",
    "print(\"*\", \"   *\", sep = \"\\t\"*6,)\n",
    "print(\"*\"*52)"
   ]
  },
  {
   "cell_type": "markdown",
   "metadata": {},
   "source": [
    "## Exercise 7"
   ]
  },
  {
   "cell_type": "code",
   "execution_count": 6,
   "metadata": {},
   "outputs": [
    {
     "name": "stdout",
     "output_type": "stream",
     "text": [
      "Given string: Twinkle, twinkle, little star, How I wonder what you are! Up above the world so high, Like a diamond in the sky. Twinkle, twinkle, little star, How I wonder what you are\n",
      "\n",
      ">>> Length of given string: 169\n"
     ]
    }
   ],
   "source": [
    "sample = \"Twinkle, twinkle, little star, How I wonder what you are! Up above the \\\n",
    "world so high, Like a diamond in the sky. Twinkle, twinkle, little star, How I wonder what \\\n",
    "you are\"\n",
    "count = len(sample)\n",
    "print(\"Given string: {}\\n\\n>>> Length of given string: {}\".format(sample, count))"
   ]
  },
  {
   "cell_type": "markdown",
   "metadata": {},
   "source": [
    "## Exercise 8"
   ]
  },
  {
   "cell_type": "code",
   "execution_count": 7,
   "metadata": {},
   "outputs": [
    {
     "name": "stdout",
     "output_type": "stream",
     "text": [
      "My**Name**Is**James\n"
     ]
    }
   ],
   "source": [
    "print(\"My\", \"Name\", \"Is\", \"James\", sep = \"**\")"
   ]
  },
  {
   "cell_type": "markdown",
   "metadata": {},
   "source": [
    "## Exercise 9"
   ]
  },
  {
   "cell_type": "code",
   "execution_count": 8,
   "metadata": {},
   "outputs": [
    {
     "name": "stdout",
     "output_type": "stream",
     "text": [
      "Initial Number: 458.541315\n",
      "\n",
      ">>> Display this number with 2 decimal place: 458.54\n"
     ]
    }
   ],
   "source": [
    "number3 = 458.541315\n",
    "print(\"Initial Number: {}\".format(number3))\n",
    "print(\"\\n>>> Display this number with 2 decimal place: {:.2f}\".format(number3))"
   ]
  },
  {
   "cell_type": "markdown",
   "metadata": {},
   "source": [
    "## Exercise 10"
   ]
  },
  {
   "cell_type": "code",
   "execution_count": 9,
   "metadata": {},
   "outputs": [
    {
     "name": "stdout",
     "output_type": "stream",
     "text": [
      ">>> Input:\n",
      "\n",
      "Product 1:\n",
      "Product 2:\n",
      "Product 3:\n",
      "\n",
      ">>> Output:\n",
      "\n",
      "**************************************************\n",
      "\t\tCoding Temple, Inc.\n",
      "\t\t283 Franklin St.\n",
      "\t\tBoston, MA\n",
      "==================================================\n",
      "\tProduct Name\tProduct Price\n",
      "\tBook\t\t$49.95\n",
      "\tComputer\t$579.99\n",
      "\tMonitor\t\t$124.89\n",
      "==================================================\n",
      "\t\t\tTotal\n",
      "\t\t\t$754.83\n",
      "==================================================\n",
      "\n",
      "\tThanks for shopping with us today!\n",
      "\n",
      "**************************************************\n"
     ]
    }
   ],
   "source": [
    "#Input properties of products\n",
    "print(\">>> Input:\\n\")\n",
    "print(\"Product 1:\")\n",
    "name1b = input(\"\\tName: \")\n",
    "price1b = float(input(\"\\tPrice: $\"))\n",
    "print(\"Product 2:\")\n",
    "name2b = input(\"\\tName: \")\n",
    "price2b = float(input(\"\\tPrice: $\"))\n",
    "print(\"Product 3:\")\n",
    "name3b = input(\"\\tName: \")\n",
    "price3b = float(input(\"\\tPrice: $\"))\n",
    "\n",
    "#Print the result\n",
    "print(\"\\n>>> Output:\\n\")\n",
    "print(\"*\"*50)\n",
    "print(\"\\t\\tCoding Temple, Inc.\\n\\t\\t283 Franklin St.\\n\\t\\tBoston, MA\")\n",
    "print(\"=\"*50)\n",
    "print(\"\\tProduct Name\\tProduct Price\\n\\t{}\\t\\t${}\\n\\t{}\\t${}\\n\\t{}\\t\\t${}\".format(name1b, price1b, name2b, price2b, name3b, price3b))\n",
    "print(\"=\"*50)\n",
    "totalb = price1b + price2b + price3b\n",
    "print(\"\\t\\t\\tTotal\\n\\t\\t\\t${}\".format(totalb))\n",
    "print(\"=\"*50)\n",
    "print(\"\\n\\tThanks for shopping with us today!\\n\")\n",
    "print(\"*\"*50)"
   ]
  }
 ],
 "metadata": {
  "kernelspec": {
   "display_name": ".venv",
   "language": "python",
   "name": "python3"
  },
  "language_info": {
   "codemirror_mode": {
    "name": "ipython",
    "version": 3
   },
   "file_extension": ".py",
   "mimetype": "text/x-python",
   "name": "python",
   "nbconvert_exporter": "python",
   "pygments_lexer": "ipython3",
   "version": "3.11.7"
  }
 },
 "nbformat": 4,
 "nbformat_minor": 2
}
