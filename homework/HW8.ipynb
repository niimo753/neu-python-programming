{
 "cells": [
  {
   "cell_type": "markdown",
   "metadata": {},
   "source": [
    "__HOMEWORK 8__\n",
    "<br>\n",
    "Full Name: Nguyễn Thị Minh Ngọc\n",
    "<br>\n",
    "Student ID: 11219280\n",
    "<br>\n",
    "Class: DSEB 63"
   ]
  },
  {
   "cell_type": "code",
   "execution_count": 1,
   "metadata": {},
   "outputs": [],
   "source": [
    "import re"
   ]
  },
  {
   "cell_type": "markdown",
   "metadata": {},
   "source": [
    "## Exercise 2\n",
    "### Example 2.1"
   ]
  },
  {
   "cell_type": "code",
   "execution_count": 2,
   "metadata": {},
   "outputs": [
    {
     "name": "stdout",
     "output_type": "stream",
     "text": [
      "['Row, row, row your boat', 'Gently down the stream', 'Merrily merrily, merrily, merrily', 'Life is but a dream']\n"
     ]
    }
   ],
   "source": [
    "sample = '''Row, row, row your boat\n",
    "Gently down the stream\n",
    "Merrily merrily, merrily, merrily\n",
    "Life is but a dream'''\n",
    "sentences = re.split(\"\\n\", sample)\n",
    "print(sentences)"
   ]
  },
  {
   "cell_type": "markdown",
   "metadata": {},
   "source": [
    "### Example 2.2"
   ]
  },
  {
   "cell_type": "code",
   "execution_count": 4,
   "metadata": {},
   "outputs": [
    {
     "name": "stdout",
     "output_type": "stream",
     "text": [
      "['Row', 'row', 'row', 'your', 'boat', 'Gently', 'down', 'the', 'stream', 'Merrily', 'merrily', 'merrily', 'merrily', 'Life', 'is', 'but', 'a', 'dream']\n"
     ]
    }
   ],
   "source": [
    "sample = '''Row, row, row your boat\n",
    "Gently down the stream\n",
    "Merrily merrily, merrily, merrily\n",
    "Life is but a dream'''\n",
    "words = re.split('\\s|\\W\\s', sample)\n",
    "print(words)"
   ]
  },
  {
   "cell_type": "markdown",
   "metadata": {},
   "source": [
    "### Example 2.3"
   ]
  },
  {
   "cell_type": "code",
   "execution_count": 5,
   "metadata": {},
   "outputs": [
    {
     "name": "stdout",
     "output_type": "stream",
     "text": [
      "['Row', 'row', 'row', 'your', 'boat', 'Gently', 'down', 'the', 'stream', 'Merrily', 'merrily', 'merrily', 'merrily', 'Life', 'is', 'but', 'a', 'dream']\n"
     ]
    }
   ],
   "source": [
    "sample = '''Row, row, row your boat\n",
    "Gently down the stream\n",
    "Merrily merrily, merrily, merrily\n",
    "Life is but a dream'''\n",
    "words = re.split('\\W+', sample)\n",
    "print(words)"
   ]
  },
  {
   "cell_type": "markdown",
   "metadata": {},
   "source": [
    "## Exercise 3\n",
    "### Example 3.1"
   ]
  },
  {
   "cell_type": "code",
   "execution_count": 6,
   "metadata": {},
   "outputs": [
    {
     "name": "stdout",
     "output_type": "stream",
     "text": [
      "Row, row, row your boat - Gently down the stream - Merrily merrily, merrily, merrily - Life is but a dream\n"
     ]
    }
   ],
   "source": [
    "sample = '''Row, row, row your boat\n",
    "Gently down the stream\n",
    "Merrily merrily, merrily, merrily\n",
    "Life is but a dream'''\n",
    "sentence = re.sub('\\n', ' - ', sample)\n",
    "print(sentence)"
   ]
  },
  {
   "cell_type": "markdown",
   "metadata": {},
   "source": [
    "### Example 3.2"
   ]
  },
  {
   "cell_type": "code",
   "execution_count": 7,
   "metadata": {},
   "outputs": [
    {
     "name": "stdout",
     "output_type": "stream",
     "text": [
      "Anne - 0931 *** 483\n",
      "Diana - 0938 *** 832\n",
      "Minnie - 0912 *** 575\n"
     ]
    }
   ],
   "source": [
    "sample = '''Anne - 0931 234 483\n",
    "Diana - 0938 344 832\n",
    "Minnie - 0912 389 575'''\n",
    "#Hide a part of the phone number\n",
    "sentence = re.sub('\\s[0-9]{3}\\s', ' *** ', sample)\n",
    "print(sentence)"
   ]
  },
  {
   "cell_type": "markdown",
   "metadata": {},
   "source": [
    "### Example 3.3"
   ]
  },
  {
   "cell_type": "code",
   "execution_count": 8,
   "metadata": {},
   "outputs": [
    {
     "name": "stdout",
     "output_type": "stream",
     "text": [
      "Hello, Minnie! Hope that you will enjoy this game!\n"
     ]
    }
   ],
   "source": [
    "sample = 'Hello, [name]! Hope that you will enjoy this game!'\n",
    "name = input(\"Enter your name: \")\n",
    "text = re.sub('(.name.)',name, sample)\n",
    "print(text)"
   ]
  },
  {
   "cell_type": "markdown",
   "metadata": {},
   "source": [
    "## Exercise 4"
   ]
  },
  {
   "cell_type": "code",
   "execution_count": 9,
   "metadata": {},
   "outputs": [
    {
     "name": "stdout",
     "output_type": "stream",
     "text": [
      "The start index is 42\n",
      "The end index is 46\n",
      "The span index is (42, 46)\n"
     ]
    }
   ],
   "source": [
    "sample = 'That festival was taken palce in the year 2019, 2020 and 2021'\n",
    "match = re.search(\"\\d+\", sample)\n",
    "\n",
    "#start() - return the index where the match starts.\n",
    "print(f'The start index is {match.start()}')\n",
    "\n",
    "#end() - return the index where the match begins.\n",
    "print(f'The end index is {match.end()}')\n",
    "\n",
    "#span() - return a tuple, which contains the start and end position of the match.\n",
    "print(f'The span index is {match.span()}')"
   ]
  },
  {
   "cell_type": "code",
   "execution_count": 11,
   "metadata": {},
   "outputs": [
    {
     "name": "stdout",
     "output_type": "stream",
     "text": [
      "Groups: ('Jan 1987', '1987')\n",
      "Group 1: Jan 1987\n",
      "Group 2: 1987\n",
      "<re.Match object; span=(0, 28), match='Jan 1987, May 1969, Aug 2011'>\n",
      "((0, 28), (24, 28))\n",
      "{'year': '2011'}\n",
      "1\n",
      "year\n"
     ]
    }
   ],
   "source": [
    "sample = '''Jan 1987, May 1969, Aug 2011'''\n",
    "match = re.search('(\\w+.(\\d+))', sample)\n",
    "\n",
    "#groups() - return a tuple containing all the subgroups of the match.\n",
    "print(f'Groups: {match.groups()}')\n",
    "\n",
    "#group(...) - return a string or tuple containing one or more captured group, in the order given\n",
    "print(f'Group 1: {match.group(1)}\\nGroup 2: {match.group(2)}')\n",
    "\n",
    "#groupdict() - return a dictionary containing all the named subgroups of the match, keyed by the subgroup name.\n",
    "#regs - spans\n",
    "match = re.search(r'.+(?P<year>\\d{4})', sample)\n",
    "print(match)\n",
    "print(match.regs)\n",
    "print(match.groupdict())\n",
    "\n",
    "#lastindex - the integer index of the last matched capturing group, or None if no group was matched at all.\n",
    "#lastgroup - the name of the last matched capturing group, or None if the group didn't have a name, or if no group was matched at all.\n",
    "print(match.lastindex)\n",
    "print(match.lastgroup)"
   ]
  },
  {
   "cell_type": "code",
   "execution_count": 12,
   "metadata": {},
   "outputs": [
    {
     "name": "stdout",
     "output_type": "stream",
     "text": [
      "Before: <re.Match object; span=(0, 8), match='Jan 1987'>\n",
      "After: Result - Jan 1987\n"
     ]
    }
   ],
   "source": [
    "#expand - Return a transformed version of template string, with back references replaced from the captured pattern\n",
    "sample = '''Jan 1987, May 1969, Aug 2011'''\n",
    "match = re.search('(\\w+.(\\d+))', sample)\n",
    "print(f'Before: {match}')\n",
    "match = match.expand(r'Result - \\1')\n",
    "print(f'After: {match}')"
   ]
  },
  {
   "cell_type": "code",
   "execution_count": 13,
   "metadata": {},
   "outputs": [
    {
     "name": "stdout",
     "output_type": "stream",
     "text": [
      "<re.Match object; span=(48, 52), match='2020'>\n",
      "That festival was taken palce in the year 2019, 2020 and 2021\n"
     ]
    }
   ],
   "source": [
    "#pos - The value of pos which was passed to the search() or match() method of a regex object.\n",
    "#endpos - The value of endpos which was passed to the search() or match()\n",
    "#re - The regular expression object whose match() or search() method produced this Match Object instance.\n",
    "sample = 'That festival was taken palce in the year 2019, 2020 and 2021'\n",
    "match = re.compile('\\d+').search(sample, pos = 46, endpos = 55)\n",
    "print(match)\n",
    "\n",
    "#string - the string passed to match() or search().\n",
    "print(match.string)"
   ]
  }
 ],
 "metadata": {
  "kernelspec": {
   "display_name": ".venv",
   "language": "python",
   "name": "python3"
  },
  "language_info": {
   "codemirror_mode": {
    "name": "ipython",
    "version": 3
   },
   "file_extension": ".py",
   "mimetype": "text/x-python",
   "name": "python",
   "nbconvert_exporter": "python",
   "pygments_lexer": "ipython3",
   "version": "3.11.7"
  }
 },
 "nbformat": 4,
 "nbformat_minor": 2
}
