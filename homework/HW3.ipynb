{
 "cells": [
  {
   "cell_type": "markdown",
   "metadata": {},
   "source": [
    "__HOMEWORK 1__\n",
    "<br>\n",
    "Full Name: Nguyễn Thị Minh Ngọc\n",
    "<br>\n",
    "Student ID: 11219280\n",
    "<br>\n",
    "Class: DSEB 63"
   ]
  },
  {
   "cell_type": "markdown",
   "metadata": {},
   "source": [
    "## Exercise 1\n",
    "### a"
   ]
  },
  {
   "cell_type": "code",
   "execution_count": 2,
   "metadata": {},
   "outputs": [
    {
     "name": "stdout",
     "output_type": "stream",
     "text": [
      "List 1 =  ['M', 'na', 'i', 'Ke']\n",
      "List 2 =  ['y', 'me', 's', 'lly']\n",
      "\n",
      ">>> Output: ['My', 'name', 'is', 'Kelly']\n"
     ]
    }
   ],
   "source": [
    "list1_1a = [\"M\", \"na\", \"i\", \"Ke\"]\n",
    "list2_1a = [\"y\", \"me\", \"s\", \"lly\"]\n",
    "list3_1a = []\n",
    "print(\"List 1 = \", list1_1a)\n",
    "print(\"List 2 = \", list2_1a)\n",
    "for i in range(0,4):\n",
    "    list3_1a.append(f\"{list1_1a[i]}{list2_1a[i]}\")\n",
    "print(\"\\n>>> Output:\", list3_1a)"
   ]
  },
  {
   "cell_type": "markdown",
   "metadata": {},
   "source": [
    "### b"
   ]
  },
  {
   "cell_type": "code",
   "execution_count": 3,
   "metadata": {},
   "outputs": [
    {
     "name": "stdout",
     "output_type": "stream",
     "text": [
      "List 1 =  ['Hello ', 'take ']\n",
      "List 2 =  ['Dear', 'Sir']\n",
      "\n",
      ">>> Output: ['Hello  Dear', 'Hello  Sir', 'take  Dear', 'take  Sir']\n"
     ]
    }
   ],
   "source": [
    "list1_1b = [\"Hello \", \"take \"]\n",
    "list2_1b = [\"Dear\", \"Sir\"]\n",
    "list3_1b = []\n",
    "print(\"List 1 = \", list1_1b)\n",
    "print(\"List 2 = \", list2_1b)\n",
    "for i1 in range(0, 2):\n",
    "    for i2 in range(0, 2):\n",
    "        list3_1b.append(f\"{list1_1b[i1]} {list2_1b[i2]}\")\n",
    "print(\"\\n>>> Output:\", list3_1b)"
   ]
  },
  {
   "cell_type": "markdown",
   "metadata": {},
   "source": [
    "## Exercise 2"
   ]
  },
  {
   "cell_type": "code",
   "execution_count": 4,
   "metadata": {},
   "outputs": [
    {
     "name": "stdout",
     "output_type": "stream",
     "text": [
      "List 1 =  [10, 20, 30, 40]\n",
      "List 2 =  [100, 200, 300, 400]\n",
      "\n",
      ">>> Output:\n",
      "\n",
      "10 400\n",
      "20 300\n",
      "30 200\n",
      "40 100\n"
     ]
    }
   ],
   "source": [
    "list1_2 = [10, 20, 30, 40]\n",
    "list2_2 = [100, 200, 300, 400]\n",
    "print(\"List 1 = \", list1_2)\n",
    "print(\"List 2 = \", list2_2)\n",
    "print(\"\\n>>> Output:\\n\")\n",
    "for i in range(0,4):\n",
    "    print(list1_2[i], list2_2[-(i+1)])"
   ]
  },
  {
   "cell_type": "markdown",
   "metadata": {},
   "source": [
    "## Exercise 3"
   ]
  },
  {
   "cell_type": "code",
   "execution_count": 5,
   "metadata": {},
   "outputs": [
    {
     "name": "stdout",
     "output_type": "stream",
     "text": [
      "Original list: [10, 20, [300, 400, [5000, 6000], 500], 30, 40]\n",
      "\n",
      ">>> Ouput: [10, 20, [300, 400, [5000, 6000, 7000], 500], 30, 40]\n"
     ]
    }
   ],
   "source": [
    "list1_3 = [10, 20, [300, 400, [5000, 6000], 500], 30, 40]\n",
    "print(\"Original list:\", list1_3)\n",
    "list1_3[2][2].append(7000)\n",
    "print(\"\\n>>> Ouput:\", list1_3)"
   ]
  },
  {
   "cell_type": "markdown",
   "metadata": {},
   "source": [
    "## Exercise 4"
   ]
  },
  {
   "cell_type": "code",
   "execution_count": 6,
   "metadata": {},
   "outputs": [
    {
     "name": "stdout",
     "output_type": "stream",
     "text": [
      "Original list: ['a', 'b', ['c', ['d', 'e', ['f', 'g'], 'k'], 'l'], 'm', 'n']\n",
      "\n",
      ">>> Output: ['a', 'b', ['c', ['d', 'e', ['f', 'g', 'h', 'i', 'j'], 'k'], 'l'], 'm', 'n']\n"
     ]
    }
   ],
   "source": [
    "list1_4 = [\"a\", \"b\", [\"c\", [\"d\", \"e\", [\"f\", \"g\"], \"k\"], \"l\"], \"m\", \"n\"]\n",
    "print(\"Original list:\", list1_4)\n",
    "sublist1_4 = [\"h\", \"i\", \"j\"]\n",
    "list1_4[2][1][2].extend(sublist1_4)\n",
    "print(\"\\n>>> Output:\", list1_4)"
   ]
  },
  {
   "cell_type": "markdown",
   "metadata": {},
   "source": [
    "## Exercise 5"
   ]
  },
  {
   "cell_type": "code",
   "execution_count": 7,
   "metadata": {},
   "outputs": [
    {
     "name": "stdout",
     "output_type": "stream",
     "text": [
      "Original List: [5, 20, 15, 20, 25, 50, 20]\n",
      "\n",
      ">>> Remove all occurrence of 20: [5, 15, 25, 50]\n"
     ]
    }
   ],
   "source": [
    "list1_5 = [5, 20, 15, 20, 25, 50, 20]\n",
    "print(\"Original List:\", list1_5)\n",
    "lim = len(list1_5)\n",
    "count = 1\n",
    "for i in range(0, lim):\n",
    "    if list1_5[i] == 20:\n",
    "        count += 1\n",
    "for i in range(1, count):\n",
    "    list1_5.remove(20)\n",
    "print(\"\\n>>> Remove all occurrence of 20:\", list1_5)"
   ]
  },
  {
   "cell_type": "markdown",
   "metadata": {},
   "source": [
    "## Exercise 6"
   ]
  },
  {
   "cell_type": "code",
   "execution_count": 8,
   "metadata": {},
   "outputs": [
    {
     "name": "stdout",
     "output_type": "stream",
     "text": [
      ">>> 15 approximation of pi:\n",
      "\n",
      "1: pi = 3.1666666666666665\n",
      "2: pi = 3.1333333333333333\n",
      "3: pi = 3.145238095238095\n",
      "4: pi = 3.1396825396825396\n",
      "5: pi = 3.1427128427128426\n",
      "6: pi = 3.1408813408813407\n",
      "7: pi = 3.142071817071817\n",
      "8: pi = 3.1412548236077646\n",
      "9: pi = 3.141839618929402\n",
      "10: pi = 3.1414067184965018\n",
      "11: pi = 3.1417360992606653\n",
      "12: pi = 3.141479689004255\n",
      "13: pi = 3.1416831892077552\n",
      "14: pi = 3.1415189855952756\n",
      "15: pi = 3.141653394197426\n"
     ]
    }
   ],
   "source": [
    "pi = []\n",
    "print(\">>> 15 approximation of pi:\\n\")\n",
    "n = 2\n",
    "for i in range (0,15):\n",
    "    if i==0:\n",
    "        pi.append(3 + 4/(n*(n+1)*(n+2)))\n",
    "    else:\n",
    "        if i%2==0:\n",
    "            pi.append(pi[i-1] + 4/(n*(n+1)*(n+2)))\n",
    "        else:\n",
    "            pi.append(pi[i-1] - 4/(n*(n+1)*(n+2)))\n",
    "    print(\"{}: pi = {}\".format(i + 1, pi[i]))\n",
    "    n += 2"
   ]
  },
  {
   "attachments": {
    "image.png": {
     "image/png": "[encoded data removed]"
    }
   },
   "cell_type": "markdown",
   "metadata": {},
   "source": [
    "## Exercise 7\n",
    "### Approximating the following integral:\n",
    "![image.png](attachment:image.png)\n",
    "### a - By The Trapezoidal Rule"
   ]
  },
  {
   "cell_type": "code",
   "execution_count": 10,
   "metadata": {},
   "outputs": [
    {
     "name": "stdout",
     "output_type": "stream",
     "text": [
      ">>> Input:\n",
      "\n",
      ">>> The integral of f(x) from a to b by Trapezoidal Rule is about: 0.6956349206349208\n"
     ]
    }
   ],
   "source": [
    "print(\">>> Input:\")\n",
    "a_7a = float(input(\"Lower limit of integral: a = \"))\n",
    "b_7a = float(input(\"Upper limit of integral b = \"))\n",
    "sub_7a = int(input(\"The number (n) of equal subintervals want (n must be a positive integer): n = \"))\n",
    "while (sub_7a <= 0):\n",
    "    sub_7a = int(input(\"\\t> n must be a positive integer. Try again: n = \"))\n",
    "delta_x_7a = (b_7a - a_7a)/sub_7a\n",
    "integral_7a = 1/a_7a\n",
    "for i in range (1, sub_7a+1):\n",
    "    if i != sub_7a:\n",
    "        integral_7a += 2*(1/(a_7a + i*delta_x_7a))\n",
    "    else:\n",
    "        integral_7a += 1/b_7a\n",
    "integral_7a = integral_7a*(delta_x_7a/2)\n",
    "print(\"\\n>>> The integral of f(x) from a to b by Trapezoidal Rule is about:\", integral_7a)"
   ]
  },
  {
   "cell_type": "markdown",
   "metadata": {},
   "source": [
    "### b - By The Simpson's rule"
   ]
  },
  {
   "cell_type": "code",
   "execution_count": 11,
   "metadata": {},
   "outputs": [
    {
     "name": "stdout",
     "output_type": "stream",
     "text": [
      ">>> Input:\n",
      "\n",
      ">>> The integral of f(x) from a to b by Simpson's Rule is about: 0.6931502306889303\n"
     ]
    }
   ],
   "source": [
    "print(\">>> Input:\")\n",
    "a_7b = float(input(\"Lower limit of integral: a = \"))\n",
    "b_7b = float(input(\"Upper limit of integral b = \"))\n",
    "sub_7b = int(input(\"The number (n) of subintervals wanted (n must be an even positive integer): n = \"))\n",
    "while (sub_7b%2 == 1 or sub_7b <= 0):\n",
    "    sub_7b = int(input(\"\\t> n must be an even positive integer. Try again: n = \"))\n",
    "delta_x_7b = (b_7b - a_7b)/sub_7b\n",
    "integral_7b = 1/a_7b\n",
    "for i in range (1, sub_7b+1):\n",
    "    if i != sub_7b:\n",
    "        if i%2 == 1:\n",
    "            integral_7b += 4*(1/(a_7b + i*delta_x_7b))\n",
    "        else:\n",
    "            integral_7b += 2*(1/(a_7b + i*delta_x_7b))\n",
    "    else:\n",
    "        integral_7b += 1/b_7b\n",
    "integral_7b = integral_7b*(delta_x_7b/3)\n",
    "print(\"\\n>>> The integral of f(x) from a to b by Simpson's Rule is about:\", integral_7b)"
   ]
  }
 ],
 "metadata": {
  "kernelspec": {
   "display_name": ".venv",
   "language": "python",
   "name": "python3"
  },
  "language_info": {
   "codemirror_mode": {
    "name": "ipython",
    "version": 3
   },
   "file_extension": ".py",
   "mimetype": "text/x-python",
   "name": "python",
   "nbconvert_exporter": "python",
   "pygments_lexer": "ipython3",
   "version": "3.11.7"
  }
 },
 "nbformat": 4,
 "nbformat_minor": 2
}
