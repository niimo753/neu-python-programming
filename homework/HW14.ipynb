{
 "cells": [
  {
   "cell_type": "markdown",
   "metadata": {},
   "source": [
    "__HOMEWORK 14__\n",
    "<br>\n",
    "Full Name: Nguyễn Thị Minh Ngọc\n",
    "<br>\n",
    "Student ID: 11219280\n",
    "<br>\n",
    "Class: DSEB 63"
   ]
  },
  {
   "cell_type": "code",
   "execution_count": 37,
   "metadata": {},
   "outputs": [],
   "source": [
    "import numpy as np\n",
    "import json"
   ]
  },
  {
   "cell_type": "markdown",
   "metadata": {},
   "source": [
    "## Exercise 1"
   ]
  },
  {
   "cell_type": "code",
   "execution_count": 38,
   "metadata": {},
   "outputs": [],
   "source": [
    "class Story:\n",
    "    \n",
    "    def __init__(self, story = None):\n",
    "        if story == None:\n",
    "            self.path = input(\"Enter the path of the story chosen: \")\n",
    "        else:\n",
    "            self.path = story\n",
    "        # attributes\n",
    "        self.lines = []\n",
    "        self.words = []\n",
    "        self.string = ''\n",
    "        self.count_lines = 0\n",
    "        self.count_words = 0\n",
    "        self.words_freq = {}\n",
    "        self.words_per_line = {}\n",
    "        \n",
    "        # read files\n",
    "        with open(self.path) as file:\n",
    "            self.contents = file.read()\n",
    "        with open(self.path) as file:\n",
    "            self.lines = file.readlines()\n",
    "            for i in range(len(self.lines)):\n",
    "                self.lines[i] = self.lines[i].replace('\\n', '')\n",
    "                self.lines[i] = self.lines[i].strip()\n",
    "            while '' in self.lines:\n",
    "                self.lines.remove('')\n",
    "        \n",
    "        # string\n",
    "        self.string = self.lines[0]\n",
    "        for line in self.lines[1::]:\n",
    "            self.string += f\" {line}\"\n",
    "        self.string = self.string.lower()\n",
    "        self.words = self.string.split()\n",
    "        \n",
    "        # words per line\n",
    "        for i in range(len(self.lines)):\n",
    "            words_line = self.lines[i].split()\n",
    "            keys = i+1\n",
    "            self.words_per_line[keys] = len(words_line)\n",
    "            \n",
    "    def count_line(self):\n",
    "            self.count_lines = len(self.lines)\n",
    "            return self.count_lines\n",
    "            \n",
    "    def count_word(self, start_line = None, end_line = None):\n",
    "        if start_line == None:\n",
    "            start_line = 1\n",
    "        if end_line == None:\n",
    "            end_line = len(self.lines)\n",
    "        sum_words = sum(self.words_per_line[i] for i in range(start_line, end_line+1))\n",
    "        return sum_words\n",
    "\n",
    "    def count_word_freq(self, word_find = None):\n",
    "        words_set = set(self.words)\n",
    "        for word in words_set:\n",
    "            self.words_freq[word] = self.words.count(word)\n",
    "        if word_find == None:\n",
    "            return self.words_freq\n",
    "        else:\n",
    "            word_find = word_find.lower()\n",
    "            return self.words_freq[word_find]"
   ]
  },
  {
   "cell_type": "markdown",
   "metadata": {},
   "source": [
    "### Ex1 - a"
   ]
  },
  {
   "cell_type": "code",
   "execution_count": 39,
   "metadata": {},
   "outputs": [
    {
     "name": "stdout",
     "output_type": "stream",
     "text": [
      "Number of words: 29575\n",
      "Number of lines: 3966\n",
      "Number of the word \"Hamlet\": 100\n",
      ">>> Hamlet is not the most frequent word.\n"
     ]
    }
   ],
   "source": [
    "story = Story(r'../data/Book/English/shakespeare/Hamlet.txt')\n",
    "result = {'Hamlet.txt': {}, 'La capitaine.txt': {}}\n",
    "\n",
    "# a-1\n",
    "print(\"Number of words:\", story.count_word())\n",
    "result['Hamlet.txt'][\"Number of words\"] = story.count_word()\n",
    "\n",
    "# a-2\n",
    "print(\"Number of lines:\", story.count_line())\n",
    "result['Hamlet.txt'][\"Number of lines\"] = story.count_line()\n",
    "\n",
    "# a-3\n",
    "hamlet_freq = story.count_word_freq(\"Hamlet\")\n",
    "print('Number of the word \"Hamlet\":', story.count_word_freq(\"Hamlet\"))\n",
    "result['Hamlet.txt']['Number of the word \"Hamlet\"'] = [story.count_word_freq(\"Hamlet\")]\n",
    "most_freq_word = max(story.words_freq.values())\n",
    "if hamlet_freq == most_freq_word:\n",
    "    print(\">>> Hamlet is the most frequent word.\")\n",
    "    result['Hamlet.txt']['Number of the word \"Hamlet\"'].append(\"the most frequent\")\n",
    "else:\n",
    "    print(\">>> Hamlet is not the most frequent word.\")\n",
    "    result['Hamlet.txt']['Number of the word \"Hamlet\"'].append(\"not the most frequent word\")"
   ]
  },
  {
   "cell_type": "markdown",
   "metadata": {},
   "source": [
    "### Ex1 - b"
   ]
  },
  {
   "cell_type": "code",
   "execution_count": 40,
   "metadata": {},
   "outputs": [
    {
     "name": "stdout",
     "output_type": "stream",
     "text": [
      ">>> Number of words are there from line 100 to line 300: 1886\n",
      "\n",
      ">>> Line with the most number of words: ['Line 3711']\n",
      "\n",
      ">>> Line with the least number of words: ['Line 13', 'Line 28', 'Line 55', 'Line 72', 'Line 95', 'Line 176', 'Line 191', 'Line 206', 'Line 216', 'Line 244', 'Line 263', 'Line 278', 'Line 293', 'Line 302', 'Line 305', 'Line 311', 'Line 320', 'Line 324', 'Line 332', 'Line 371', 'Line 384', 'Line 445', 'Line 456', 'Line 459', 'Line 500', 'Line 515', 'Line 553', 'Line 559', 'Line 561', 'Line 592', 'Line 596', 'Line 614', 'Line 688', 'Line 758', 'Line 800', 'Line 805', 'Line 827', 'Line 832', 'Line 850', 'Line 854', 'Line 866', 'Line 869', 'Line 885', 'Line 887', 'Line 905', 'Line 909', 'Line 967', 'Line 973', 'Line 977', 'Line 983', 'Line 987', 'Line 1002', 'Line 1009', 'Line 1040', 'Line 1063', 'Line 1073', 'Line 1081', 'Line 1096', 'Line 1104', 'Line 1140', 'Line 1165', 'Line 1195', 'Line 1200', 'Line 1203', 'Line 1212', 'Line 1227', 'Line 1238', 'Line 1246', 'Line 1261', 'Line 1263', 'Line 1270', 'Line 1294', 'Line 1305', 'Line 1312', 'Line 1326', 'Line 1347', 'Line 1373', 'Line 1392', 'Line 1393', 'Line 1421', 'Line 1457', 'Line 1462', 'Line 1474', 'Line 1480', 'Line 1488', 'Line 1509', 'Line 1517', 'Line 1567', 'Line 1573', 'Line 1581', 'Line 1611', 'Line 1620', 'Line 1638', 'Line 1661', 'Line 1676', 'Line 1689', 'Line 1693', 'Line 1729', 'Line 1740', 'Line 1745', 'Line 1753', 'Line 1762', 'Line 1801', 'Line 1828', 'Line 1850', 'Line 1855', 'Line 1884', 'Line 1903', 'Line 1906', 'Line 1934', 'Line 1956', 'Line 1969', 'Line 2023', 'Line 2054', 'Line 2073', 'Line 2084', 'Line 2120', 'Line 2128', 'Line 2147', 'Line 2172', 'Line 2185', 'Line 2189', 'Line 2190', 'Line 2191', 'Line 2193', 'Line 2200', 'Line 2215', 'Line 2217', 'Line 2224', 'Line 2230', 'Line 2232', 'Line 2246', 'Line 2253', 'Line 2257', 'Line 2269', 'Line 2271', 'Line 2289', 'Line 2310', 'Line 2327', 'Line 2334', 'Line 2380', 'Line 2395', 'Line 2399', 'Line 2414', 'Line 2428', 'Line 2436', 'Line 2441', 'Line 2450', 'Line 2459', 'Line 2470', 'Line 2481', 'Line 2492', 'Line 2515', 'Line 2547', 'Line 2553', 'Line 2562', 'Line 2594', 'Line 2609', 'Line 2616', 'Line 2646', 'Line 2656', 'Line 2675', 'Line 2681', 'Line 2684', 'Line 2686', 'Line 2688', 'Line 2692', 'Line 2709', 'Line 2722', 'Line 2778', 'Line 2790', 'Line 2802', 'Line 2819', 'Line 2843', 'Line 2854', 'Line 2873', 'Line 2889', 'Line 2893', 'Line 2896', 'Line 2906', 'Line 2926', 'Line 2943', 'Line 2970', 'Line 2991', 'Line 3003', 'Line 3016', 'Line 3018', 'Line 3023', 'Line 3045', 'Line 3080', 'Line 3128', 'Line 3144', 'Line 3166', 'Line 3169', 'Line 3173', 'Line 3222', 'Line 3253', 'Line 3260', 'Line 3262', 'Line 3352', 'Line 3366', 'Line 3369', 'Line 3377', 'Line 3383', 'Line 3384', 'Line 3400', 'Line 3434', 'Line 3445', 'Line 3505', 'Line 3588', 'Line 3635', 'Line 3637', 'Line 3645', 'Line 3663', 'Line 3682', 'Line 3692', 'Line 3718', 'Line 3737', 'Line 3744', 'Line 3760', 'Line 3773', 'Line 3779', 'Line 3784', 'Line 3791', 'Line 3801', 'Line 3807', 'Line 3822', 'Line 3855', 'Line 3864', 'Line 3868', 'Line 3896', 'Line 3937', 'Line 3939', 'Line 3949', 'Line 3955', 'Line 3982', 'Line 3997', 'Line 4002', 'Line 4017', 'Line 4044', 'Line 4046', 'Line 4049', 'Line 4104', 'Line 4147', 'Line 4151', 'Line 4154', 'Line 4156', 'Line 4164', 'Line 4168', 'Line 4176', 'Line 4192', 'Line 4195', 'Line 4209', 'Line 4223', 'Line 4247', 'Line 4260', 'Line 4265', 'Line 4290', 'Line 4308', 'Line 4310', 'Line 4331', 'Line 4334', 'Line 4359', 'Line 4371', 'Line 4400', 'Line 4443', 'Line 4460', 'Line 4472', 'Line 4548', 'Line 4559', 'Line 4590', 'Line 4603', 'Line 4605', 'Line 4618', 'Line 4643', 'Line 4652', 'Line 4659', 'Line 4718', 'Line 4724', 'Line 4751', 'Line 4797', 'Line 4838', 'Line 4856', 'Line 4893', 'Line 4902', 'Line 4918', 'Line 4923', 'Line 4936', 'Line 4962', 'Line 4963', 'Line 4969', 'Line 4980', 'Line 4997', 'Line 5001', 'Line 5045', 'Line 5056', 'Line 5069', 'Line 5089', 'Line 5103', 'Line 5105', 'Line 5115', 'Line 5151', 'Line 5200', 'Line 5220', 'Line 5224', 'Line 5249', 'Line 5255', 'Line 5256', 'Line 5264', 'Line 5266', 'Line 5269', 'Line 5277', 'Line 5287', 'Line 5291', 'Line 5307', 'Line 5308', 'Line 5309', 'Line 5310', 'Line 5322', 'Line 5327', 'Line 5338', 'Line 5344', 'Line 5363', 'Line 5372', 'Line 5417', 'Line 5438', 'Line 5469', 'Line 5501', 'Line 5524', 'Line 5574', 'Line 5593', 'Line 5623', 'Line 5633']\n",
      "\n",
      ">>> Line with the maximum length: ['Line 2524']\n"
     ]
    }
   ],
   "source": [
    "story2 = Story('../data/Book/French/chevalier/La capitaine.txt')\n",
    "\n",
    "# b-1\n",
    "print(\">>> Number of words are there from line 100 to line 300:\", story2.count_word(start_line = 100, end_line = 300))\n",
    "result['La capitaine.txt'][\"Number of words are there from line 100 to line 300\"] = story2.count_word(start_line = 100, end_line = 300)\n",
    "\n",
    "# b-2\n",
    "words_max_line = max(story2.words_per_line.values())\n",
    "line_max_words = []\n",
    "for i in story2.words_per_line:\n",
    "    if words_max_line == story2.words_per_line[i]:\n",
    "        line_max_words.append(f'Line {i}')\n",
    "print(\"\\n>>> Line with the most number of words:\", line_max_words)\n",
    "result['La capitaine.txt'][\"Line with the most number of words\"] = line_max_words\n",
    "\n",
    "# b-3\n",
    "words_min_line = min(story2.words_per_line.values())\n",
    "line_min_words = []\n",
    "for i in story2.words_per_line:\n",
    "    if words_min_line == story2.words_per_line[i]:\n",
    "        line_min_words.append(f'Line {i}')\n",
    "print(\"\\n>>> Line with the least number of words:\", line_min_words)\n",
    "result['La capitaine.txt'][\"Line with the least number of words\"] = line_min_words\n",
    "\n",
    "# b-4\n",
    "line_longest = []\n",
    "max_length = max(len(i) for i in story2.lines)\n",
    "for i in range(len(story2.lines)):\n",
    "    if len(story2.lines[i]) == max_length:\n",
    "        line_longest.append(f'Line {i+1}')\n",
    "print(\"\\n>>> Line with the maximum length:\", line_longest)\n",
    "result['La capitaine.txt'][\"Line with the maximum length\"] = line_longest"
   ]
  },
  {
   "cell_type": "markdown",
   "metadata": {},
   "source": [
    "### Ex1 - c"
   ]
  },
  {
   "cell_type": "code",
   "execution_count": 41,
   "metadata": {},
   "outputs": [],
   "source": [
    "with open('../output/hw14_result_ex1.json', 'w') as file:\n",
    "    json.dump(result, file)"
   ]
  },
  {
   "cell_type": "markdown",
   "metadata": {},
   "source": [
    "## Exercise 2\n",
    "### Ex2 - 1"
   ]
  },
  {
   "cell_type": "code",
   "execution_count": 42,
   "metadata": {},
   "outputs": [],
   "source": [
    "a1 = np.zeros(10, dtype = int)\n",
    "a2 = np.ones(10, dtype = int)\n",
    "a3 = np.full(10, 5)"
   ]
  },
  {
   "cell_type": "markdown",
   "metadata": {},
   "source": [
    "### Ex2 - 2"
   ]
  },
  {
   "cell_type": "code",
   "execution_count": 43,
   "metadata": {},
   "outputs": [
    {
     "name": "stdout",
     "output_type": "stream",
     "text": [
      "[30 32 34 36 38 40 42 44 46 48 50 52 54 56 58 60 62 64 66 68]\n"
     ]
    }
   ],
   "source": [
    "a4 = np.arange(30, 70, 2)\n",
    "print(a4)"
   ]
  },
  {
   "cell_type": "markdown",
   "metadata": {},
   "source": [
    "### Ex2 - 3"
   ]
  },
  {
   "cell_type": "code",
   "execution_count": 44,
   "metadata": {},
   "outputs": [
    {
     "name": "stdout",
     "output_type": "stream",
     "text": [
      "[[1 0 0]\n",
      " [0 1 0]\n",
      " [0 0 1]]\n"
     ]
    }
   ],
   "source": [
    "a5 = np.eye(3, dtype = int)\n",
    "print(a5)"
   ]
  },
  {
   "cell_type": "markdown",
   "metadata": {},
   "source": [
    "### Ex2 - 4"
   ]
  },
  {
   "cell_type": "code",
   "execution_count": 45,
   "metadata": {},
   "outputs": [
    {
     "name": "stdout",
     "output_type": "stream",
     "text": [
      "0.8495434761489726\n"
     ]
    }
   ],
   "source": [
    "a6 = np.random.random()\n",
    "print(a6)"
   ]
  },
  {
   "cell_type": "markdown",
   "metadata": {},
   "source": [
    "### Ex2 - 5"
   ]
  },
  {
   "cell_type": "code",
   "execution_count": 46,
   "metadata": {},
   "outputs": [
    {
     "name": "stdout",
     "output_type": "stream",
     "text": [
      "[-0.39841413 -0.60152791  0.68229428 -0.51467768 -0.32483057 -1.29203047\n",
      "  0.69592452 -0.50275962  0.7969123   1.01904916 -1.03748773  1.68668815\n",
      "  0.64887646  0.365577   -1.83057818]\n"
     ]
    }
   ],
   "source": [
    "a7 = np.random.normal(0, 1, 15)\n",
    "print(a7)"
   ]
  },
  {
   "cell_type": "markdown",
   "metadata": {},
   "source": [
    "### Ex2 - 6"
   ]
  },
  {
   "cell_type": "code",
   "execution_count": 47,
   "metadata": {},
   "outputs": [
    {
     "name": "stdout",
     "output_type": "stream",
     "text": [
      "[  0   1   2   3   4   5   6   7   8  -9 -10 -11 -12 -13 -14 -15  16  17\n",
      "  18  19  20]\n"
     ]
    }
   ],
   "source": [
    "a8 = np.arange(21)\n",
    "a8[(a8 >= 9) & (a8 <= 15)] *= -1\n",
    "print(a8)"
   ]
  },
  {
   "cell_type": "markdown",
   "metadata": {},
   "source": [
    "### Ex2 - 7"
   ]
  },
  {
   "cell_type": "code",
   "execution_count": 48,
   "metadata": {},
   "outputs": [
    {
     "name": "stdout",
     "output_type": "stream",
     "text": [
      "[[10 11 12 13]\n",
      " [14 15 16 17]\n",
      " [18 19 20 21]]\n"
     ]
    }
   ],
   "source": [
    "a9 = np.arange(10, 22).reshape(3,4)\n",
    "print(a9)"
   ]
  },
  {
   "cell_type": "markdown",
   "metadata": {},
   "source": [
    "### Ex2 - 8"
   ]
  },
  {
   "cell_type": "code",
   "execution_count": 49,
   "metadata": {},
   "outputs": [
    {
     "name": "stdout",
     "output_type": "stream",
     "text": [
      "[[1 0 0 0 0]\n",
      " [0 2 0 0 0]\n",
      " [0 0 3 0 0]\n",
      " [0 0 0 4 0]\n",
      " [0 0 0 0 5]]\n"
     ]
    }
   ],
   "source": [
    "a10 = np.zeros((5,5), int)\n",
    "for i in range(len(a10)):\n",
    "    for j in range(len(a10[i])):\n",
    "        if i == j:\n",
    "            a10[i][j] = i+1\n",
    "print(a10)"
   ]
  },
  {
   "cell_type": "markdown",
   "metadata": {},
   "source": [
    "### Ex2 - 9"
   ]
  },
  {
   "cell_type": "code",
   "execution_count": 50,
   "metadata": {},
   "outputs": [
    {
     "name": "stdout",
     "output_type": "stream",
     "text": [
      "[[0 1 0 1]\n",
      " [1 0 1 0]\n",
      " [0 1 0 1]\n",
      " [1 0 1 0]]\n"
     ]
    }
   ],
   "source": [
    "a11 = np.zeros((4,4), int)\n",
    "for i in range(len(a11)):\n",
    "    for j in range(len(a11[i])):\n",
    "        if (i+j)%2 == 1:\n",
    "            a11[i][j] = 1\n",
    "print(a11)"
   ]
  },
  {
   "cell_type": "markdown",
   "metadata": {},
   "source": [
    "### Ex2 - 10"
   ]
  },
  {
   "cell_type": "code",
   "execution_count": 51,
   "metadata": {},
   "outputs": [
    {
     "name": "stdout",
     "output_type": "stream",
     "text": [
      "[0.33987871 0.83720168 0.40072488 0.87242595 0.82152272 0.55897622\n",
      " 0.49974107 0.25749621 0.89886    0.49238304]\n",
      "[0.33987871 0.83720168 0.40072488 0.87242595 0.82152272 0.55897622\n",
      " 0.49974107 0.25749621 0.         0.49238304]\n"
     ]
    }
   ],
   "source": [
    "a12 = np.random.random(10)\n",
    "print(a12)\n",
    "a12[a12.argmax()] = 0\n",
    "print(a12)"
   ]
  },
  {
   "cell_type": "markdown",
   "metadata": {},
   "source": [
    "## Exercise 3"
   ]
  },
  {
   "cell_type": "code",
   "execution_count": 52,
   "metadata": {},
   "outputs": [],
   "source": [
    "class Matrix:\n",
    "    \n",
    "    def __init__(self, matrix):\n",
    "        self.matrix = matrix\n",
    "        \n",
    "    def __repr__(self):\n",
    "        return str(self.matrix)\n",
    "    \n",
    "    def sum_aij_even(self):\n",
    "        addition_aij_even = 0\n",
    "        for i in range(len(self.matrix)):\n",
    "            for j in range(len(self.matrix[i])):\n",
    "                if (i+j)%2 == 1:\n",
    "                    addition_aij_even += self.matrix[i][j]\n",
    "        return addition_aij_even\n",
    "    \n",
    "    def transpose_matrix(self):\n",
    "        index_type = type(self.matrix[0][0])\n",
    "        shape_t = list(np.shape(self.matrix))\n",
    "        shape_t = tuple([shape_t[i] for i in range(-1,1)])\n",
    "        matrix_t = np.zeros(shape_t, index_type)\n",
    "        for i in range(len(self.matrix)):\n",
    "            for j in range(len(self.matrix[i])):\n",
    "                matrix_t[j][i] = self.matrix[i][j]\n",
    "        return matrix_t\n",
    "    \n",
    "    def symmetric_check(self):\n",
    "        shape = list(np.shape(self.matrix))\n",
    "        if shape[0] == shape[1]:\n",
    "            matrix_t = self.transpose_matrix()\n",
    "            if len(matrix_t[matrix_t != self.matrix]) == 0:\n",
    "                return True\n",
    "            else:\n",
    "                return False\n",
    "        else:\n",
    "            return False\n",
    "    \n",
    "    def reduce_size_kxk(self):\n",
    "        index_type = type(self.matrix[0][0])\n",
    "        shape = list(np.shape(self.matrix))\n",
    "        if shape[0] > shape[1]:\n",
    "            row_col = shape[1]\n",
    "        else:\n",
    "            row_col = shape[0]\n",
    "        new_matrix = np.zeros((row_col, row_col), index_type)\n",
    "        for i in range(row_col):\n",
    "            for j in range(row_col):\n",
    "                new_matrix[i][j] = self.matrix[i][j]\n",
    "        return new_matrix"
   ]
  },
  {
   "cell_type": "markdown",
   "metadata": {},
   "source": [
    "### Ex3 - a"
   ]
  },
  {
   "cell_type": "code",
   "execution_count": 53,
   "metadata": {},
   "outputs": [
    {
     "name": "stdout",
     "output_type": "stream",
     "text": [
      "[[ 0  1  2  3]\n",
      " [ 4  5  6  7]\n",
      " [ 8  9 10 11]]\n",
      "\n",
      "Sum aij of the matrix A if i+j is even: 34\n"
     ]
    }
   ],
   "source": [
    "A = Matrix(np.arange(12).reshape(3,4))\n",
    "print(A)\n",
    "sum_aij = A.sum_aij_even()\n",
    "print(\"\\nSum aij of the matrix A if i+j is even:\", sum_aij)"
   ]
  },
  {
   "cell_type": "markdown",
   "metadata": {},
   "source": [
    "### Ex3 - b"
   ]
  },
  {
   "cell_type": "code",
   "execution_count": 54,
   "metadata": {},
   "outputs": [
    {
     "name": "stdout",
     "output_type": "stream",
     "text": [
      "A is symmetric? False\n",
      "B is symmetric? True\n",
      "C is symmetric? False\n"
     ]
    }
   ],
   "source": [
    "print(\"A is symmetric?\", A.symmetric_check())\n",
    "\n",
    "B = Matrix(np.array([[1, 2], [2, 1]]))\n",
    "print(\"B is symmetric?\", B.symmetric_check())\n",
    "\n",
    "C = B = Matrix(np.array([[1, 2], [3, 1]]))\n",
    "print(\"C is symmetric?\", C.symmetric_check())"
   ]
  },
  {
   "cell_type": "markdown",
   "metadata": {},
   "source": [
    "### Ex3 - c"
   ]
  },
  {
   "cell_type": "code",
   "execution_count": 55,
   "metadata": {},
   "outputs": [
    {
     "name": "stdout",
     "output_type": "stream",
     "text": [
      ">>> A (k x k):\n",
      " [[ 0  1  2]\n",
      " [ 4  5  6]\n",
      " [ 8  9 10]]\n",
      "\n",
      ">>> D:\n",
      " [[0 1 2 3 4]\n",
      " [5 6 7 8 9]]\n",
      "\n",
      ">>> D (k x k):\n",
      " [[0 1]\n",
      " [5 6]]\n"
     ]
    }
   ],
   "source": [
    "A_kxk = A.reduce_size_kxk()\n",
    "print(\">>> A (k x k):\\n\", A_kxk)\n",
    "\n",
    "D = Matrix(np.arange(10).reshape(2,5))\n",
    "print(\"\\n>>> D:\\n\", D)\n",
    "D_kxk = D.reduce_size_kxk()\n",
    "print(\"\\n>>> D (k x k):\\n\", D_kxk)"
   ]
  },
  {
   "cell_type": "markdown",
   "metadata": {},
   "source": [
    "### Ex3 - d"
   ]
  },
  {
   "cell_type": "code",
   "execution_count": 56,
   "metadata": {},
   "outputs": [],
   "source": [
    "class MatrixUpdate(Matrix):\n",
    "    def gauss(self):\n",
    "        array = self.matrix\n",
    "\n",
    "        # create a copy and convert dtype into float\n",
    "        matrix = array.copy().astype(float)\n",
    "        \n",
    "        row = 0\n",
    "        while row < matrix.shape[0]:\n",
    "            row_below = row + 1\n",
    "            \n",
    "            col = row\n",
    "            while matrix[row, col] == 0:\n",
    "                if row == matrix.shape[0]-1:\n",
    "                    break\n",
    "                elif row_below >= matrix.shape[0]:\n",
    "                    if col < matrix.shape[0]-1:\n",
    "                        col += 1\n",
    "                    else:\n",
    "                        row += 1\n",
    "                    row_below = row + 1\n",
    "                else:\n",
    "                    if matrix[row_below, col] != 0:\n",
    "                        temp = matrix[row].copy()\n",
    "                        matrix[row] = matrix[row_below].copy()\n",
    "                        matrix[row_below] = temp.copy()\n",
    "                        break\n",
    "                    else:\n",
    "                        row_below += 1\n",
    "            \n",
    "            if matrix[row, col] != 0:\n",
    "                matrix[row] = matrix[row]/matrix[row, col]\n",
    "                for i in range(row+1, matrix.shape[0]):\n",
    "                    matrix[i] = matrix[i] - matrix[row]*(matrix[i, col]/matrix[row, col])\n",
    "            \n",
    "            row += 1\n",
    "            \n",
    "        return matrix        \n",
    "    \n",
    "    def gauss_jordan(self):\n",
    "        matrix = self.gauss()\n",
    "        pivot = []\n",
    "        col = 0\n",
    "        row = 0\n",
    "        while col <= matrix.shape[1]-1:\n",
    "            if matrix[row, col] != 0:\n",
    "                pivot.append(col)\n",
    "                row += 1\n",
    "            col += 1\n",
    "        while pivot:\n",
    "            row = len(pivot)-1\n",
    "            col = pivot.pop()\n",
    "            for row_above in range(row-1, -1, -1):\n",
    "                matrix[row_above] = matrix[row_above] - matrix[row]*(matrix[row_above, col]/matrix[row, col])\n",
    "        return matrix    "
   ]
  },
  {
   "cell_type": "code",
   "execution_count": 57,
   "metadata": {},
   "outputs": [
    {
     "name": "stdout",
     "output_type": "stream",
     "text": [
      "Original Matrix:\n",
      "[[ 0  1  2  3]\n",
      " [ 4  5  6  7]\n",
      " [ 8  9 10 11]]\n",
      "\n",
      "Gauss Elimination:\n",
      "[[1.   1.25 1.5  1.75]\n",
      " [0.   1.   2.   3.  ]\n",
      " [0.   0.   0.   0.  ]]\n",
      "\n",
      "Gauss-Jordan Elimination:\n",
      "[[ 1.  0. -1. -2.]\n",
      " [ 0.  1.  2.  3.]\n",
      " [ 0.  0.  0.  0.]]\n"
     ]
    }
   ],
   "source": [
    "A = MatrixUpdate(np.arange(12).reshape(3,4))\n",
    "print(\"Original Matrix:\")\n",
    "print(A)\n",
    "\n",
    "A = MatrixUpdate(np.arange(12).reshape(3,4))\n",
    "print(\"\\nGauss Elimination:\")\n",
    "print(A.gauss())\n",
    "\n",
    "A = MatrixUpdate(np.arange(12).reshape(3,4))\n",
    "print(\"\\nGauss-Jordan Elimination:\")\n",
    "print(A.gauss_jordan())"
   ]
  }
 ],
 "metadata": {
  "kernelspec": {
   "display_name": ".venv",
   "language": "python",
   "name": "python3"
  },
  "language_info": {
   "codemirror_mode": {
    "name": "ipython",
    "version": 3
   },
   "file_extension": ".py",
   "mimetype": "text/x-python",
   "name": "python",
   "nbconvert_exporter": "python",
   "pygments_lexer": "ipython3",
   "version": "3.11.7"
  }
 },
 "nbformat": 4,
 "nbformat_minor": 2
}
