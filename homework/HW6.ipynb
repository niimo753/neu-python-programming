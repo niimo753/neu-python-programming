{
 "cells": [
  {
   "cell_type": "markdown",
   "metadata": {},
   "source": [
    "__HOMEWORK 6__\n",
    "<br>\n",
    "Full Name: Nguyễn Thị Minh Ngọc\n",
    "<br>\n",
    "Student ID: 11219280\n",
    "<br>\n",
    "Class: DSEB 63"
   ]
  },
  {
   "cell_type": "markdown",
   "metadata": {},
   "source": [
    "## Exercise 1\n",
    "### 5 - 8"
   ]
  },
  {
   "cell_type": "code",
   "execution_count": 1,
   "metadata": {},
   "outputs": [
    {
     "name": "stdout",
     "output_type": "stream",
     "text": [
      "Hello Ngoc, thank you for logging again.\n",
      "Hello Tam, thank you for logging again.\n",
      "Hello admin, would you like to see a status report?\n",
      "Hello Thao, thank you for logging again.\n",
      "Hello Linh, thank you for logging again.\n"
     ]
    }
   ],
   "source": [
    "usernames = ['Ngoc', 'Tam', 'Admin', 'Thao', 'Linh']\n",
    "for i in usernames:\n",
    "    if i == 'Admin':\n",
    "        print('Hello admin, would you like to see a status report?')\n",
    "    else:\n",
    "        print(\"Hello {}, thank you for logging again.\".format(i))"
   ]
  },
  {
   "cell_type": "markdown",
   "metadata": {},
   "source": [
    "### 5 - 9"
   ]
  },
  {
   "cell_type": "code",
   "execution_count": 2,
   "metadata": {},
   "outputs": [
    {
     "name": "stdout",
     "output_type": "stream",
     "text": [
      "We need to find some users!\n"
     ]
    }
   ],
   "source": [
    "usernames.clear()\n",
    "if usernames:\n",
    "    for i in usernames:\n",
    "        if i == 'Admin':\n",
    "            print('Hello admin, would you like to see a status report?')\n",
    "        else:\n",
    "            print(\"Hello {}, thank you for logging again.\".format(i))\n",
    "else:\n",
    "    print('We need to find some users!')"
   ]
  },
  {
   "cell_type": "markdown",
   "metadata": {},
   "source": [
    "### 5 - 10"
   ]
  },
  {
   "cell_type": "code",
   "execution_count": 5,
   "metadata": {},
   "outputs": [
    {
     "name": "stdout",
     "output_type": "stream",
     "text": [
      "The username \"Anne\" has already been used!\n",
      ">>> The username \"Marie\" is available!\n",
      "\n",
      ">>> The username \"Ruby\" is available!\n",
      "\n",
      ">>> The username \"Rachael\" is available!\n",
      "\n",
      "The username \"Gilbert\" has already been used!\n",
      ">>> The username \"Leslie\" is available!\n",
      "\n",
      "The username \"Leslie\" has already been used!\n",
      ">>> The username \"Minnie\" is available!\n",
      "\n"
     ]
    }
   ],
   "source": [
    "current_users = ['Diana', 'Gilbert', 'Anne', 'Marilla', 'Matthew']\n",
    "new_users = ['Anne', 'Ruby', 'Rachael', 'Gilbert', 'Leslie']\n",
    "current_users_copy = [i.lower() for i in current_users]\n",
    "checked_new_users = []\n",
    "for i in new_users:\n",
    "    while i.lower() in current_users_copy or i.lower() in checked_new_users:\n",
    "        print(\"The username \\\"{}\\\" has already been used!\".format(i))\n",
    "        i = input(\"Enter a new username: \")\n",
    "    print(\">>> The username \\\"{}\\\" is available!\\n\".format(i))\n",
    "    checked_new_users.append(i.lower())"
   ]
  },
  {
   "cell_type": "markdown",
   "metadata": {},
   "source": [
    "### 5 - 11"
   ]
  },
  {
   "cell_type": "code",
   "execution_count": 6,
   "metadata": {},
   "outputs": [
    {
     "name": "stdout",
     "output_type": "stream",
     "text": [
      "1st\n",
      "2nd\n",
      "3rd\n",
      "4th\n",
      "5th\n",
      "6th\n",
      "7th\n",
      "8th\n",
      "9th\n"
     ]
    }
   ],
   "source": [
    "ordinal_nums = list(range(1, 10))\n",
    "for i in ordinal_nums:\n",
    "    if i == 1:\n",
    "        print(i, \"st\", sep = \"\")\n",
    "    elif i == 2:\n",
    "        print(i, \"nd\", sep = \"\")\n",
    "    elif i == 3:\n",
    "        print(i, \"rd\", sep = \"\")\n",
    "    else:\n",
    "        print(i, \"th\", sep = \"\")"
   ]
  },
  {
   "cell_type": "markdown",
   "metadata": {},
   "source": [
    "## Exercise 2\n",
    "### 6 - 4"
   ]
  },
  {
   "cell_type": "code",
   "execution_count": 7,
   "metadata": {},
   "outputs": [
    {
     "name": "stdout",
     "output_type": "stream",
     "text": [
      "Variable: Used To Store Value\n",
      "\n",
      "String: A Series Of Characters\n",
      "\n",
      "List: Collection Of Items In A Particular Order\n",
      "\n",
      "Set: An Unordered And Unindexed Collection Of Items\n",
      "\n",
      "Dictionary: A Collection Of Key-Value Pairs\n",
      "\n",
      "Boolean: A Binary Variable, Having Two Possible Values True Or False\n",
      "\n",
      "Comment: A Note In A Program That The Python Interpreter Ignores\n",
      "\n",
      "Int: A Type Of Variables Which Contains Zero, Positive Or Negative Whole Numbers Without A Fractional Part And Having Unlimited Precision\n",
      "\n",
      "Conditional Test: A Comparison Between Two Values.\n",
      "\n",
      "Key: The First Item In A Key-Value Pair In A Dictionary.\n",
      "\n"
     ]
    }
   ],
   "source": [
    "pro_words = {'variable': 'used to store value',\n",
    "            'string': 'a series of characters',\n",
    "            'list': 'collection of items in a particular order',\n",
    "            'set': 'an unordered and unindexed collection of items',\n",
    "            'dictionary': 'a collection of key-value pairs',\n",
    "            'boolean': 'a binary variable, having two possible values True or False',\n",
    "            'comment': 'a note in a program that the Python interpreter ignores',\n",
    "            'int': 'a type of variables which contains zero, positive or negative whole numbers without a fractional part and having unlimited precision',\n",
    "            'conditional test': 'a comparison between two values.',\n",
    "            'key': 'the first item in a key-value pair in a dictionary.'}\n",
    "for word, defi in pro_words.items():\n",
    "    print(f'{word.title()}: {defi.title()}\\n')"
   ]
  },
  {
   "cell_type": "markdown",
   "metadata": {},
   "source": [
    "### 6 - 5"
   ]
  },
  {
   "cell_type": "code",
   "execution_count": 8,
   "metadata": {},
   "outputs": [
    {
     "name": "stdout",
     "output_type": "stream",
     "text": [
      "The Yangzte runs through China\n",
      "The Nile runs through Egypt\n",
      "The Amazon runs through Brazil\n"
     ]
    }
   ],
   "source": [
    "rivers = {'yangzte': 'china', 'nile': 'egypt', 'amazon': 'brazil'}\n",
    "for river, country in rivers.items():\n",
    "    print(f'The {river.title()} runs through {country.title()}')\n"
   ]
  },
  {
   "cell_type": "markdown",
   "metadata": {},
   "source": [
    "### 6 - 6"
   ]
  },
  {
   "cell_type": "code",
   "execution_count": 9,
   "metadata": {},
   "outputs": [
    {
     "name": "stdout",
     "output_type": "stream",
     "text": [
      "Jen, thank you for responding!\n",
      "Emma, would you like to take the favorite language poll?\n",
      "Phil, thank you for responding!\n",
      "Sarah, thank you for responding!\n",
      "Julia, would you like to take the favorite language poll?\n",
      "Edward, thank you for responding!\n"
     ]
    }
   ],
   "source": [
    "favorite_languages = {'jen': 'python',\n",
    "                      'sarah': 'c',\n",
    "                      'edward': 'ruby',\n",
    "                      'phil': 'python',}\n",
    "people = ['jen', 'emma', 'phil', 'sarah', 'julia', 'edward']\n",
    "for i in people:\n",
    "    if i in favorite_languages:\n",
    "        print(i.title() + ', thank you for responding!')\n",
    "    else:\n",
    "        print(i.title() + ', would you like to take the favorite language poll?')"
   ]
  },
  {
   "cell_type": "markdown",
   "metadata": {},
   "source": [
    "## Exercise 3"
   ]
  },
  {
   "cell_type": "markdown",
   "metadata": {},
   "source": [
    "a. How many sentences are there in the message? Count the words in each sentence."
   ]
  },
  {
   "cell_type": "code",
   "execution_count": 11,
   "metadata": {},
   "outputs": [
    {
     "name": "stdout",
     "output_type": "stream",
     "text": [
      "Machine learning ML is the study of computer algorithms that improve automatically through experience. It is seen as a subset of artificial intelligence. Machine learning algorithms build a mathematical model based on sample data known as training data in order to make predictions or decisions without being explicitly programmed to do so. Machine learning algorithms are used in a wide variety of applications such as email filtering and computer vision where it is difficult or infeasible to develop conventional algorithms to perform the needed tasks. Machine learning is closely related to computational statistics which focuses on making predictions using computers. The study of mathematical optimization delivers methods theory and application domains to the field of machine learning. Data mining is a related field of study focusing on exploratory data analysis through unsupervised learning In its application across business problems machine learning is also referred to as predictive analytics.\n",
      "\n",
      "a. This message has 7 sentences.\n",
      "\n",
      "Numbers of words of each sentences:\n",
      "> Sentence 1: 14\n",
      "> Sentence 2: 9\n",
      "> Sentence 3: 29\n",
      "> Sentence 4: 33\n",
      "> Sentence 5: 15\n",
      "> Sentence 6: 17\n",
      "> Sentence 7: 31\n"
     ]
    }
   ],
   "source": [
    "message = '''Machine learning; (ML) is the study of \\ computer algorithms that improve automatically through# \n",
    "experience. It is seen as a subset of artificial intelligence. Machine learning algorithms build a \n",
    "mathematical model based on sample data, known as \"training data\", in order to make predictions or \n",
    "decisions without being explicitly programmed to do so. Machine{ learning} algorithms are used in a \n",
    "wide variety of applications, such as email filtering and computer() vision, where it is difficult or \n",
    "infeasible to develop conventional algorithms to perform the needed tasks. Machine# learning is closely \n",
    "related to computational *statistics, which focuses on making predictions! using computers. The study \n",
    "of mathematical optimization delivers methods, theory and application domains to the-- field ;of machine \n",
    "learning. Data mining is a related field of study, focusing on exploratory data analysis through \n",
    "unsupervised learning In its application across business problems, machine learning is also referred to as \n",
    "predictive analytics.'''\n",
    "message = message.replace(\"\\n\", \"\")\n",
    "specials = {';', '(', ')', '\\\\', '#', '\"', ',', '{', '}', '*', '!', '-'}\n",
    "for i in specials:\n",
    "    message = message.replace(i, '')\n",
    "message = message.replace(\"  \", \" \")\n",
    "print(message)\n",
    "message = message.lower()\n",
    "\n",
    "#Numbers of sentences\n",
    "sentences = message.split('.')\n",
    "del sentences[-1]\n",
    "print(f\"\\na. This message has {len(sentences)} sentences.\\n\\nNumbers of words of each sentences:\")\n",
    "\n",
    "#Numbers of words/sentence\n",
    "words_sen = []\n",
    "words_sen_dict = {}\n",
    "for i in range(len(sentences)):\n",
    "    words_sen.append(sentences[i].split())\n",
    "    sen = f'Sentence {i+1}'\n",
    "    words_sen_dict[sen] = len(words_sen[i])\n",
    "# print(words_sen)\n",
    "for sen, word in words_sen_dict.items():\n",
    "    print(f'> {sen}: {word}')"
   ]
  },
  {
   "cell_type": "markdown",
   "metadata": {},
   "source": [
    "### b. Let the set dseb_words.\n",
    "b.1. Count the frequency of each word in dseb_words in the sentences in the message and store them in a dictionary."
   ]
  },
  {
   "cell_type": "code",
   "execution_count": 12,
   "metadata": {},
   "outputs": [
    {
     "name": "stdout",
     "output_type": "stream",
     "text": [
      ">>> The frequency of each word in dseb_words in this message:\n",
      " {'analysis': 1, 'mining': 1, 'unsupervised': 1, 'model': 1, 'optimization': 1, 'machine': 6, 'learning': 7, 'data': 4, 'business': 1}\n",
      "\n",
      ">>> The frequency of each word in dseb_words in each sentence:\n",
      "+ Sentence 1: {'analysis': 0, 'mining': 0, 'unsupervised': 0, 'model': 0, 'optimization': 0, 'machine': 1, 'learning': 1, 'data': 0, 'business': 0}\n",
      "\n",
      "+ Sentence 2: {'analysis': 0, 'mining': 0, 'unsupervised': 0, 'model': 0, 'optimization': 0, 'machine': 0, 'learning': 0, 'data': 0, 'business': 0}\n",
      "\n",
      "+ Sentence 3: {'analysis': 0, 'mining': 0, 'unsupervised': 0, 'model': 1, 'optimization': 0, 'machine': 1, 'learning': 1, 'data': 2, 'business': 0}\n",
      "\n",
      "+ Sentence 4: {'analysis': 0, 'mining': 0, 'unsupervised': 0, 'model': 0, 'optimization': 0, 'machine': 1, 'learning': 1, 'data': 0, 'business': 0}\n",
      "\n",
      "+ Sentence 5: {'analysis': 0, 'mining': 0, 'unsupervised': 0, 'model': 0, 'optimization': 0, 'machine': 1, 'learning': 1, 'data': 0, 'business': 0}\n",
      "\n",
      "+ Sentence 6: {'analysis': 0, 'mining': 0, 'unsupervised': 0, 'model': 0, 'optimization': 1, 'machine': 1, 'learning': 1, 'data': 0, 'business': 0}\n",
      "\n",
      "+ Sentence 7: {'analysis': 1, 'mining': 1, 'unsupervised': 1, 'model': 0, 'optimization': 0, 'machine': 1, 'learning': 2, 'data': 2, 'business': 1}\n",
      "\n"
     ]
    }
   ],
   "source": [
    "dseb_words = {'data', 'machine', 'learning', 'mining', 'analysis', 'unsupervised', 'business', 'optimization', 'model'}\n",
    "\n",
    "#frequency of each word in all message\n",
    "message_2 = message.replace('.', '')\n",
    "words = message_2.split(' ')\n",
    "freq_words_in_mess = {}\n",
    "for i in dseb_words:\n",
    "    freq_words_in_mess[i] = words.count(i)\n",
    "print(\">>> The frequency of each word in dseb_words in this message:\\n\", freq_words_in_mess)\n",
    "\n",
    "#frequency of each word in each sentence\n",
    "print(\"\\n>>> The frequency of each word in dseb_words in each sentence:\")\n",
    "freq_words_per_sen = {}\n",
    "for i in range(len(words_sen)):\n",
    "    temp = {}\n",
    "    for i2 in dseb_words:\n",
    "        temp[i2] = words_sen[i].count(i2)\n",
    "    freq_words_per_sen[f'Sentence {i+1}'] = temp\n",
    "for sentence, dsebword in freq_words_per_sen.items():\n",
    "    print(f'+ {sentence}: {dsebword}\\n')"
   ]
  },
  {
   "cell_type": "markdown",
   "metadata": {},
   "source": [
    "b.2. Do words in dseb_words usually appear at the beginning or end of a sentence?"
   ]
  },
  {
   "cell_type": "code",
   "execution_count": 13,
   "metadata": {},
   "outputs": [
    {
     "name": "stdout",
     "output_type": "stream",
     "text": [
      "Words in dseb_words usually appear at the beginning of a sentence.\n"
     ]
    }
   ],
   "source": [
    "dseb_words = {'data', 'machine', 'learning', 'mining', 'analysis', 'unsupervised', 'business', 'optimization', 'model'}\n",
    "\n",
    "#divide words in each sentence into two groups (the beginning and the end)\n",
    "words_begin = []\n",
    "words_end = []\n",
    "for i in words_sen:\n",
    "    words_begin.append(i[:len(i)//2])\n",
    "    words_end.append(i[len(i)//2:])\n",
    "    \n",
    "#Count the frequency of each word in dseb list in each group\n",
    "words_begin_count = []\n",
    "words_end_count = []\n",
    "for i in range(len(words_begin)):\n",
    "    temp = [0]\n",
    "    temp_index = 1\n",
    "    for i2 in dseb_words:\n",
    "        temp.append([i2, words_begin[i].count(i2)])\n",
    "        temp[0] += temp[temp_index][1]\n",
    "        temp_index += 1\n",
    "    words_begin_count.append(temp)\n",
    "\n",
    "for i in range(len(words_end)):\n",
    "    temp = [0]\n",
    "    temp_index = 1\n",
    "    for i2 in dseb_words:\n",
    "        temp.append([i2, words_end[i].count(i2)])\n",
    "        temp[0] += temp[temp_index][1]\n",
    "        temp_index += 1\n",
    "    words_end_count.append(temp)\n",
    "\n",
    "#Make a comparison between the frequency of words in each group per sentence.\n",
    "#Divide sentences into 3 group (More dseb-words at the beginning, More dseb-words at the end and The same frequency)\n",
    "appear_begin = 0\n",
    "appear_end = 0\n",
    "for i in range(len(sentences)):\n",
    "    if words_begin_count[i][0] > words_end_count[i][0]:\n",
    "        appear_begin += 1\n",
    "    elif words_begin_count[i][0] < words_end_count[i][0]:\n",
    "        appear_end += 1\n",
    "        \n",
    "#According to the number of sentences in each group, make a conclusion\n",
    "if appear_begin > appear_end:\n",
    "    print(\"Words in dseb_words usually appear at the beginning of a sentence.\")\n",
    "elif appear_begin < appear_end:\n",
    "    print(\"Words in dseb_words usually appear at the end of a sentence.\")\n",
    "else:\n",
    "    print(\"Words in dseb_words appear at the beginning and end of a sentence with the same frequency.\")"
   ]
  },
  {
   "cell_type": "markdown",
   "metadata": {},
   "source": [
    "## Exercise 4"
   ]
  },
  {
   "cell_type": "code",
   "execution_count": 14,
   "metadata": {},
   "outputs": [
    {
     "name": "stdout",
     "output_type": "stream",
     "text": [
      "[('Bình', 6, 320), ('Minh', 56, 100), ('Mạnh', 61, 250), ('Minh', 21, 360), ('Chi', 46, 370), ('Đức', 21, 260), ('Minh', 41, 290), ('Mạnh', 31, 200), ('Minh', 66, 330), ('Bình', 11, 360), ('Minh', 46, 290), ('Chi', 61, 470), ('Mai', 1, 420), ('Đức', 66, 100), ('Anh', 36, 340), ('Đức', 6, 460), ('Bình', 16, 360), ('Anh', 31, 320), ('Anh', 46, 470), ('Mạnh', 6, 330), ('Bình', 56, 480), ('Mạnh', 1, 440), ('Đức', 26, 250), ('Bình', 41, 430), ('Bình', 16, 150), ('Đức', 56, 470), ('Mạnh', 56, 420), ('Minh', 46, 310), ('Bình', 61, 330), ('Mạnh', 21, 350), ('Chi', 21, 400), ('Mai', 6, 130), ('Chi', 6, 130), ('Mai', 21, 420), ('Mạnh', 6, 410), ('Mai', 31, 210), ('Minh', 41, 230), ('Chi', 51, 100), ('Mai', 61, 380), ('Bình', 56, 450), ('Chi', 31, 470), ('Mạnh', 56, 140), ('Minh', 36, 320), ('Bình', 56, 260), ('Bình', 51, 180), ('Mạnh', 41, 270), ('Chi', 31, 170), ('Mạnh', 11, 110), ('Chi', 11, 160), ('Chi', 36, 490), ('Mạnh', 56, 110), ('Anh', 6, 210), ('Mai', 6, 160), ('Minh', 51, 230), ('Bình', 56, 480), ('Đức', 36, 190), ('Anh', 21, 340), ('Minh', 6, 400), ('Bình', 61, 480), ('Chi', 1, 340), ('Mạnh', 21, 270), ('Mạnh', 16, 160), ('Minh', 41, 440), ('Bình', 66, 420), ('Mạnh', 21, 310), ('Chi', 21, 330), ('Anh', 31, 160), ('Minh', 11, 320), ('Mai', 1, 360), ('Mạnh', 61, 120), ('Mạnh', 51, 180), ('Bình', 36, 190), ('Anh', 16, 350), ('Đức', 11, 160), ('Anh', 61, 350), ('Mạnh', 21, 430), ('Bình', 51, 220), ('Chi', 21, 110), ('Minh', 46, 160), ('Mai', 66, 290), ('Bình', 11, 170), ('Chi', 66, 350), ('Mạnh', 36, 450), ('Mai', 11, 390), ('Bình', 66, 230), ('Minh', 61, 260), ('Mạnh', 56, 160), ('Bình', 56, 180), ('Anh', 16, 270), ('Chi', 56, 330), ('Chi', 56, 110), ('Đức', 36, 120), ('Đức', 1, 390), ('Chi', 16, 140), ('Mai', 61, 410), ('Chi', 66, 410), ('Minh', 31, 460), ('Mạnh', 46, 340), ('Minh', 36, 180), ('Bình', 61, 270), ('Chi', 41, 310), ('Mai', 56, 480), ('Minh', 36, 490), ('Bình', 6, 470), ('Đức', 36, 440), ('Anh', 21, 390), ('Anh', 26, 360), ('Bình', 6, 280), ('Mai', 61, 330), ('Bình', 56, 390), ('Bình', 31, 330), ('Mai', 11, 110), ('Bình', 51, 490), ('Minh', 6, 280), ('Anh', 21, 140), ('Mạnh', 46, 250), ('Mạnh', 31, 300), ('Minh', 41, 170), ('Minh', 21, 140), ('Đức', 21, 340), ('Minh', 11, 220), ('Anh', 21, 460), ('Mạnh', 56, 210), ('Bình', 41, 300), ('Anh', 1, 340), ('Đức', 11, 450), ('Đức', 21, 290), ('Bình', 46, 100), ('Mạnh', 21, 310), ('Anh', 41, 440), ('Mai', 11, 460), ('Bình', 41, 480), ('Minh', 6, 440), ('Mạnh', 1, 230), ('Đức', 16, 320), ('Chi', 6, 470), ('Mạnh', 6, 270), ('Đức', 56, 230), ('Minh', 61, 160), ('Mai', 61, 220), ('Đức', 56, 120), ('Đức', 31, 420), ('Chi', 46, 210), ('Minh', 1, 210), ('Mạnh', 56, 320), ('Minh', 21, 350), ('Bình', 26, 240), ('Anh', 36, 300), ('Chi', 56, 280), ('Mạnh', 61, 420), ('Bình', 1, 490), ('Anh', 46, 470), ('Minh', 11, 130), ('Anh', 36, 180), ('Minh', 11, 200), ('Mạnh', 16, 240), ('Mạnh', 16, 190), ('Đức', 56, 130), ('Mạnh', 16, 380), ('Mai', 21, 200), ('Bình', 41, 450), ('Đức', 36, 480), ('Chi', 61, 350), ('Mạnh', 66, 360), ('Minh', 51, 460), ('Mạnh', 6, 490), ('Bình', 41, 150), ('Mạnh', 56, 140), ('Đức', 51, 250), ('Chi', 21, 260), ('Anh', 36, 230), ('Mai', 11, 390), ('Minh', 11, 450), ('Minh', 61, 120), ('Bình', 61, 340), ('Mạnh', 36, 350), ('Mai', 31, 270), ('Bình', 11, 410), ('Mai', 31, 480), ('Chi', 41, 410), ('Chi', 11, 180), ('Đức', 31, 370), ('Bình', 1, 340), ('Anh', 11, 110), ('Mai', 56, 290), ('Đức', 16, 360), ('Chi', 46, 230), ('Anh', 56, 260), ('Bình', 46, 270), ('Minh', 46, 190), ('Bình', 11, 330), ('Chi', 51, 160), ('Đức', 1, 260), ('Mai', 1, 250), ('Minh', 41, 210), ('Mai', 1, 430), ('Chi', 26, 250), ('Bình', 41, 230), ('Mai', 66, 220), ('Chi', 21, 280)]\n"
     ]
    }
   ],
   "source": [
    "import random\n",
    "random.seed = 63\n",
    "\n",
    "women = ['Anh', 'Chi', 'Mai']\n",
    "men = ['Bình', 'Đức', 'Mạnh', 'Minh']\n",
    "names = women + men\n",
    "customers = []\n",
    "\n",
    "for _ in range(200):\n",
    "    name = random.choice(names)\n",
    "    age = random.randrange(1, 70, 5)\n",
    "    price = random.randrange(100, 500, 10)\n",
    "    customers.append((name, age, price))\n",
    "print(customers)"
   ]
  },
  {
   "cell_type": "markdown",
   "metadata": {},
   "source": [
    "### a."
   ]
  },
  {
   "cell_type": "code",
   "execution_count": 15,
   "metadata": {},
   "outputs": [
    {
     "name": "stdout",
     "output_type": "stream",
     "text": [
      "1. Dictionary:\n",
      " {'men': {('Bình', 6): 1390, ('Minh', 56): 100, ('Mạnh', 61): 790, ('Minh', 21): 850, ('Đức', 21): 890, ('Minh', 41): 1340, ('Mạnh', 31): 500, ('Minh', 66): 330, ('Bình', 11): 1270, ('Minh', 46): 950, ('Đức', 66): 100, ('Đức', 6): 460, ('Bình', 16): 510, ('Mạnh', 6): 1500, ('Bình', 56): 2240, ('Mạnh', 1): 670, ('Đức', 26): 250, ('Bình', 41): 2040, ('Đức', 56): 950, ('Mạnh', 56): 1500, ('Bình', 61): 1420, ('Mạnh', 21): 1670, ('Minh', 36): 990, ('Bình', 51): 890, ('Mạnh', 41): 270, ('Mạnh', 11): 110, ('Minh', 51): 690, ('Đức', 36): 1230, ('Minh', 6): 1120, ('Mạnh', 16): 970, ('Bình', 66): 650, ('Minh', 11): 1320, ('Mạnh', 51): 180, ('Bình', 36): 190, ('Đức', 11): 610, ('Mạnh', 36): 800, ('Minh', 61): 540, ('Đức', 1): 650, ('Minh', 31): 460, ('Mạnh', 46): 590, ('Bình', 31): 330, ('Bình', 46): 370, ('Đức', 16): 680, ('Đức', 31): 790, ('Minh', 1): 210, ('Bình', 26): 240, ('Bình', 1): 830, ('Mạnh', 66): 360, ('Đức', 51): 250}, 'women': {('Chi', 46): 810, ('Chi', 61): 820, ('Mai', 1): 1460, ('Anh', 36): 1050, ('Anh', 31): 480, ('Anh', 46): 940, ('Chi', 21): 1380, ('Mai', 6): 290, ('Chi', 6): 600, ('Mai', 21): 620, ('Mai', 31): 960, ('Chi', 51): 260, ('Mai', 61): 1340, ('Chi', 31): 640, ('Chi', 11): 340, ('Chi', 36): 490, ('Anh', 6): 210, ('Anh', 21): 1330, ('Chi', 1): 340, ('Anh', 16): 620, ('Anh', 61): 350, ('Mai', 66): 510, ('Chi', 66): 760, ('Mai', 11): 1350, ('Chi', 56): 720, ('Chi', 16): 140, ('Chi', 41): 720, ('Mai', 56): 770, ('Anh', 26): 360, ('Anh', 1): 340, ('Anh', 41): 440, ('Anh', 11): 110, ('Anh', 56): 260, ('Chi', 26): 250}}\n",
      "\n",
      "2. The average amount of money spent by women: 648.8235294117648\n",
      "   The average amount of money spent by women: 776.3265306122449\n",
      ">>> Men spend more money.\n"
     ]
    }
   ],
   "source": [
    "customers_list = [list(customers[0])]\n",
    "for i in range(len(customers)):\n",
    "    temp = list(customers[i])\n",
    "    test = 1\n",
    "    for i2 in range(len(customers_list)):\n",
    "        if temp[0] == customers_list[i2][0] and temp[1] == customers_list[i2][1]:\n",
    "            customers_list[i2][2] += temp[2]\n",
    "            test = 0\n",
    "    if test == 1:\n",
    "        customers_list.append(temp)\n",
    "\n",
    "customers_men = {}\n",
    "customers_women = {}\n",
    "for i in range(len(customers_list)):\n",
    "    if customers_list[i][0] in men:\n",
    "        customers_men[(customers_list[i][0], customers_list[i][1])] = customers_list[i][2]\n",
    "    else:\n",
    "        customers_women[(customers_list[i][0], customers_list[i][1])] = customers_list[i][2]\n",
    "customers_sex = {'men': customers_men, 'women': customers_women}\n",
    "print(\"1. Dictionary:\\n\", customers_sex)\n",
    "\n",
    "avg_women = (sum(customers_women.values())) / len(customers_women)\n",
    "avg_men = (sum(customers_men.values())) / len(customers_men)\n",
    "print(\"\\n2. The average amount of money spent by women:\", avg_women)\n",
    "print(\"   The average amount of money spent by women:\", avg_men)\n",
    "\n",
    "if avg_women > avg_men:\n",
    "    print(\">>> Women spend more money.\")\n",
    "elif avg_women < avg_men:\n",
    "    print(\">>> Men spend more money.\")\n",
    "else:\n",
    "    print(\">>> Women and men spend the same amount of money.\")"
   ]
  },
  {
   "cell_type": "markdown",
   "metadata": {},
   "source": [
    "### b."
   ]
  },
  {
   "cell_type": "code",
   "execution_count": 16,
   "metadata": {},
   "outputs": [
    {
     "name": "stdout",
     "output_type": "stream",
     "text": [
      ">>> Age Group:\n",
      " {'[0, 18)': {'men': {'Bình': 830, 'Đức': 680, 'Mạnh': 970, 'Minh': 210}, 'women': {'Mai': 1350, 'Chi': 140, 'Anh': 110}}, '[18, 23)': {'men': {'Minh': 850, 'Đức': 890, 'Mạnh': 1670}, 'women': {'Chi': 1380, 'Mai': 620, 'Anh': 1330}}, '[23, 35)': {'men': {'Mạnh': 500, 'Đức': 790, 'Minh': 460, 'Bình': 240}, 'women': {'Anh': 360, 'Mai': 960, 'Chi': 250}}, '[35, 60]': {'men': {'Minh': 690, 'Bình': 370, 'Đức': 250, 'Mạnh': 590}, 'women': {'Chi': 720, 'Anh': 260, 'Mai': 770}}, 'Over 60': {'men': {'Mạnh': 360, 'Minh': 540, 'Đức': 100, 'Bình': 650}, 'women': {'Chi': 760, 'Mai': 510, 'Anh': 350}}}\n",
      "\n",
      ">>> Calculating by Genders and Age group:\n",
      "* Age group [0, 18):\n",
      "\t> Men:\n",
      "\t\tTotal orders = 4\n",
      "\t\tTotal amount = 2690\n",
      "\t\tAverage amount = 672.5\n",
      "\t> Women:\n",
      "\t\tTotal orders = 3\n",
      "\t\tTotal amount = 1600\n",
      "\t\tAverage amount = 533.3333333333334\n",
      "Total orders = 7\n",
      "Total amount = 4290\n",
      "Average amount = 612.8571428571429\n",
      "\n",
      "* Age group [18, 23):\n",
      "\t> Men:\n",
      "\t\tTotal orders = 3\n",
      "\t\tTotal amount = 3410\n",
      "\t\tAverage amount = 1136.6666666666667\n",
      "\t> Women:\n",
      "\t\tTotal orders = 3\n",
      "\t\tTotal amount = 3330\n",
      "\t\tAverage amount = 1110.0\n",
      "Total orders = 6\n",
      "Total amount = 6740\n",
      "Average amount = 1123.3333333333333\n",
      "\n",
      "* Age group [23, 35):\n",
      "\t> Men:\n",
      "\t\tTotal orders = 4\n",
      "\t\tTotal amount = 1990\n",
      "\t\tAverage amount = 497.5\n",
      "\t> Women:\n",
      "\t\tTotal orders = 3\n",
      "\t\tTotal amount = 1570\n",
      "\t\tAverage amount = 523.3333333333334\n",
      "Total orders = 7\n",
      "Total amount = 3560\n",
      "Average amount = 508.57142857142856\n",
      "\n",
      "* Age group [35, 60]:\n",
      "\t> Men:\n",
      "\t\tTotal orders = 4\n",
      "\t\tTotal amount = 1900\n",
      "\t\tAverage amount = 475.0\n",
      "\t> Women:\n",
      "\t\tTotal orders = 3\n",
      "\t\tTotal amount = 1750\n",
      "\t\tAverage amount = 583.3333333333334\n",
      "Total orders = 7\n",
      "Total amount = 3650\n",
      "Average amount = 521.4285714285714\n",
      "\n",
      "* Age group Over 60:\n",
      "\t> Men:\n",
      "\t\tTotal orders = 4\n",
      "\t\tTotal amount = 1650\n",
      "\t\tAverage amount = 412.5\n",
      "\t> Women:\n",
      "\t\tTotal orders = 3\n",
      "\t\tTotal amount = 1620\n",
      "\t\tAverage amount = 540.0\n",
      "Total orders = 7\n",
      "Total amount = 3270\n",
      "Average amount = 467.14285714285717\n",
      "\n"
     ]
    }
   ],
   "source": [
    "men_0_18 = {}\n",
    "women_0_18 = {}\n",
    "men_18_23 = {}\n",
    "women_18_23 = {}\n",
    "men_23_35 = {}\n",
    "women_23_35 = {}\n",
    "men_35_60 = {}\n",
    "women_35_60 = {}\n",
    "men_over60 = {}\n",
    "women_over60 = {}\n",
    "for i in range(len(customers_list)):\n",
    "    if customers_list[i][1] >= 0 and customers_list[i][1] < 18:\n",
    "        if customers_list[i][0] in men:\n",
    "            men_0_18[customers_list[i][0]] = customers_list[i][2]\n",
    "        else:\n",
    "            women_0_18[customers_list[i][0]] = customers_list[i][2]\n",
    "    elif customers_list[i][1] < 23:\n",
    "        if customers_list[i][0] in men:\n",
    "            men_18_23[customers_list[i][0]] = customers_list[i][2]\n",
    "        else:\n",
    "            women_18_23[customers_list[i][0]] = customers_list[i][2]\n",
    "    elif customers_list[i][1] < 35:\n",
    "        if customers_list[i][0] in men:\n",
    "            men_23_35[customers_list[i][0]] = customers_list[i][2]\n",
    "        else:\n",
    "            women_23_35[customers_list[i][0]] = customers_list[i][2]\n",
    "    elif customers_list[i][1] < 60:\n",
    "        if customers_list[i][0] in men:\n",
    "            men_35_60[customers_list[i][0]] = customers_list[i][2]\n",
    "        else:\n",
    "            women_35_60[customers_list[i][0]] = customers_list[i][2]\n",
    "    else:\n",
    "        if customers_list[i][0] in men:\n",
    "            men_over60[customers_list[i][0]] = customers_list[i][2]\n",
    "        else:\n",
    "            women_over60[customers_list[i][0]] = customers_list[i][2]\n",
    "            \n",
    "customers_age_sex = {'[0, 18)': {'men': men_0_18, 'women': women_0_18},\n",
    "                    '[18, 23)': {'men': men_18_23, 'women': women_18_23},\n",
    "                    '[23, 35)': {'men': men_23_35, 'women': women_23_35},\n",
    "                    '[35, 60]': {'men': men_35_60, 'women': women_35_60},\n",
    "                    'Over 60': {'men': men_over60, 'women': women_over60}}\n",
    "print(\">>> Age Group:\\n\", customers_age_sex)\n",
    "print(\"\\n>>> Calculating by Genders and Age group:\")\n",
    "for age, genders in customers_age_sex.items():\n",
    "    print(f'* Age group {age}:')\n",
    "    total_orders = 0\n",
    "    total_amt = 0\n",
    "    for gender, price in genders.items():\n",
    "        print(f'\\t> {gender.title()}:')\n",
    "        if len(price) == 0:\n",
    "            print(f'\\t\\tTotal orders = 0')\n",
    "        else:\n",
    "            print(f'\\t\\tTotal orders = {len(price)}')\n",
    "            total_orders += len(price)\n",
    "            print(f'\\t\\tTotal amount = {sum(price.values())}')\n",
    "            total_amt += sum(price.values())\n",
    "            print(f'\\t\\tAverage amount = {sum(price.values()) / len(price)}')\n",
    "    avg_amt = total_amt/total_orders\n",
    "    print(f'Total orders = {total_orders}')\n",
    "    print(f'Total amount = {total_amt}')\n",
    "    print(f'Average amount = {avg_amt}\\n')"
   ]
  }
 ],
 "metadata": {
  "kernelspec": {
   "display_name": ".venv",
   "language": "python",
   "name": "python3"
  },
  "language_info": {
   "codemirror_mode": {
    "name": "ipython",
    "version": 3
   },
   "file_extension": ".py",
   "mimetype": "text/x-python",
   "name": "python",
   "nbconvert_exporter": "python",
   "pygments_lexer": "ipython3",
   "version": "3.11.7"
  }
 },
 "nbformat": 4,
 "nbformat_minor": 2
}
