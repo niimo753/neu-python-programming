{
 "cells": [
  {
   "cell_type": "markdown",
   "metadata": {},
   "source": [
    "__HOMEWORK 10__\n",
    "<br>\n",
    "Full Name: Nguyễn Thị Minh Ngọc\n",
    "<br>\n",
    "Student ID: 11219280\n",
    "<br>\n",
    "Class: DSEB 63"
   ]
  },
  {
   "cell_type": "markdown",
   "metadata": {},
   "source": [
    "## Exercise 1\n",
    "### 8 - 6"
   ]
  },
  {
   "cell_type": "code",
   "execution_count": 1,
   "metadata": {},
   "outputs": [
    {
     "name": "stdout",
     "output_type": "stream",
     "text": [
      "Hà Nội, Việt Nam\n",
      "Toronto, Canada\n",
      "Bangkok, Thailand\n"
     ]
    }
   ],
   "source": [
    "def city_country(country, city):\n",
    "    return f\"{city.title()}, {country.title()}\"\n",
    "\n",
    "print(city_country(country = \"Việt Nam\", city = \"Hà Nội\"))\n",
    "print(city_country(country = \"Canada\", city = \"Toronto\"))\n",
    "print(city_country(country = \"Thailand\", city = \"Bangkok\"))"
   ]
  },
  {
   "cell_type": "markdown",
   "metadata": {},
   "source": [
    "### 8 - 7"
   ]
  },
  {
   "cell_type": "code",
   "execution_count": 2,
   "metadata": {},
   "outputs": [
    {
     "name": "stdout",
     "output_type": "stream",
     "text": [
      "{'Album Title': 'Hương', 'Artist': 'Văn Mai Hương'}\n",
      "{'Album Title': 'Light Us', 'Artist': 'ONEUS'}\n",
      "{'Album Title': 'I Never Die', 'Artist': '(G)I-DLE'}\n",
      "{'Album Title': 'Mono', 'Artist': 'RM', 'Number of songs': 7}\n"
     ]
    }
   ],
   "source": [
    "def make_album(artist, title, no_song = None):\n",
    "    album = {'Album Title': title, 'Artist': artist}\n",
    "    if no_song:\n",
    "        album['Number of songs'] = no_song\n",
    "    return album\n",
    "\n",
    "#Three dictionaries without number of songs\n",
    "print(make_album('Văn Mai Hương', 'Hương'))\n",
    "print(make_album('ONEUS', 'Light Us'))\n",
    "print(make_album('(G)I-DLE', 'I Never Die'))\n",
    "\n",
    "#Dictionary with number of songs\n",
    "print(make_album('RM', 'Mono', 7))"
   ]
  },
  {
   "cell_type": "markdown",
   "metadata": {},
   "source": [
    "### 8 - 8"
   ]
  },
  {
   "cell_type": "code",
   "execution_count": 3,
   "metadata": {},
   "outputs": [
    {
     "name": "stdout",
     "output_type": "stream",
     "text": [
      "{'Album Title': 'White Wind', 'Artist': 'Mamamoo'}\n",
      "\n",
      "{'Album Title': 'Mono', 'Artist': 'RM', 'Number of songs': '7'}\n",
      "\n"
     ]
    }
   ],
   "source": [
    "command = 'start'\n",
    "while command.lower() != 'quit':\n",
    "    album = input(\"Album's name: \")\n",
    "    artist = input(\"Artist's name: \")\n",
    "    songs = input(\"Number of songs (optional - using numbers): \")\n",
    "    if songs.isnumeric() == False:\n",
    "        print(make_album(artist = artist, title = album))\n",
    "    else:\n",
    "        print(make_album(artist = artist, title = album, no_song = songs))\n",
    "    command = input(\"\\nQuit or Continue? - \")\n",
    "    print(\"\\n\", end = \"\")"
   ]
  },
  {
   "cell_type": "markdown",
   "metadata": {},
   "source": [
    "## Exercise 2"
   ]
  },
  {
   "cell_type": "code",
   "execution_count": 4,
   "metadata": {},
   "outputs": [
    {
     "name": "stdout",
     "output_type": "stream",
     "text": [
      ">>> gcd(24,75) = 3\n"
     ]
    }
   ],
   "source": [
    "#solution 1 - not recursive\n",
    "def gcd(m, n):\n",
    "    if (m == 0 and n == 0) or (m<0) or (n<0):\n",
    "        return \"None\"\n",
    "    elif m == 0:\n",
    "        return n\n",
    "    elif n == 0:\n",
    "        return m\n",
    "    else:\n",
    "        if m > n:\n",
    "            temp = n\n",
    "        else:\n",
    "            temp = m\n",
    "        for i in range(1, temp+1):\n",
    "            if m%i == 0 and n%i == 0:\n",
    "                gcd_mn = i\n",
    "        return gcd_mn\n",
    "m = int(input(\"m = \"))\n",
    "n = int(input(\"n = \"))\n",
    "print(f\">>> gcd({m},{n}) = {gcd(m,n)}\")"
   ]
  },
  {
   "cell_type": "code",
   "execution_count": 5,
   "metadata": {},
   "outputs": [
    {
     "name": "stdout",
     "output_type": "stream",
     "text": [
      ">>> gcd(64,18) = 2\n"
     ]
    }
   ],
   "source": [
    "#solution 2 - recursive\n",
    "def gcd(m,n):\n",
    "    if (m == 0 and n == 0) or (m<0) or (n<0):\n",
    "        return 'None'\n",
    "    elif m == 0:\n",
    "        return n\n",
    "    elif n == 0:\n",
    "        return m\n",
    "    elif m>n:\n",
    "        return gcd(m-n, n)\n",
    "    else:\n",
    "        return gcd(m, n-m)\n",
    "m = int(input(\"m = \"))\n",
    "n = int(input(\"n = \"))\n",
    "print(f\">>> gcd({m},{n}) = {gcd(m,n)}\")"
   ]
  },
  {
   "cell_type": "markdown",
   "metadata": {},
   "source": [
    "## Exercise 3"
   ]
  },
  {
   "cell_type": "code",
   "execution_count": 6,
   "metadata": {},
   "outputs": [
    {
     "name": "stdout",
     "output_type": "stream",
     "text": [
      "\n",
      ">>> gcd(72, 16) = 8\n",
      ">>> (1)*72 + (-4.0)*16 = 8\n"
     ]
    }
   ],
   "source": [
    "def bezout(a, b, gcd_ab):\n",
    "    s = 0\n",
    "    active = True\n",
    "    while active:\n",
    "        t = (gcd_ab - s*a)/b\n",
    "        if t == int(t):\n",
    "            active = False\n",
    "        else:\n",
    "            s += 1\n",
    "    return s, t\n",
    "check = True\n",
    "while check:\n",
    "    a = int(input(\"a = \"))\n",
    "    b = int(input(\"b = \"))\n",
    "    if a > 0 and b > 0:\n",
    "        check = False\n",
    "    else:\n",
    "        print(\">>> a and b are positive integer. Try again:\\n\")\n",
    "if a < b:\n",
    "    temp = a\n",
    "    a = b\n",
    "    b = temp\n",
    "s, t = bezout(a, b, gcd(a,b))\n",
    "print(f\"\\n>>> gcd({a}, {b}) = {gcd(a,b)}\\n>>> ({s})*{a} + ({t})*{b} = {gcd(a,b)}\")"
   ]
  },
  {
   "cell_type": "markdown",
   "metadata": {},
   "source": [
    "## Exercise 4"
   ]
  },
  {
   "cell_type": "code",
   "execution_count": 7,
   "metadata": {},
   "outputs": [
    {
     "name": "stdout",
     "output_type": "stream",
     "text": [
      ">>> 26 is the product of 2 primes: 2 and 13\n"
     ]
    }
   ],
   "source": [
    "def prod_2primes_check(n):\n",
    "    if n <= 2:\n",
    "        return False\n",
    "    else:\n",
    "        temp = n\n",
    "        prod = []\n",
    "        for i in range(2,n+1):\n",
    "            while temp%i == 0:\n",
    "                temp = temp/i\n",
    "                prod.append(i)\n",
    "    if len(prod) != 2:\n",
    "        return False\n",
    "    else:\n",
    "        return prod\n",
    "                \n",
    "n = int(input('Enter a number: '))\n",
    "if prod_2primes_check(n) == False:\n",
    "    print(f'>>> {n} is not the product of 2 primes.',)\n",
    "else:\n",
    "    print(f'>>> {n} is the product of 2 primes: ', end='')\n",
    "    print(*prod_2primes_check(n), sep = ' and ')"
   ]
  },
  {
   "cell_type": "markdown",
   "metadata": {},
   "source": [
    "## Exercise 5\n",
    "### 5 - a"
   ]
  },
  {
   "cell_type": "code",
   "execution_count": 8,
   "metadata": {},
   "outputs": [
    {
     "name": "stdout",
     "output_type": "stream",
     "text": [
      "A random number in [i,n]: 70.14861679077148\n"
     ]
    }
   ],
   "source": [
    "import time\n",
    "def rand(i,n):\n",
    "    if i == 0:\n",
    "        return time.time()\n",
    "    else:\n",
    "        return (7*rand(i-1,n)+1)%n\n",
    "i = int(input(\"Upper Limit: \"))\n",
    "n = int(input(\"Lower Limit: \"))\n",
    "print(f'A random number in [i,n]: {rand(i,n)}')"
   ]
  },
  {
   "cell_type": "markdown",
   "metadata": {},
   "source": [
    "### 5 - b"
   ]
  },
  {
   "cell_type": "code",
   "execution_count": 9,
   "metadata": {},
   "outputs": [
    {
     "name": "stdout",
     "output_type": "stream",
     "text": [
      "[1, 2, 3, 4, 5, 6, 7, 8, 9, 10] \n",
      "\n",
      ">>> Shuffle: [9, 1, 8, 6, 7, 4, 10, 3, 2, 5]\n"
     ]
    }
   ],
   "source": [
    "def shuffle(alist):\n",
    "    alist2 = alist.copy()\n",
    "    n = len(alist)\n",
    "    for i in range(1, n):\n",
    "        m = int(rand(i,n))\n",
    "        temp = alist2[i]\n",
    "        alist2[i] = alist2[m]\n",
    "        alist2[m] = temp\n",
    "    return alist2\n",
    "alist = [1, 2, 3, 4, 5, 6, 7, 8, 9, 10]\n",
    "shuffle_alist = shuffle(alist)\n",
    "print(alist, '\\n\\n>>> Shuffle:', shuffle_alist)"
   ]
  },
  {
   "cell_type": "markdown",
   "metadata": {},
   "source": [
    "## Exercise 6"
   ]
  },
  {
   "cell_type": "code",
   "execution_count": 10,
   "metadata": {},
   "outputs": [
    {
     "name": "stdout",
     "output_type": "stream",
     "text": [
      "(1136503834252139**2413713104313437) % 3017141490284017 = 1269126689769037\n"
     ]
    }
   ],
   "source": [
    "import numpy\n",
    "def calculation(c,s,z):\n",
    "    return numpy.power(c,s)%z\n",
    "c = 1136503834252139\n",
    "s = 2413713104313437\n",
    "z = 3017141490284017\n",
    "print(f'({c}**{s}) % {z} = {calculation(c,s,z)}')"
   ]
  }
 ],
 "metadata": {
  "kernelspec": {
   "display_name": ".venv",
   "language": "python",
   "name": "python3"
  },
  "language_info": {
   "codemirror_mode": {
    "name": "ipython",
    "version": 3
   },
   "file_extension": ".py",
   "mimetype": "text/x-python",
   "name": "python",
   "nbconvert_exporter": "python",
   "pygments_lexer": "ipython3",
   "version": "3.11.7"
  }
 },
 "nbformat": 4,
 "nbformat_minor": 2
}
