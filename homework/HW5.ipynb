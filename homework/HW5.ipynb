{
 "cells": [
  {
   "cell_type": "markdown",
   "metadata": {},
   "source": [
    "__HOMEWORK 5__\n",
    "<br>\n",
    "Full Name: Nguyễn Thị Minh Ngọc\n",
    "<br>\n",
    "Student ID: 11219280\n",
    "<br>\n",
    "Class: DSEB 63"
   ]
  },
  {
   "cell_type": "markdown",
   "metadata": {},
   "source": [
    "## Exercise 1\n",
    "### 5 - 2\n",
    "Tests for equality and inequality with strings"
   ]
  },
  {
   "cell_type": "code",
   "execution_count": 1,
   "metadata": {},
   "outputs": [
    {
     "name": "stdout",
     "output_type": "stream",
     "text": [
      "Is this green? False\n",
      "Is this blue? True\n"
     ]
    }
   ],
   "source": [
    "test1 = \"blue\"\n",
    "print(\"Is this green?\", test1 != \"blue\")\n",
    "print(\"Is this blue?\", test1 == \"blue\")"
   ]
  },
  {
   "cell_type": "markdown",
   "metadata": {},
   "source": [
    "Tests using the `lower()` method"
   ]
  },
  {
   "cell_type": "code",
   "execution_count": 2,
   "metadata": {},
   "outputs": [
    {
     "name": "stdout",
     "output_type": "stream",
     "text": [
      "The color chosen is: blue\n"
     ]
    }
   ],
   "source": [
    "test2 = \"Blue\"\n",
    "if test2 == \"Blue\":\n",
    "    print(\"The color chosen is:\", test2.lower())\n",
    "if test2 == \"Red\":\n",
    "    print(\"The color chosen is:\", test2.lower())"
   ]
  },
  {
   "cell_type": "markdown",
   "metadata": {},
   "source": [
    "Numerical Test"
   ]
  },
  {
   "cell_type": "code",
   "execution_count": 3,
   "metadata": {},
   "outputs": [
    {
     "name": "stdout",
     "output_type": "stream",
     "text": [
      "The number is 7\n",
      "\n",
      "The number chosen is equal to 7? True\n",
      "The number chosen is equal to 5? False\n",
      "\n",
      "The number chosen is not 5? True\n",
      "The number chosen is not 7? False\n",
      "\n",
      "The number chosen is greater than 5? True\n",
      "The number chosen is greater than 9? False\n",
      "\n",
      "The number chosen is less than 9? True\n",
      "The number chosen is less than 5? False\n",
      "\n",
      "The number chosen is greater than or equal to 7? True\n",
      "The number chosen is greater than or equal to 9? False\n",
      "\n",
      "The number chosen is less than or equal to 9? True\n",
      "The number chosen is less than or equal to 5? False\n"
     ]
    }
   ],
   "source": [
    "test3 = 7\n",
    "print(\"The number is\", test3)\n",
    "\n",
    "#equality\n",
    "print(\"\\nThe number chosen is equal to 7?\", test3 == 7)\n",
    "print(\"The number chosen is equal to 5?\", test3 == 5)\n",
    "\n",
    "#inequality\n",
    "print(\"\\nThe number chosen is not 5?\", test3 != 5)\n",
    "print(\"The number chosen is not 7?\", test3 != 7)\n",
    "\n",
    "#greater than\n",
    "print(\"\\nThe number chosen is greater than 5?\", test3 > 5)\n",
    "print(\"The number chosen is greater than 9?\", test3 > 9)\n",
    "\n",
    "#less than\n",
    "print(\"\\nThe number chosen is less than 9?\", test3 < 9)\n",
    "print(\"The number chosen is less than 5?\", test3 < 5)\n",
    "\n",
    "#greater than or equal to\n",
    "print(\"\\nThe number chosen is greater than or equal to 7?\", test3 >= 7)\n",
    "print(\"The number chosen is greater than or equal to 9?\", test3 >= 9)\n",
    "\n",
    "#less than or equal to\n",
    "print(\"\\nThe number chosen is less than or equal to 9?\", test3 <= 9)\n",
    "print(\"The number chosen is less than or equal to 5?\", test3 <= 5)"
   ]
  },
  {
   "cell_type": "markdown",
   "metadata": {},
   "source": [
    "Tests using the and keyword and the or keyword"
   ]
  },
  {
   "cell_type": "code",
   "execution_count": 5,
   "metadata": {},
   "outputs": [
    {
     "name": "stdout",
     "output_type": "stream",
     "text": [
      "The number chosen is greater than 10 and less than 20? True\n",
      "The number chosen is greater than 5 and less than 10? False\n",
      "\n",
      "The number chosen is greater than 10 or less than 11? True\n"
     ]
    }
   ],
   "source": [
    "test4 = 12\n",
    "\n",
    "#and keyword\n",
    "print(\"The number chosen is greater than 10 and less than 20?\", test4>10 and test4<20)\n",
    "print(\"The number chosen is greater than 5 and less than 10?\", test4>5 and test4<10)\n",
    "\n",
    "#or keyword\n",
    "print(\"\\nThe number chosen is greater than 10 or less than 11?\", test4>10 or test4<11)"
   ]
  },
  {
   "cell_type": "markdown",
   "metadata": {},
   "source": [
    "Test with list"
   ]
  },
  {
   "cell_type": "code",
   "execution_count": 6,
   "metadata": {},
   "outputs": [
    {
     "name": "stdout",
     "output_type": "stream",
     "text": [
      "list = [3, 12, 5, 7, 0]\n",
      "\n",
      "5 is in the given list? True\n",
      "9 is in the given list? False\n",
      "\n",
      "9 is not in the given list? True\n",
      "5 is not in the given list? False\n"
     ]
    }
   ],
   "source": [
    "test5 = [3, 12, 5, 7, 0]\n",
    "print(\"list =\", test5)\n",
    "#test whether an item is in a list\n",
    "print(\"\\n5 is in the given list?\", 5 in test5)\n",
    "print(\"9 is in the given list?\", 9 in test5)\n",
    "\n",
    "#test whether an item is not in a list\n",
    "print(\"\\n9 is not in the given list?\", 9 not in test5)\n",
    "print(\"5 is not in the given list?\", 5 not in test5)"
   ]
  },
  {
   "cell_type": "markdown",
   "metadata": {},
   "source": [
    "### 5 - 3"
   ]
  },
  {
   "cell_type": "code",
   "execution_count": 7,
   "metadata": {},
   "outputs": [
    {
     "name": "stdout",
     "output_type": "stream",
     "text": [
      "You just earn 5 points!\n"
     ]
    }
   ],
   "source": [
    "#passing version\n",
    "alien = \"green\"\n",
    "if alien == \"green\":\n",
    "    print(\"You just earn 5 points!\")\n",
    "    \n",
    "#failing version\n",
    "alien = \"yellow\"\n",
    "if alien == \"green\":\n",
    "    print(\"You just earn 5 points!\")"
   ]
  },
  {
   "cell_type": "markdown",
   "metadata": {},
   "source": [
    "### 5 - 4"
   ]
  },
  {
   "cell_type": "code",
   "execution_count": 8,
   "metadata": {},
   "outputs": [
    {
     "name": "stdout",
     "output_type": "stream",
     "text": [
      "You just earn 5 points for shooting the alien.\n",
      "You just earned 10 points.\n"
     ]
    }
   ],
   "source": [
    "#runninng the if block\n",
    "alien = \"green\"\n",
    "if alien == \"green\":\n",
    "    print(\"You just earn 5 points for shooting the alien.\")\n",
    "else:\n",
    "    print(\"You just earned 10 points.\")\n",
    "    \n",
    "#runninng the else block\n",
    "alien = \"red\"\n",
    "if alien == \"green\":\n",
    "    print(\"You just earn 5 points for shooting the alien.\")\n",
    "else:\n",
    "    print(\"You just earned 10 points.\")"
   ]
  },
  {
   "cell_type": "markdown",
   "metadata": {},
   "source": [
    "### 5 - 5"
   ]
  },
  {
   "cell_type": "code",
   "execution_count": 10,
   "metadata": {},
   "outputs": [
    {
     "name": "stdout",
     "output_type": "stream",
     "text": [
      ">>> Version 1\n",
      "You earned 10 points.\n",
      "\n",
      ">>> Version 2\n",
      "You earned 10 points.\n",
      "\n",
      ">>> Version 3\n",
      "You earned 10 points.\n"
     ]
    }
   ],
   "source": [
    "alien = \"yellow\"\n",
    "\n",
    "#version 1\n",
    "print(\">>> Version 1\")\n",
    "if alien == \"green\":\n",
    "    print(\"You earned 5 points.\")\n",
    "elif alien == \"yellow\":\n",
    "    print(\"You earned 10 points.\")\n",
    "else:\n",
    "    print(\"You earned 15 points.\")\n",
    "    \n",
    "#version 2\n",
    "print(\"\\n>>> Version 2\")\n",
    "if alien == \"red\":\n",
    "    print(\"You earned 15 points.\")\n",
    "elif alien == \"green\":\n",
    "    print(\"You earned 5 points.\")\n",
    "else:\n",
    "    print(\"You earned 10 points.\")\n",
    "    \n",
    "#version 3\n",
    "print(\"\\n>>> Version 3\")\n",
    "if alien == \"yellow\":\n",
    "    print(\"You earned 10 points.\")\n",
    "elif alien == \"red\":\n",
    "    print(\"You earned 15 points.\")\n",
    "else:\n",
    "    print(\"You earned 5 points.\")"
   ]
  },
  {
   "cell_type": "markdown",
   "metadata": {},
   "source": [
    "### 5 - 6"
   ]
  },
  {
   "cell_type": "code",
   "execution_count": 11,
   "metadata": {},
   "outputs": [
    {
     "name": "stdout",
     "output_type": "stream",
     "text": [
      "The person is an adult.\n"
     ]
    }
   ],
   "source": [
    "age = 20\n",
    "if age<2:\n",
    "    print(\"The person is a baby.\")\n",
    "elif age<4:\n",
    "    print(\"The person is a toddler.\")\n",
    "elif age<13:\n",
    "    print(\"The person is a kid.\")\n",
    "elif age<20:\n",
    "    print(\"The person is a teenager.\")\n",
    "elif age<65:\n",
    "    print(\"The person is an adult.\")\n",
    "else:\n",
    "    print(\"the person is an elder.\")"
   ]
  },
  {
   "cell_type": "markdown",
   "metadata": {},
   "source": [
    "### 5 - 7"
   ]
  },
  {
   "cell_type": "code",
   "execution_count": 12,
   "metadata": {},
   "outputs": [
    {
     "name": "stdout",
     "output_type": "stream",
     "text": [
      "You really like watermelon!\n",
      "You really like apple!\n",
      "You really like banana!\n"
     ]
    }
   ],
   "source": [
    "favorite_fruits = [\"watermelon\", \"apple\", \"banana\"]\n",
    "\n",
    "#Five if-statement\n",
    "if \"watermelon\" in favorite_fruits:\n",
    "    print(\"You really like watermelon!\")\n",
    "if \"apple\" in favorite_fruits:\n",
    "    print(\"You really like apple!\")\n",
    "if \"banana\" in favorite_fruits:\n",
    "    print(\"You really like banana!\")\n",
    "if \"pineapple\" in favorite_fruits:\n",
    "    print(\"You really like pineapple!\")\n",
    "if \"orange\" in favorite_fruits:\n",
    "    print(\"You really like orange!\")"
   ]
  },
  {
   "cell_type": "markdown",
   "metadata": {},
   "source": [
    "## Exercise 2"
   ]
  },
  {
   "cell_type": "markdown",
   "metadata": {},
   "source": [
    "### a"
   ]
  },
  {
   "cell_type": "code",
   "execution_count": 13,
   "metadata": {},
   "outputs": [
    {
     "name": "stdout",
     "output_type": "stream",
     "text": [
      "20\n"
     ]
    }
   ],
   "source": [
    "atuple = (\"Orange\", [10, 20, 30], (5, 15, 25))\n",
    "print(atuple[1][1])"
   ]
  },
  {
   "cell_type": "markdown",
   "metadata": {},
   "source": [
    "### b "
   ]
  },
  {
   "cell_type": "code",
   "execution_count": 14,
   "metadata": {},
   "outputs": [
    {
     "name": "stdout",
     "output_type": "stream",
     "text": [
      "[('',), ('a', 'b'), ('a', 'b', 'c'), 'd']\n"
     ]
    }
   ],
   "source": [
    "list_tuples = [(), (), ('',), ('a', 'b'), ('a', 'b', 'c'), ('d')]\n",
    "i = 0\n",
    "while i < len(list_tuples):\n",
    "    if bool(list_tuples[i]) == False:\n",
    "        del list_tuples[i]\n",
    "    else:\n",
    "        i += 1\n",
    "print(list_tuples)"
   ]
  },
  {
   "cell_type": "markdown",
   "metadata": {},
   "source": [
    "### c"
   ]
  },
  {
   "cell_type": "code",
   "execution_count": 15,
   "metadata": {},
   "outputs": [
    {
     "name": "stdout",
     "output_type": "stream",
     "text": [
      "(11, [222, 33], 44, 55)\n"
     ]
    }
   ],
   "source": [
    "tuple1 = (11, [22, 33], 44, 55)\n",
    "tuple1[1][0] = 222\n",
    "print(tuple1)"
   ]
  },
  {
   "cell_type": "markdown",
   "metadata": {},
   "source": [
    "## Exercise 3"
   ]
  },
  {
   "cell_type": "markdown",
   "metadata": {},
   "source": [
    "### a"
   ]
  },
  {
   "cell_type": "code",
   "execution_count": 16,
   "metadata": {},
   "outputs": [
    {
     "name": "stdout",
     "output_type": "stream",
     "text": [
      "{'Black', 'Orange', 'Blue', 'Red', 'Green', 'Yellow'}\n"
     ]
    }
   ],
   "source": [
    "sampleSet = {\"Yellow\", \"Orange\", \"Black\"}\n",
    "sampleList = [\"Blue\", \"Green\", \"Red\"]\n",
    "sampleSet = sampleSet.union(sampleList)\n",
    "print(sampleSet)"
   ]
  },
  {
   "cell_type": "markdown",
   "metadata": {},
   "source": [
    "### b"
   ]
  },
  {
   "cell_type": "code",
   "execution_count": 17,
   "metadata": {},
   "outputs": [
    {
     "name": "stdout",
     "output_type": "stream",
     "text": [
      "{50, 40}\n"
     ]
    }
   ],
   "source": [
    "set1 = {10, 20, 30, 40, 50}\n",
    "set1.difference_update({10, 20, 30})\n",
    "print(set1)"
   ]
  },
  {
   "cell_type": "markdown",
   "metadata": {},
   "source": [
    "## Exercise 4"
   ]
  },
  {
   "cell_type": "code",
   "execution_count": 18,
   "metadata": {},
   "outputs": [
    {
     "name": "stdout",
     "output_type": "stream",
     "text": [
      "a) {40, 50, 30}\n",
      "b) {70, 40, 10, 50, 20, 60, 30}\n",
      "c) {10, 20}\n",
      "d) {70, 10, 20, 60}\n"
     ]
    }
   ],
   "source": [
    "set1 = {10, 20, 30, 40, 50}\n",
    "set2 = {30, 40, 50, 60, 70}\n",
    "#a\n",
    "seta = set1.intersection(set2)\n",
    "print(\"a)\", seta)\n",
    "#b\n",
    "setb = set1.union(set2)\n",
    "print(\"b)\", setb)\n",
    "#c\n",
    "setc = set1.difference(set2)\n",
    "print(\"c)\", setc)\n",
    "#d\n",
    "setd = setc.union(set2.difference(set1))\n",
    "print(\"d)\", setd)"
   ]
  },
  {
   "cell_type": "markdown",
   "metadata": {},
   "source": [
    "## Exercise 5"
   ]
  },
  {
   "cell_type": "code",
   "execution_count": 19,
   "metadata": {},
   "outputs": [
    {
     "name": "stdout",
     "output_type": "stream",
     "text": [
      ">>> Message:\n",
      "\n",
      "Machine learning; (ML) is the study of \\ computer algorithms that improve automatically through# experience. It is seen as a subset of artificial intelligence. Machine learning algorithms build a mathematical model based on sample data, known as \"training data\", in order to make predictions or decisions without being explicitly programmed to do so. Machine{ learning} algorithms are used in a wide variety of applications, such as email filtering and computer() vision, where it is difficult or infeasible to develop conventional algorithms to perform the needed tasks. Machine# learning is closely related to computational *statistics, which focuses on making predictions! using computers. The study of mathematical optimization delivers methods, theory and application domains to the-- field ;of machine learning. Data mining is a related field of study, focusing on exploratory data analysis through unsupervised learning In its application across business problems, machine learning is also referred to as predictive analytics.\n"
     ]
    }
   ],
   "source": [
    "message = '''Machine learning; (ML) is the study of \\ computer algorithms that improve automatically \n",
    "through# experience. It is seen as a subset of artificial intelligence. Machine learning \n",
    "algorithms build a mathematical model based on sample data, known as \"training data\", in \n",
    "order to make predictions or decisions without being explicitly programmed to do so. \n",
    "Machine{ learning} algorithms are used in a wide variety of applications, such as email \n",
    "filtering and computer() vision, where it is difficult or infeasible to develop conventional \n",
    "algorithms to perform the needed tasks. Machine# learning is closely related to \n",
    "computational *statistics, which focuses on making predictions! using computers. The \n",
    "study of mathematical optimization delivers methods, theory and application domains to \n",
    "the-- field ;of machine learning. Data mining is a related field of study, focusing on \n",
    "exploratory data analysis through unsupervised learning In its application across business \n",
    "problems, machine learning is also referred to as predictive analytics.'''\n",
    "message = message.replace(\"\\n\", \"\")\n",
    "print(\">>> Message:\\n\", message, sep = '\\n')"
   ]
  },
  {
   "cell_type": "markdown",
   "metadata": {},
   "source": [
    "### a - The number of words"
   ]
  },
  {
   "cell_type": "code",
   "execution_count": 20,
   "metadata": {},
   "outputs": [
    {
     "name": "stdout",
     "output_type": "stream",
     "text": [
      "The number of words: 148\n"
     ]
    }
   ],
   "source": [
    "mess2 = message\n",
    "specials = {';', '(', ')', '\\\\', '#', '\"', ',', '.', '{','}', '-', '*', '!'}\n",
    "for i in specials:\n",
    "    mess2 = mess2.replace(i, \"\")\n",
    "mess2 = mess2.replace(\"  \", \" \")\n",
    "mess2 = mess2.lower()\n",
    "words = mess2.split(\" \")\n",
    "print(\"The number of words:\", len(words))"
   ]
  },
  {
   "cell_type": "markdown",
   "metadata": {},
   "source": [
    "### b - The number of different words"
   ]
  },
  {
   "cell_type": "code",
   "execution_count": 21,
   "metadata": {},
   "outputs": [
    {
     "name": "stdout",
     "output_type": "stream",
     "text": [
      "The number of different words: 90\n"
     ]
    }
   ],
   "source": [
    "words_differ = set(words)\n",
    "print(\"The number of different words:\", len(words_differ))"
   ]
  },
  {
   "cell_type": "markdown",
   "metadata": {},
   "source": [
    "### c - The frequency of each word."
   ]
  },
  {
   "cell_type": "code",
   "execution_count": 22,
   "metadata": {},
   "outputs": [
    {
     "name": "stdout",
     "output_type": "stream",
     "text": [
      "a: 4\n",
      "across: 1\n",
      "algorithms: 4\n",
      "also: 1\n",
      "analysis: 1\n",
      "analytics: 1\n",
      "and: 2\n",
      "application: 2\n",
      "applications: 1\n",
      "are: 1\n",
      "artificial: 1\n",
      "as: 4\n",
      "automatically: 1\n",
      "based: 1\n",
      "being: 1\n",
      "build: 1\n",
      "business: 1\n",
      "closely: 1\n",
      "computational: 1\n",
      "computer: 2\n",
      "computers: 1\n",
      "conventional: 1\n",
      "data: 4\n",
      "decisions: 1\n",
      "delivers: 1\n",
      "develop: 1\n",
      "difficult: 1\n",
      "do: 1\n",
      "domains: 1\n",
      "email: 1\n",
      "experience: 1\n",
      "explicitly: 1\n",
      "exploratory: 1\n",
      "field: 2\n",
      "filtering: 1\n",
      "focuses: 1\n",
      "focusing: 1\n",
      "improve: 1\n",
      "in: 3\n",
      "infeasible: 1\n",
      "intelligence: 1\n",
      "is: 6\n",
      "it: 2\n",
      "its: 1\n",
      "known: 1\n",
      "learning: 7\n",
      "machine: 6\n",
      "make: 1\n",
      "making: 1\n",
      "mathematical: 2\n",
      "methods: 1\n",
      "mining: 1\n",
      "ml: 1\n",
      "model: 1\n",
      "needed: 1\n",
      "of: 6\n",
      "on: 3\n",
      "optimization: 1\n",
      "or: 2\n",
      "order: 1\n",
      "perform: 1\n",
      "predictions: 2\n",
      "predictive: 1\n",
      "problems: 1\n",
      "programmed: 1\n",
      "referred: 1\n",
      "related: 2\n",
      "sample: 1\n",
      "seen: 1\n",
      "so: 1\n",
      "statistics: 1\n",
      "study: 3\n",
      "subset: 1\n",
      "such: 1\n",
      "tasks: 1\n",
      "that: 1\n",
      "the: 4\n",
      "theory: 1\n",
      "through: 2\n",
      "to: 7\n",
      "training: 1\n",
      "unsupervised: 1\n",
      "used: 1\n",
      "using: 1\n",
      "variety: 1\n",
      "vision: 1\n",
      "where: 1\n",
      "which: 1\n",
      "wide: 1\n",
      "without: 1\n"
     ]
    }
   ],
   "source": [
    "words_differ = list(words_differ)\n",
    "words_differ.sort()\n",
    "for i in words_differ:\n",
    "    count = 0\n",
    "    for i2 in words:\n",
    "        if i == i2:\n",
    "            count += 1\n",
    "    print(\"{}: {}\".format(i, count))"
   ]
  },
  {
   "cell_type": "markdown",
   "metadata": {},
   "source": [
    "## Exercise 6"
   ]
  },
  {
   "cell_type": "code",
   "execution_count": 23,
   "metadata": {},
   "outputs": [
    {
     "data": {
      "text/plain": [
       "[('Minh', 26, 190),\n",
       " ('Mạnh', 1, 420),\n",
       " ('Mai', 61, 360),\n",
       " ('Chi', 26, 220),\n",
       " ('Anh', 16, 140),\n",
       " ('Đức', 46, 220),\n",
       " ('Mạnh', 26, 370),\n",
       " ('Anh', 56, 160),\n",
       " ('Chi', 11, 190),\n",
       " ('Minh', 51, 360),\n",
       " ('Chi', 6, 350),\n",
       " ('Minh', 66, 310),\n",
       " ('Mai', 16, 110),\n",
       " ('Mai', 31, 420),\n",
       " ('Bình', 26, 420),\n",
       " ('Mai', 6, 190),\n",
       " ('Anh', 36, 320),\n",
       " ('Minh', 51, 470),\n",
       " ('Chi', 16, 180),\n",
       " ('Đức', 46, 470),\n",
       " ('Minh', 21, 120),\n",
       " ('Mạnh', 21, 160),\n",
       " ('Mai', 66, 160),\n",
       " ('Bình', 11, 440),\n",
       " ('Anh', 41, 480),\n",
       " ('Mạnh', 61, 360),\n",
       " ('Chi', 16, 120),\n",
       " ('Đức', 46, 400),\n",
       " ('Mạnh', 31, 360),\n",
       " ('Mạnh', 66, 200),\n",
       " ('Chi', 51, 170),\n",
       " ('Mạnh', 56, 460),\n",
       " ('Mạnh', 61, 460),\n",
       " ('Mạnh', 51, 340),\n",
       " ('Anh', 66, 410),\n",
       " ('Bình', 46, 210),\n",
       " ('Minh', 66, 270),\n",
       " ('Bình', 26, 190),\n",
       " ('Mạnh', 6, 450),\n",
       " ('Mai', 31, 400),\n",
       " ('Minh', 46, 240),\n",
       " ('Mai', 36, 240),\n",
       " ('Mai', 61, 390),\n",
       " ('Đức', 31, 420),\n",
       " ('Mai', 11, 330),\n",
       " ('Đức', 6, 240),\n",
       " ('Mai', 51, 130),\n",
       " ('Đức', 46, 470),\n",
       " ('Minh', 31, 450),\n",
       " ('Minh', 21, 110),\n",
       " ('Minh', 1, 200),\n",
       " ('Mai', 31, 150),\n",
       " ('Mai', 56, 350),\n",
       " ('Minh', 66, 450),\n",
       " ('Anh', 11, 230),\n",
       " ('Mạnh', 66, 100),\n",
       " ('Minh', 1, 490),\n",
       " ('Mai', 46, 130),\n",
       " ('Minh', 26, 230),\n",
       " ('Minh', 11, 170),\n",
       " ('Đức', 61, 340),\n",
       " ('Mai', 56, 440),\n",
       " ('Mạnh', 1, 130),\n",
       " ('Mạnh', 16, 440),\n",
       " ('Mạnh', 51, 160),\n",
       " ('Minh', 31, 260),\n",
       " ('Đức', 51, 160),\n",
       " ('Đức', 21, 120),\n",
       " ('Anh', 21, 460),\n",
       " ('Mạnh', 21, 350),\n",
       " ('Chi', 21, 440),\n",
       " ('Đức', 16, 290),\n",
       " ('Đức', 36, 240),\n",
       " ('Mai', 6, 180),\n",
       " ('Anh', 66, 110),\n",
       " ('Mai', 51, 470),\n",
       " ('Minh', 66, 400),\n",
       " ('Anh', 51, 140),\n",
       " ('Mai', 1, 210),\n",
       " ('Anh', 16, 410),\n",
       " ('Bình', 21, 290),\n",
       " ('Chi', 56, 200),\n",
       " ('Bình', 21, 210),\n",
       " ('Đức', 66, 350),\n",
       " ('Bình', 41, 140),\n",
       " ('Minh', 6, 120),\n",
       " ('Anh', 21, 100),\n",
       " ('Mai', 21, 450),\n",
       " ('Chi', 36, 400),\n",
       " ('Đức', 41, 220),\n",
       " ('Mạnh', 21, 100),\n",
       " ('Bình', 16, 480),\n",
       " ('Mai', 66, 350),\n",
       " ('Minh', 41, 350),\n",
       " ('Đức', 51, 260),\n",
       " ('Mai', 16, 420),\n",
       " ('Đức', 6, 370),\n",
       " ('Mạnh', 26, 250),\n",
       " ('Chi', 6, 120),\n",
       " ('Minh', 61, 290),\n",
       " ('Chi', 21, 440),\n",
       " ('Minh', 31, 120),\n",
       " ('Mai', 16, 310),\n",
       " ('Mạnh', 61, 170),\n",
       " ('Bình', 41, 180),\n",
       " ('Đức', 6, 430),\n",
       " ('Mạnh', 41, 290),\n",
       " ('Mạnh', 51, 390),\n",
       " ('Bình', 21, 460),\n",
       " ('Bình', 1, 340),\n",
       " ('Chi', 46, 450),\n",
       " ('Đức', 1, 210),\n",
       " ('Mai', 56, 390),\n",
       " ('Chi', 6, 310),\n",
       " ('Đức', 1, 110),\n",
       " ('Chi', 11, 320),\n",
       " ('Minh', 56, 160),\n",
       " ('Mạnh', 11, 140),\n",
       " ('Mai', 61, 430),\n",
       " ('Đức', 56, 210),\n",
       " ('Chi', 36, 420),\n",
       " ('Chi', 1, 300),\n",
       " ('Đức', 11, 360),\n",
       " ('Mạnh', 36, 310),\n",
       " ('Mạnh', 36, 330),\n",
       " ('Mạnh', 16, 270),\n",
       " ('Chi', 21, 120),\n",
       " ('Đức', 16, 110),\n",
       " ('Đức', 6, 390),\n",
       " ('Anh', 36, 180),\n",
       " ('Mai', 11, 370),\n",
       " ('Mạnh', 31, 390),\n",
       " ('Bình', 61, 170),\n",
       " ('Anh', 56, 120),\n",
       " ('Mai', 66, 340),\n",
       " ('Mạnh', 6, 180),\n",
       " ('Bình', 56, 140),\n",
       " ('Anh', 26, 480),\n",
       " ('Mai', 56, 230),\n",
       " ('Đức', 36, 360),\n",
       " ('Mai', 36, 110),\n",
       " ('Mai', 16, 420),\n",
       " ('Bình', 66, 450),\n",
       " ('Mai', 6, 100),\n",
       " ('Mai', 1, 210),\n",
       " ('Anh', 41, 160),\n",
       " ('Anh', 51, 340),\n",
       " ('Đức', 11, 360),\n",
       " ('Minh', 56, 280),\n",
       " ('Mạnh', 36, 490),\n",
       " ('Minh', 41, 180),\n",
       " ('Minh', 11, 250),\n",
       " ('Mạnh', 61, 360),\n",
       " ('Mạnh', 26, 130),\n",
       " ('Chi', 56, 480),\n",
       " ('Đức', 46, 130),\n",
       " ('Bình', 51, 140),\n",
       " ('Bình', 36, 340),\n",
       " ('Chi', 31, 440),\n",
       " ('Bình', 51, 200),\n",
       " ('Bình', 66, 490),\n",
       " ('Anh', 21, 270),\n",
       " ('Minh', 56, 190),\n",
       " ('Anh', 6, 320),\n",
       " ('Mạnh', 26, 470),\n",
       " ('Anh', 11, 100),\n",
       " ('Chi', 1, 280),\n",
       " ('Mai', 21, 130),\n",
       " ('Mạnh', 61, 430),\n",
       " ('Bình', 6, 170),\n",
       " ('Minh', 51, 140),\n",
       " ('Mạnh', 31, 220),\n",
       " ('Anh', 41, 110),\n",
       " ('Bình', 26, 290),\n",
       " ('Mạnh', 56, 210),\n",
       " ('Anh', 51, 260),\n",
       " ('Anh', 41, 410),\n",
       " ('Minh', 66, 220),\n",
       " ('Minh', 21, 210),\n",
       " ('Chi', 56, 200),\n",
       " ('Chi', 16, 370),\n",
       " ('Mạnh', 51, 190),\n",
       " ('Đức', 51, 150),\n",
       " ('Anh', 1, 410),\n",
       " ('Anh', 6, 380),\n",
       " ('Chi', 21, 280),\n",
       " ('Chi', 51, 260),\n",
       " ('Bình', 6, 450),\n",
       " ('Bình', 31, 150),\n",
       " ('Chi', 36, 460),\n",
       " ('Đức', 21, 470),\n",
       " ('Đức', 16, 260),\n",
       " ('Anh', 6, 130),\n",
       " ('Minh', 56, 220),\n",
       " ('Mạnh', 11, 450),\n",
       " ('Mai', 31, 450),\n",
       " ('Anh', 56, 380),\n",
       " ('Bình', 51, 190),\n",
       " ('Chi', 6, 190),\n",
       " ('Đức', 41, 220)]"
      ]
     },
     "execution_count": 23,
     "metadata": {},
     "output_type": "execute_result"
    }
   ],
   "source": [
    "import random\n",
    "random.seed = 63\n",
    "\n",
    "women = ['Anh', 'Chi', 'Mai']\n",
    "men = ['Bình', 'Đức', 'Mạnh', 'Minh']\n",
    "names = women + men\n",
    "customers = []\n",
    "\n",
    "for _ in range(200):\n",
    "    name = random.choice(names)\n",
    "    age = random.randrange(1, 70, 5)\n",
    "    price = random.randrange(100, 500, 10)\n",
    "    customers.append((name, age, price))\n",
    "customers"
   ]
  },
  {
   "cell_type": "markdown",
   "metadata": {},
   "source": [
    "### a - Calculate the total amount each customer needs to pay"
   ]
  },
  {
   "cell_type": "code",
   "execution_count": 24,
   "metadata": {},
   "outputs": [
    {
     "data": {
      "text/plain": [
       "[['Minh', 26, 420],\n",
       " ['Mạnh', 1, 550],\n",
       " ['Mai', 61, 1180],\n",
       " ['Chi', 26, 220],\n",
       " ['Anh', 16, 550],\n",
       " ['Đức', 46, 1690],\n",
       " ['Mạnh', 26, 1220],\n",
       " ['Anh', 56, 660],\n",
       " ['Chi', 11, 510],\n",
       " ['Minh', 51, 970],\n",
       " ['Chi', 6, 970],\n",
       " ['Minh', 66, 1650],\n",
       " ['Mai', 16, 1260],\n",
       " ['Mai', 31, 1420],\n",
       " ['Bình', 26, 900],\n",
       " ['Mai', 6, 470],\n",
       " ['Anh', 36, 500],\n",
       " ['Chi', 16, 670],\n",
       " ['Minh', 21, 440],\n",
       " ['Mạnh', 21, 610],\n",
       " ['Mai', 66, 850],\n",
       " ['Bình', 11, 440],\n",
       " ['Anh', 41, 1160],\n",
       " ['Mạnh', 61, 1780],\n",
       " ['Mạnh', 31, 970],\n",
       " ['Mạnh', 66, 300],\n",
       " ['Chi', 51, 430],\n",
       " ['Mạnh', 56, 670],\n",
       " ['Mạnh', 51, 1080],\n",
       " ['Anh', 66, 520],\n",
       " ['Bình', 46, 210],\n",
       " ['Mạnh', 6, 630],\n",
       " ['Minh', 46, 240],\n",
       " ['Mai', 36, 350],\n",
       " ['Đức', 31, 420],\n",
       " ['Mai', 11, 700],\n",
       " ['Đức', 6, 1430],\n",
       " ['Mai', 51, 600],\n",
       " ['Minh', 31, 830],\n",
       " ['Minh', 1, 690],\n",
       " ['Mai', 56, 1410],\n",
       " ['Anh', 11, 330],\n",
       " ['Mai', 46, 130],\n",
       " ['Minh', 11, 420],\n",
       " ['Đức', 61, 340],\n",
       " ['Mạnh', 16, 710],\n",
       " ['Đức', 51, 570],\n",
       " ['Đức', 21, 590],\n",
       " ['Anh', 21, 830],\n",
       " ['Chi', 21, 1280],\n",
       " ['Đức', 16, 660],\n",
       " ['Đức', 36, 600],\n",
       " ['Anh', 51, 740],\n",
       " ['Mai', 1, 420],\n",
       " ['Bình', 21, 960],\n",
       " ['Chi', 56, 880],\n",
       " ['Đức', 66, 350],\n",
       " ['Bình', 41, 320],\n",
       " ['Minh', 6, 120],\n",
       " ['Mai', 21, 580],\n",
       " ['Chi', 36, 1280],\n",
       " ['Đức', 41, 440],\n",
       " ['Bình', 16, 480],\n",
       " ['Minh', 41, 530],\n",
       " ['Minh', 61, 290],\n",
       " ['Mạnh', 41, 290],\n",
       " ['Bình', 1, 340],\n",
       " ['Chi', 46, 450],\n",
       " ['Đức', 1, 320],\n",
       " ['Minh', 56, 850],\n",
       " ['Mạnh', 11, 590],\n",
       " ['Đức', 56, 210],\n",
       " ['Chi', 1, 580],\n",
       " ['Đức', 11, 720],\n",
       " ['Mạnh', 36, 1130],\n",
       " ['Bình', 61, 170],\n",
       " ['Bình', 56, 140],\n",
       " ['Anh', 26, 480],\n",
       " ['Bình', 66, 940],\n",
       " ['Bình', 51, 530],\n",
       " ['Bình', 36, 340],\n",
       " ['Chi', 31, 440],\n",
       " ['Anh', 6, 830],\n",
       " ['Bình', 6, 620],\n",
       " ['Anh', 1, 410],\n",
       " ['Bình', 31, 150]]"
      ]
     },
     "execution_count": 24,
     "metadata": {},
     "output_type": "execute_result"
    }
   ],
   "source": [
    "customers_differ = []\n",
    "customers_differ.append(list(customers[0]))\n",
    "for i in range(1, len(customers)):\n",
    "    check = 0\n",
    "    temp = list(customers[i])\n",
    "    for i2 in range(len(customers_differ)):\n",
    "        if (customers_differ[i2][0] == temp[0]) and (customers_differ[i2][1] == temp[1]):\n",
    "            customers_differ[i2][2] += temp[2]\n",
    "            check += 1\n",
    "    if check == 0:\n",
    "        customers_differ.append(temp)\n",
    "customers_differ"
   ]
  },
  {
   "cell_type": "markdown",
   "metadata": {},
   "source": [
    "### b - The total amount of each customer after receiving a discount (and a gift for some cases)"
   ]
  },
  {
   "cell_type": "code",
   "execution_count": 25,
   "metadata": {},
   "outputs": [
    {
     "data": {
      "text/plain": [
       "[['Minh', 26, 411.59999999999997],\n",
       " ['Mạnh', 1, 465.5],\n",
       " ['Mai', 61, 883.0],\n",
       " ['Chi', 26, 215.6],\n",
       " ['Anh', 16, 504.0],\n",
       " ['Đức', 46, 1656.2],\n",
       " ['Mạnh', 26, 1195.6],\n",
       " ['Anh', 56, 646.8],\n",
       " ['Chi', 11, 467.20000000000005],\n",
       " ['Minh', 51, 950.6],\n",
       " ['Chi', 6, 822.5],\n",
       " ['Minh', 66, 1235.5],\n",
       " ['Mai', 16, 1157.2],\n",
       " ['Mai', 31, 1391.6],\n",
       " ['Bình', 26, 882.0],\n",
       " ['Mai', 6, 397.5],\n",
       " ['Anh', 36, 490.0],\n",
       " ['Chi', 16, 614.4],\n",
       " ['Minh', 21, 418.0],\n",
       " ['Mạnh', 21, 579.5],\n",
       " ['Mai', 66, 635.5],\n",
       " ['Bình', 11, 404.8],\n",
       " ['Anh', 41, 1136.8],\n",
       " ['Mạnh', 61, 1333.0],\n",
       " ['Mạnh', 31, 950.6],\n",
       " ['Mạnh', 66, 223.0],\n",
       " ['Chi', 51, 421.4],\n",
       " ['Mạnh', 56, 656.6],\n",
       " ['Mạnh', 51, 1058.4],\n",
       " ['Anh', 66, 388.0],\n",
       " ['Bình', 46, 205.79999999999998],\n",
       " ['Mạnh', 6, 533.5],\n",
       " ['Minh', 46, 235.2],\n",
       " ['Mai', 36, 343.0],\n",
       " ['Đức', 31, 411.59999999999997],\n",
       " ['Mai', 11, 642.0],\n",
       " ['Đức', 6, 1213.5],\n",
       " ['Mai', 51, 588.0],\n",
       " ['Minh', 31, 813.4],\n",
       " ['Minh', 1, 584.5],\n",
       " ['Mai', 56, 1381.8],\n",
       " ['Anh', 11, 301.6],\n",
       " ['Mai', 46, 127.39999999999999],\n",
       " ['Minh', 11, 386.40000000000003],\n",
       " ['Đức', 61, 253.0],\n",
       " ['Mạnh', 16, 653.2],\n",
       " ['Đức', 51, 558.6],\n",
       " ['Đức', 21, 560.5],\n",
       " ['Anh', 21, 786.5],\n",
       " ['Chi', 21, 1214.0],\n",
       " ['Đức', 16, 607.2],\n",
       " ['Đức', 36, 588.0],\n",
       " ['Anh', 51, 725.1999999999999],\n",
       " ['Mai', 1, 355.0],\n",
       " ['Bình', 21, 912.0],\n",
       " ['Chi', 56, 862.4],\n",
       " ['Đức', 66, 260.5],\n",
       " ['Bình', 41, 313.6],\n",
       " ['Minh', 6, 100.0],\n",
       " ['Mai', 21, 549.0],\n",
       " ['Chi', 36, 1254.4],\n",
       " ['Đức', 41, 431.2],\n",
       " ['Bình', 16, 441.6],\n",
       " ['Minh', 41, 519.4],\n",
       " ['Minh', 61, 215.5],\n",
       " ['Mạnh', 41, 284.2],\n",
       " ['Bình', 1, 287.0],\n",
       " ['Chi', 46, 441.0],\n",
       " ['Đức', 1, 270.0],\n",
       " ['Minh', 56, 833.0],\n",
       " ['Mạnh', 11, 542.8000000000001],\n",
       " ['Đức', 56, 205.79999999999998],\n",
       " ['Chi', 1, 491.0],\n",
       " ['Đức', 11, 662.4],\n",
       " ['Mạnh', 36, 1107.4],\n",
       " ['Bình', 61, 125.5],\n",
       " ['Bình', 56, 137.2],\n",
       " ['Anh', 26, 470.4],\n",
       " ['Bình', 66, 703.0],\n",
       " ['Bình', 51, 519.4],\n",
       " ['Bình', 36, 333.2],\n",
       " ['Chi', 31, 431.2],\n",
       " ['Anh', 6, 703.5],\n",
       " ['Bình', 6, 525.0],\n",
       " ['Anh', 1, 346.5],\n",
       " ['Bình', 31, 147.0]]"
      ]
     },
     "execution_count": 25,
     "metadata": {},
     "output_type": "execute_result"
    }
   ],
   "source": [
    "for i in customers_differ:\n",
    "    if i[1] < 10:\n",
    "        i[2] = i[2]*0.85 - 2\n",
    "    elif i[1] < 18:\n",
    "        i[2] *= 0.92\n",
    "        if i[0] in women:\n",
    "            i[2] -= 2\n",
    "    elif i[1] < 23:\n",
    "        i[2] *= 0.95\n",
    "        if i[0] in women:\n",
    "            i[2] -= 2\n",
    "    elif i[1] <= 60:\n",
    "        i[2] *= 0.98\n",
    "    else:\n",
    "        i[2] = i[2]*0.75 - 2\n",
    "customers_differ"
   ]
  },
  {
   "cell_type": "markdown",
   "metadata": {},
   "source": [
    "## Exercise 7\n",
    "$$ A(x,y) 2xy + 4x + 5y + x^2 - y^2 - 5$$"
   ]
  },
  {
   "cell_type": "code",
   "execution_count": 26,
   "metadata": {},
   "outputs": [
    {
     "name": "stdout",
     "output_type": "stream",
     "text": [
      "a) Numbers of variables:\n",
      ">>> 1 dependent variable: A(x,y)\n",
      ">>> 2 independent variables: ['x', 'y']\n",
      "\n",
      "b) Calculating\n",
      ">>> A(x,y) = 96\n"
     ]
    }
   ],
   "source": [
    "#The number of variables\n",
    "a = \"A(x,y)=2xy+4x+5y+x^2-y^2-5\"\n",
    "b = a.split(\"=\")\n",
    "print(\"a) Numbers of variables:\\n>>> 1 dependent variable: {}\".format(b[0]))\n",
    "b[0] = b[0].split(\"(\")\n",
    "b[0][1] = b[0][1].replace(\")\",\"\")\n",
    "b[0][1] = b[0][1].split(\",\")\n",
    "print(\">>> {} independent variables: {}\".format(len(b[0][1]), b[0][1]))\n",
    "\n",
    "#Calculating\n",
    "print(\"\\nb) Calculating\")\n",
    "var = b[0][1].copy()\n",
    "for i in range(len(var)):\n",
    "    x = int(input(\"{} = \".format(var[i])))\n",
    "    var[i] = list(var[i])\n",
    "    var[i].append(x)\n",
    "    \n",
    "axy = 0\n",
    "sub_prod = 1\n",
    "    \n",
    "b[1] = b[1].replace(\"-\", \"+-\")\n",
    "b[1] = b[1].split(\"+\")\n",
    "for i in b[1]:\n",
    "    i = i.replace(\"\", \"*\")\n",
    "    i = i.replace(\"-*\", \"-1*\")\n",
    "    i = i.replace(\"*^*\", \"^\")\n",
    "    i = f\"1{i}1\"\n",
    "    i = i.split(\"*\")\n",
    "    prod_i = 1\n",
    "    for i2 in range(len(i)):\n",
    "        if \"^\" in i[i2]:\n",
    "            temp = i[i2].split(\"^\")\n",
    "            for i3 in range(len(temp)):\n",
    "                if temp[i3] in b[0][1]:\n",
    "                    for i4 in range(len(b[0][1])):\n",
    "                        if temp[i3] in var[i4]:\n",
    "                            temp[i3] = var[i4][-1]\n",
    "                else:\n",
    "                    temp[i3] = int(temp[i3])\n",
    "            i[i2] = temp[0]**temp[1]\n",
    "        else:\n",
    "            if i[i2] in b[0][1]:\n",
    "                for i3 in range(len(b[0][1])):\n",
    "                    if i[i2] in var[i3]:\n",
    "                        i[i2] = var[i3][-1]\n",
    "            else:\n",
    "                i[i2] = int(i[i2])\n",
    "        prod_i *= i[i2]\n",
    "    axy += prod_i\n",
    "\n",
    "print(\">>> A(x,y) =\", axy)"
   ]
  }
 ],
 "metadata": {
  "kernelspec": {
   "display_name": ".venv",
   "language": "python",
   "name": "python3"
  },
  "language_info": {
   "codemirror_mode": {
    "name": "ipython",
    "version": 3
   },
   "file_extension": ".py",
   "mimetype": "text/x-python",
   "name": "python",
   "nbconvert_exporter": "python",
   "pygments_lexer": "ipython3",
   "version": "3.11.7"
  }
 },
 "nbformat": 4,
 "nbformat_minor": 2
}
