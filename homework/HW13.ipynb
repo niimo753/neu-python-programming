{
 "cells": [
  {
   "cell_type": "markdown",
   "metadata": {},
   "source": [
    "__HOMEWORK 13__\n",
    "<br>\n",
    "Full Name: Nguyễn Thị Minh Ngọc\n",
    "<br>\n",
    "Student ID: 11219280\n",
    "<br>\n",
    "Class: DSEB 63"
   ]
  },
  {
   "cell_type": "markdown",
   "metadata": {},
   "source": [
    "## Exercise 1\n",
    "### 9 - 4"
   ]
  },
  {
   "cell_type": "code",
   "execution_count": 1,
   "metadata": {},
   "outputs": [
    {
     "name": "stdout",
     "output_type": "stream",
     "text": [
      "The Maru serves Korean dishes.\n",
      "Number of customers served: 0\n",
      "Number of customers served: 20\n",
      "Number of customers served: 75\n",
      "Number of customers served: 100\n"
     ]
    }
   ],
   "source": [
    "class Restaurant:\n",
    "    \n",
    "    def __init__(self, restaurant_name, cuisine_type):\n",
    "        self.name = restaurant_name\n",
    "        self.cuisine = cuisine_type\n",
    "        self.number_served = 0\n",
    "        \n",
    "    def describe_restaurant(self):\n",
    "        print(f'The {self.name} serves {self.cuisine}.')\n",
    "        \n",
    "    def open_restaurant(self):\n",
    "        print(f'{self.name} is opening!')\n",
    "    \n",
    "    def set_number_served(self, number_served = None):\n",
    "        if number_served:\n",
    "            self.number_served = number_served\n",
    "            \n",
    "    def increment_served(self, increment = None):\n",
    "        if increment:\n",
    "            self.number_served += increment\n",
    "        \n",
    "# implement\n",
    "res = Restaurant('Maru', 'Korean dishes')\n",
    "res.describe_restaurant()\n",
    "print(f'Number of customers served: {res.number_served}')\n",
    "\n",
    "res.number_served = 20\n",
    "print(f'Number of customers served: {res.number_served}')\n",
    "\n",
    "res.set_number_served(75)\n",
    "print(f'Number of customers served: {res.number_served}')\n",
    "\n",
    "res.increment_served(25)\n",
    "print(f'Number of customers served: {res.number_served}')"
   ]
  },
  {
   "cell_type": "markdown",
   "metadata": {},
   "source": [
    "### 9 - 5"
   ]
  },
  {
   "cell_type": "code",
   "execution_count": 2,
   "metadata": {},
   "outputs": [
    {
     "name": "stdout",
     "output_type": "stream",
     "text": [
      "5\n",
      "0\n"
     ]
    }
   ],
   "source": [
    "class User:\n",
    "    \n",
    "    def __init__ (self, first_name, last_name, year_of_birth, gender, nationality):\n",
    "        self.first_name = first_name\n",
    "        self.last_name = last_name\n",
    "        self.yob = year_of_birth\n",
    "        self.gender = gender\n",
    "        self.nationality = nationality\n",
    "        self.login_attempts = 0\n",
    "        \n",
    "    def describe_user(self):\n",
    "        print(f'Name: {self.last_name} {self.first_name}')\n",
    "        print(f'Year Of Birth: {self.yob}')\n",
    "        print(f'Gender: {self.gender}')\n",
    "        print(f'Nationality: {self.nationality}')\n",
    "        \n",
    "    def greet_user(self):\n",
    "        print(f'{self.last_name} {self.first_name}, welcome!!!')\n",
    "        \n",
    "    def increment_login_attemp(self):\n",
    "        self.login_attempts += 1\n",
    "    \n",
    "    def reset_login_attempt(self):\n",
    "        self.login_attempts = 0\n",
    "\n",
    "user = User('Anne', 'Shirley', 2003, 'Female', 'Canada')\n",
    "for i in range(5):\n",
    "    user.increment_login_attemp()\n",
    "print(user.login_attempts)\n",
    "user.reset_login_attempt()\n",
    "print(user.login_attempts)"
   ]
  },
  {
   "cell_type": "markdown",
   "metadata": {},
   "source": [
    "### 9 - 6"
   ]
  },
  {
   "cell_type": "code",
   "execution_count": 3,
   "metadata": {},
   "outputs": [
    {
     "ename": "SyntaxError",
     "evalue": "invalid syntax (989587482.py, line 16)",
     "output_type": "error",
     "traceback": [
      "\u001b[1;36m  Cell \u001b[1;32mIn[3], line 16\u001b[1;36m\u001b[0m\n\u001b[1;33m    Ice Cream flavors:\u001b[0m\n\u001b[1;37m        ^\u001b[0m\n\u001b[1;31mSyntaxError\u001b[0m\u001b[1;31m:\u001b[0m invalid syntax\n"
     ]
    }
   ],
   "source": []
  },
  {
   "cell_type": "code",
   "execution_count": 4,
   "metadata": {},
   "outputs": [
    {
     "name": "stdout",
     "output_type": "stream",
     "text": [
      "Ice Cream flavors:\n",
      "- Vanilla\n",
      "- Chocolate\n",
      "- Black Cherry\n"
     ]
    }
   ],
   "source": [
    "class IceCreamStand(Restaurant):\n",
    "    def __init__(self, restaurant_name, cuisine_type):\n",
    "        super().__init__(restaurant_name, cuisine_type)\n",
    "        self.flavors = []\n",
    "\n",
    "    def display_flavors(self):\n",
    "        print(\"Ice Cream flavors:\")\n",
    "        for flavor in self.flavors:\n",
    "            print(f\"- {flavor.title()}\")\n",
    "\n",
    "\n",
    "icecream = IceCreamStand('Merino', 'ice cream')\n",
    "icecream.flavors = ['vanilla', 'chocolate', 'black cherry']\n",
    "\n",
    "icecream.display_flavors()"
   ]
  },
  {
   "cell_type": "markdown",
   "metadata": {},
   "source": [
    "### 9 - 7"
   ]
  },
  {
   "cell_type": "code",
   "execution_count": 5,
   "metadata": {},
   "outputs": [
    {
     "name": "stdout",
     "output_type": "stream",
     "text": [
      "\n",
      "Privileges:\n",
      "- can reset passwords\n",
      "- can moderate discussions\n",
      "- can suspend accounts\n"
     ]
    }
   ],
   "source": [
    "class Admin(User):\n",
    "    \n",
    "    def __init__(self, first_name, last_name, year_of_birth, gender, nationality):\n",
    "        super().__init__(first_name, last_name, year_of_birth, gender, nationality)\n",
    "        self.privileges = []\n",
    "        \n",
    "    def show_privileges(self):\n",
    "        print(\"\\nPrivileges:\")\n",
    "        for privilege in self.privileges:\n",
    "            print(f\"- {privilege}\")\n",
    "\n",
    "\n",
    "ad = Admin('Namjoon', 'Kim', '1994', 'male', 'korean')\n",
    "\n",
    "ad.privileges = ['can reset passwords', 'can moderate discussions', 'can suspend accounts']\n",
    "\n",
    "ad.show_privileges()"
   ]
  },
  {
   "cell_type": "markdown",
   "metadata": {},
   "source": [
    "### 9 - 8"
   ]
  },
  {
   "cell_type": "code",
   "execution_count": 6,
   "metadata": {},
   "outputs": [
    {
     "name": "stdout",
     "output_type": "stream",
     "text": [
      "\n",
      "Privileges:\n",
      "- can reset passwords\n",
      "- can moderate discussions\n",
      "- can suspend accounts\n"
     ]
    }
   ],
   "source": [
    "class Privileges:\n",
    "    def __init__(self):\n",
    "        self.privileges = []\n",
    "\n",
    "class Admin(User):\n",
    "    \n",
    "    def __init__(self, first_name, last_name, year_of_birth, gender, nationality):\n",
    "        super().__init__(first_name, last_name, year_of_birth, gender, nationality)\n",
    "        self.privileges = Privileges()\n",
    "        \n",
    "    def show_privileges(self):\n",
    "        print(\"\\nPrivileges:\")\n",
    "        for privilege in self.privileges:\n",
    "            print(f\"- {privilege}\")\n",
    "            \n",
    "user = Admin(\"Ngọc\", \"Nguyễn\", 1, 1, 1)\n",
    "user.privileges = ['can reset passwords', 'can moderate discussions', 'can suspend accounts']\n",
    "\n",
    "user.show_privileges()"
   ]
  },
  {
   "cell_type": "markdown",
   "metadata": {},
   "source": [
    "### 9 - 9"
   ]
  },
  {
   "cell_type": "code",
   "execution_count": 7,
   "metadata": {},
   "outputs": [
    {
     "name": "stdout",
     "output_type": "stream",
     "text": [
      "This car can go approximately 260 miles on a full charge.\n",
      "\n",
      "Upgrade the battery, and check the range again:\n",
      "Upgraded the battery to 100 kWh.\n",
      "This car can go approximately 315 miles on a full charge.\n"
     ]
    }
   ],
   "source": [
    "class Car:\n",
    "    def __init__(self, manufacturer, model, year):\n",
    "        self.manufacturer = manufacturer\n",
    "        self.model = model\n",
    "        self.year = year\n",
    "        self.odometer_reading = 0\n",
    "        \n",
    "    def get_descriptive_name(self):\n",
    "        long_name = f\"{self.year} {self.manufacturer} {self.model}\"\n",
    "        return long_name.title()\n",
    "    \n",
    "    def read_odometer(self):\n",
    "        print(f\"This car has {self.odometer_reading} miles on it.\")\n",
    "        \n",
    "    def update_odometer(self, mileage):\n",
    "        if mileage >= self.odometer_reading:\n",
    "            self.odometer_reading = mileage\n",
    "        else:\n",
    "            print(\"You can't roll back an odometer!\")\n",
    "    \n",
    "    def increment_odometer(self, miles):\n",
    "        self.odometer_reading += miles\n",
    "\n",
    "class Battery():\n",
    "\n",
    "    def __init__(self, battery_size=75):\n",
    "        self.battery_size = battery_size\n",
    "        capacity = 100\n",
    "\n",
    "    def describe_battery(self):\n",
    "        print(f\"This car has a {self.battery_size}-kWh battery.\")\n",
    "\n",
    "    def get_range(self):\n",
    "        if self.battery_size == 75:\n",
    "            range = 260\n",
    "        elif self.battery_size == 100:\n",
    "            range = 315\n",
    "            \n",
    "        message = f\"This car can go approximately {range}\"\n",
    "        message += \" miles on a full charge.\"\n",
    "        print(message)\n",
    "\n",
    "    def upgrade_battery(self):\n",
    "        if self.battery_size == 75:\n",
    "            self.battery_size = 100\n",
    "            print(\"Upgraded the battery to 100 kWh.\")\n",
    "        else:\n",
    "            print(\"The battery is already upgraded.\")\n",
    "    \n",
    "        \n",
    "class ElectricCar(Car):\n",
    "\n",
    "    def __init__(self, manufacturer, model, year):\n",
    "        super().__init__(manufacturer, model, year)\n",
    "        self.battery = Battery()\n",
    "        \n",
    "car = ElectricCar('Tesla', 'Model S', 2019)\n",
    "car.battery.get_range()\n",
    "\n",
    "print(\"\\nUpgrade the battery, and check the range again:\")\n",
    "car.battery.upgrade_battery()\n",
    "car.battery.get_range()"
   ]
  },
  {
   "cell_type": "markdown",
   "metadata": {},
   "source": [
    "## Exercise 2"
   ]
  },
  {
   "cell_type": "code",
   "execution_count": 8,
   "metadata": {},
   "outputs": [],
   "source": [
    "class Email:\n",
    "    username_created = []\n",
    "    email_created = []\n",
    "    \n",
    "    #Created email\n",
    "    def __init__(self, name = None):\n",
    "        character_accepted = [chr(i) for i in range(ord('a'), ord('z')+1)]\n",
    "        character_accepted.extend(str(i) for i in range(0, 10))\n",
    "        if name == None:\n",
    "            name = input(\"Username (only contains a-z or 0-9): \")\n",
    "        while (name in Email.username_created) or any(i not in character_accepted for i in name):\n",
    "            while any(i not in character_accepted for i in name):\n",
    "                name = input(\">>> Invalid character!\\n\\nUsername (only contains a-z or 0-9): \")\n",
    "            while name in Email.username_created:\n",
    "                name = input(\">>> Username used!\\n\\nUsername (only contains a-z or 0-9): \")\n",
    "        Email.username_created.append(name)\n",
    "        self.name = name\n",
    "        self.email = name + '@dseb.mfe.vn'\n",
    "        Email.email_created.append(self.email)\n",
    "        self.inbox = []\n",
    "        \n",
    "    #Send Email\n",
    "    def send(self, receiver, mess = None):\n",
    "        #delete if inbox has over 10 messages\n",
    "        if mess == None:\n",
    "            mess = input(\"Message: \")\n",
    "        if len(receiver.inbox) >= 10:\n",
    "            del receiver.inbox[0]\n",
    "        receiver.inbox.append(f\"{self.email}: {mess}\")"
   ]
  },
  {
   "cell_type": "code",
   "execution_count": 9,
   "metadata": {},
   "outputs": [
    {
     "name": "stdout",
     "output_type": "stream",
     "text": [
      "mn753 - mn753@dseb.mfe.vn\n"
     ]
    }
   ],
   "source": [
    "class Email_upadate(Email):\n",
    "    \n",
    "    def __init__(self, name = None):\n",
    "        super().__init__(name)\n",
    "    \n",
    "    def __str__(self):\n",
    "        return f'{self.name} - {self.email}'\n",
    "    \n",
    "user1 = Email_upadate()\n",
    "print(user1)"
   ]
  },
  {
   "cell_type": "markdown",
   "metadata": {},
   "source": [
    "## Exercise 3"
   ]
  },
  {
   "cell_type": "code",
   "execution_count": 10,
   "metadata": {},
   "outputs": [],
   "source": [
    "import random\n",
    "\n",
    "class Credit_card:\n",
    "    card_created = []\n",
    "    users = {}\n",
    "    \n",
    "    # Create New Credit Card (if you have not got a credit card yet, the card number will be a random 10-digit number): \n",
    "    def __init__(self, name = None, card = None, password = None, money = 0):\n",
    "        self.user_infor = []\n",
    "        if card == None:\n",
    "            card = random.randint(1000000000, 9999999999)\n",
    "        while card in Credit_card.card_created:\n",
    "            card = random.randint(1000000000, 9999999999)\n",
    "        Credit_card.card_created.append(card)\n",
    "        self.card = card\n",
    "        #username\n",
    "        if name == None:\n",
    "            name = input('Create Username: ')\n",
    "        self.name = name.upper()\n",
    "        #password\n",
    "        if password == None:\n",
    "            password = input(\"Create Password: \")\n",
    "        self.password = password\n",
    "        self.money = money\n",
    "        self.user_infor.extend([self.card, self.name.upper(), self.password, self.money])\n",
    "        Credit_card.users[card] = self.user_infor[1::]\n",
    "        \n",
    "    #Management Money\n",
    "    def money_check(self):\n",
    "        self.pass_check = input(\"Enter Your Password: \")\n",
    "        while self.pass_check != self.password:\n",
    "            self.pass_check = input(\">>> Incorrect\\n\\nEnter Your Password: \")\n",
    "        print(f'\\t> Your Account: {self.user_infor[-1]}')\n",
    "        \n",
    "    def money_deposit(self, moneyin = None):\n",
    "        self.pass_check = input(\"Enter Your Password: \")\n",
    "        while self.pass_check != self.password:\n",
    "            self.pass_check = input(\">>> Incorrect\\n\\nEnter Your Password: \")\n",
    "        if moneyin == None:\n",
    "            moneyin = int(input(\"\\t> Cash deposited: \"))\n",
    "        self.money += moneyin\n",
    "        self.user_infor[-1] = self.money\n",
    "        print(f'\\t> Your Account: {self.user_infor[-1]}')\n",
    "        Credit_card.users[self.card] = self.user_infor[1::]\n",
    "    \n",
    "    def money_withdrawn(self, moneyout = None):\n",
    "        self.pass_check = input(\"Enter Your Password: \")\n",
    "        while self.pass_check != self.password:\n",
    "            self.pass_check = input(\">>> Incorrect\\n\\nEnter Your Password: \")\n",
    "        if moneyout == None:\n",
    "            moneyout = int(input(\"\\t> Cash withdrawn: \"))\n",
    "        #check if your bank account is not enough to withdrawn\n",
    "        while moneyout > self.user_infor[-1]:\n",
    "            moneyout = int(input(\"\\t> Not enough. Try again: \"))\n",
    "        self.money -= moneyout\n",
    "        self.user_infor[-1] = self.money\n",
    "        print(f'\\t> Your Account: {self.user_infor[-1]}')\n",
    "        Credit_card.users[self.card] = self.user_infor[1::]\n",
    "        \n",
    "    def cash_transfer(self, receiver, moneytransfer = None):\n",
    "        self.pass_check = input(\"Enter Your Password: \")\n",
    "        while self.pass_check != self.password:\n",
    "            self.pass_check = input(\">>> Incorrect\\n\\nEnter Your Password: \")\n",
    "        if moneytransfer == None:\n",
    "            moneytransfer = int(input(\"\\t> Cash Transfer: \"))\n",
    "        while moneytransfer > self.user_infor[-1] or moneytransfer < 50000:\n",
    "            while moneytransfer > self.user_infor[-1]:\n",
    "                moneytransfer = int(input(\"\\t> Not enough. Try again: \"))\n",
    "            while moneytransfer < 50000:\n",
    "                moneytransfer = int(input(\"\\t> Transfering at least 50000. Try again: \"))\n",
    "        self.money -= moneytransfer \n",
    "        self.user_infor[-1] = self.money\n",
    "        receiver.money += moneytransfer\n",
    "        receiver.user_infor[-1] = receiver.money\n",
    "        Credit_card.users[self.card] = self.user_infor[1::]\n",
    "        Credit_card.users[receiver.card] = receiver.user_infor[1::]\n",
    "        \n",
    "        \n",
    "    def change_password(self, newpass = None):\n",
    "        if newpass == None:\n",
    "            print('>>> Password unchanged')\n",
    "        else:\n",
    "            self.password = newpass\n",
    "            print('>>> Password has been changed successfully.')\n",
    "        self.user_infor[-2] = self.password\n",
    "        Credit_card.users[self.card] = self.user_infor[1::]"
   ]
  },
  {
   "cell_type": "code",
   "execution_count": 11,
   "metadata": {},
   "outputs": [
    {
     "name": "stdout",
     "output_type": "stream",
     "text": [
      "MINH NGỌC - 6895886933\n"
     ]
    }
   ],
   "source": [
    "class Credit_Card_update(Credit_card):\n",
    "    \n",
    "    def __init__(self, name = None, card = None, password = None, money = 0):\n",
    "        super().__init__(name = None, card = None, password = None, money = 0)\n",
    "        self.user_infor = []\n",
    "    \n",
    "    def __str__(self):\n",
    "        return f'{self.name} - {self.card}'\n",
    "    \n",
    "user1 = Credit_Card_update()\n",
    "print(user1)"
   ]
  },
  {
   "cell_type": "markdown",
   "metadata": {},
   "source": [
    "## Exercise 4"
   ]
  },
  {
   "cell_type": "code",
   "execution_count": 12,
   "metadata": {},
   "outputs": [],
   "source": [
    "# Instances as Attributes\n",
    "class Animal:\n",
    "    \n",
    "    def __init__(self, name = None, type_animal = None):\n",
    "        self.priname = priname\n",
    "        self.type = type_animal\n",
    "    \n",
    "    def __str__(self):\n",
    "        return f'Name: {self.priname}\\nType: {self.type}'\n",
    "\n",
    "class Cat:\n",
    "    def __init__(self, pri_name):\n",
    "        self.priname = pri_name\n",
    "        self.name, self.type = Animal(\"Cat\", \"Mamals\")"
   ]
  }
 ],
 "metadata": {
  "kernelspec": {
   "display_name": ".venv",
   "language": "python",
   "name": "python3"
  },
  "language_info": {
   "codemirror_mode": {
    "name": "ipython",
    "version": 3
   },
   "file_extension": ".py",
   "mimetype": "text/x-python",
   "name": "python",
   "nbconvert_exporter": "python",
   "pygments_lexer": "ipython3",
   "version": "3.11.7"
  }
 },
 "nbformat": 4,
 "nbformat_minor": 2
}
