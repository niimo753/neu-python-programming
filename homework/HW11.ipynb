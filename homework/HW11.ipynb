{
 "cells": [
  {
   "cell_type": "markdown",
   "metadata": {},
   "source": [
    "__HOMEWORK 11__\n",
    "<br>\n",
    "Full Name: Nguyễn Thị Minh Ngọc\n",
    "<br>\n",
    "Student ID: 11219280\n",
    "<br>\n",
    "Class: DSEB 63"
   ]
  },
  {
   "cell_type": "markdown",
   "metadata": {},
   "source": [
    "## Exercise 1\n",
    "### 8 - 12"
   ]
  },
  {
   "cell_type": "code",
   "execution_count": 1,
   "metadata": {},
   "outputs": [
    {
     "name": "stdout",
     "output_type": "stream",
     "text": [
      "\n",
      "I want a sandwich that contains:\n",
      "- bacon\n",
      "- chilly sauce\n",
      "\n",
      "I want a sandwich that contains:\n",
      "- beef\n",
      "- cucumber\n",
      "\n",
      "I want a sandwich that contains:\n",
      "- egg\n"
     ]
    }
   ],
   "source": [
    "def sandwich(*topping):\n",
    "    print(\"\\nI want a sandwich that contains:\")\n",
    "    for i in topping:\n",
    "        print(f'- {i}')\n",
    "sandwich('bacon', 'chilly sauce')\n",
    "sandwich('beef', 'cucumber')\n",
    "sandwich('egg')"
   ]
  },
  {
   "cell_type": "markdown",
   "metadata": {},
   "source": [
    "### 8 - 13"
   ]
  },
  {
   "cell_type": "code",
   "execution_count": 2,
   "metadata": {},
   "outputs": [
    {
     "name": "stdout",
     "output_type": "stream",
     "text": [
      "{'school': 'NEU', 'major': 'DSEB', 'age': 19, 'first_name': 'Ngọc', 'last_name': 'Nguyễn'}\n"
     ]
    }
   ],
   "source": [
    "def build_profile(first, last, **user_info):\n",
    "    \"\"\"Build a dictionary containing everything we know about a user.\"\"\"\n",
    "    user_info['first_name'] = first\n",
    "    user_info['last_name'] = last\n",
    "    return user_info\n",
    "\n",
    "user_profile = build_profile('Ngọc', 'Nguyễn', school = 'NEU', major = 'DSEB', age = 19)\n",
    "print(user_profile)"
   ]
  },
  {
   "cell_type": "markdown",
   "metadata": {},
   "source": [
    "### 8 - 14"
   ]
  },
  {
   "cell_type": "code",
   "execution_count": 3,
   "metadata": {},
   "outputs": [
    {
     "name": "stdout",
     "output_type": "stream",
     "text": [
      "{'color': 'black', 'body_type': 'sedan', 'manufacturer': 'Audi', 'model': 'A5'}\n"
     ]
    }
   ],
   "source": [
    "def make_car(manufacturer, model, **car_infor):\n",
    "    car_infor['manufacturer'] = manufacturer\n",
    "    car_infor['model'] = model\n",
    "    return car_infor\n",
    "car = make_car('Audi', 'A5', color = 'black', body_type = 'sedan')\n",
    "print(car)"
   ]
  },
  {
   "cell_type": "markdown",
   "metadata": {},
   "source": [
    "## Exercise 2"
   ]
  },
  {
   "cell_type": "code",
   "execution_count": 4,
   "metadata": {},
   "outputs": [],
   "source": [
    "#Assign each letter to each number\n",
    "chars_numbers = {}\n",
    "chars_numbers[' '] = 10\n",
    "for (char, number) in zip(range(ord('a'), ord('z')+1), range(11, 37)):\n",
    "    chars_numbers[chr(char)] = number\n",
    "\n",
    "#Convert a string to a number\n",
    "def convert_to_number(string):\n",
    "    converted_number = ''\n",
    "    for char in string.lower():\n",
    "        for i in chars_numbers.keys():\n",
    "            if char == i:\n",
    "                converted_number += str(chars_numbers[i])\n",
    "    return converted_number\n",
    "\n",
    "#Convert a number to a string\n",
    "def convert_to_string(numbers):\n",
    "    number_list = []\n",
    "    converted_string = ''\n",
    "    for i in range(0, len(numbers), 2):\n",
    "        number_list.append(f'{numbers[i]}{numbers[i+1]}')\n",
    "    for number in number_list:\n",
    "        for i in chars_numbers.keys():\n",
    "            if int(number) == chars_numbers[i]:\n",
    "                converted_string += i\n",
    "    return converted_string"
   ]
  },
  {
   "cell_type": "markdown",
   "metadata": {},
   "source": [
    "## Exercise 4"
   ]
  },
  {
   "cell_type": "code",
   "execution_count": 5,
   "metadata": {},
   "outputs": [
    {
     "name": "stdout",
     "output_type": "stream",
     "text": [
      "Where Are You, Anne?\n"
     ]
    }
   ],
   "source": [
    "lower_upper = {}\n",
    "for (lower, upper) in zip(range(ord('a'), ord('z')+1), range(ord('A'), ord('Z')+1)):\n",
    "    lower_upper[chr(lower)] = chr(upper)\n",
    "\n",
    "def uppercase_first_letter(string):\n",
    "    string2 = ''\n",
    "    for i in range(len(string)):\n",
    "        if string[i-1] == ' ' and string[i] in lower_upper.keys():\n",
    "            string2 += lower_upper[chr(ord(string[i]))]\n",
    "        else:\n",
    "            string2 += string[i]\n",
    "    return string2\n",
    "print(uppercase_first_letter('Where are you, Anne?'))"
   ]
  },
  {
   "cell_type": "markdown",
   "metadata": {},
   "source": [
    "## Exercise 5"
   ]
  },
  {
   "cell_type": "code",
   "execution_count": 6,
   "metadata": {},
   "outputs": [
    {
     "name": "stdout",
     "output_type": "stream",
     "text": [
      "3\n"
     ]
    }
   ],
   "source": [
    "def count(string, value, start = 0, end = -1):\n",
    "    if end == -1 or end == len(string) - 1:\n",
    "        string = string[start:len(string):]\n",
    "    else:\n",
    "        string = string[start:end:]\n",
    "    words = string.split(value)\n",
    "    return len(words)-1\n",
    "\n",
    "string = 'Anne is a cute girl. Anne is kind and friendly. Many people love Anne.'\n",
    "print(count(string, 'Anne'))"
   ]
  },
  {
   "cell_type": "markdown",
   "metadata": {},
   "source": [
    "## Exercise 6"
   ]
  },
  {
   "cell_type": "code",
   "execution_count": 7,
   "metadata": {},
   "outputs": [
    {
     "name": "stdout",
     "output_type": "stream",
     "text": [
      "Minnie is a cute girl. Minnie is kind and friendly. Many people love Minnie.\n",
      "Minnie is a cute girl. Anne is kind and friendly. Many people love Anne.\n"
     ]
    }
   ],
   "source": [
    "def replace(string, oldvalue, newvalue, count = None):\n",
    "    words = string.split(oldvalue)\n",
    "    if count:\n",
    "        count = count\n",
    "    else:\n",
    "        count = len(words) - 1\n",
    "    new_string = words[0]\n",
    "    for i in range(1, len(words)):\n",
    "        if count > 0:\n",
    "            new_string += newvalue\n",
    "            count -= 1\n",
    "        else:\n",
    "            new_string += oldvalue\n",
    "        new_string += words[i]\n",
    "    return new_string\n",
    "\n",
    "string = 'Anne is a cute girl. Anne is kind and friendly. Many people love Anne.'\n",
    "print(replace(string, 'Anne', 'Minnie'))\n",
    "print(replace(string, 'Anne', 'Minnie', 1))"
   ]
  },
  {
   "cell_type": "markdown",
   "metadata": {},
   "source": [
    "## Exercise 7"
   ]
  },
  {
   "cell_type": "code",
   "execution_count": 8,
   "metadata": {},
   "outputs": [
    {
     "name": "stdout",
     "output_type": "stream",
     "text": [
      "12\n"
     ]
    }
   ],
   "source": [
    "def text_searching(p, t):\n",
    "    if p in t:\n",
    "        temp = t.split(p, 1)\n",
    "        return len(temp[0])\n",
    "    else:\n",
    "        return 0\n",
    "\n",
    "#Sample\n",
    "t = 'ATCAAGTTACCAATA'\n",
    "p = 'ATA'\n",
    "print(text_searching(p, t))"
   ]
  },
  {
   "cell_type": "markdown",
   "metadata": {},
   "source": [
    "## Exercise 8"
   ]
  },
  {
   "cell_type": "code",
   "execution_count": 9,
   "metadata": {},
   "outputs": [
    {
     "name": "stdout",
     "output_type": "stream",
     "text": [
      "[1, 2, 3, 4, 5, 6, 7, 8]\n"
     ]
    }
   ],
   "source": [
    "def insertion_sort(s):\n",
    "    for i in range(len(s)):\n",
    "        for i2 in range(i, len(s)):\n",
    "            if s[i] > s[i2]:\n",
    "                temp = s[i]\n",
    "                s[i] = s[i2]\n",
    "                s[i2] = temp\n",
    "    return s\n",
    "\n",
    "#Sample\n",
    "s = [6, 5, 3, 1, 8, 7, 2, 4]\n",
    "print(insertion_sort(s))"
   ]
  }
 ],
 "metadata": {
  "kernelspec": {
   "display_name": ".venv",
   "language": "python",
   "name": "python3"
  },
  "language_info": {
   "codemirror_mode": {
    "name": "ipython",
    "version": 3
   },
   "file_extension": ".py",
   "mimetype": "text/x-python",
   "name": "python",
   "nbconvert_exporter": "python",
   "pygments_lexer": "ipython3",
   "version": "3.11.7"
  }
 },
 "nbformat": 4,
 "nbformat_minor": 2
}
