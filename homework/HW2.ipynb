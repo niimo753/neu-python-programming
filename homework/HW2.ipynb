{
 "cells": [
  {
   "cell_type": "markdown",
   "metadata": {},
   "source": [
    "__HOMEWORK 2__\n",
    "<br>\n",
    "Full Name: Nguyễn Thị Minh Ngọc\n",
    "<br>\n",
    "Student ID: 11219280\n",
    "<br>\n",
    "Class: DSEB 63"
   ]
  },
  {
   "cell_type": "markdown",
   "metadata": {},
   "source": [
    "## Exercise 1\n",
    "### 3-4"
   ]
  },
  {
   "cell_type": "code",
   "execution_count": 6,
   "metadata": {},
   "outputs": [
    {
     "name": "stdout",
     "output_type": "stream",
     "text": [
      "Seo Yuzuki, please come to my home and have dinner together!\n",
      "Sesshomaru, please come to my home and have dinner together!\n",
      "Tenten, please come to my home and have dinner together!\n"
     ]
    }
   ],
   "source": [
    "guests = ['Seo Yuzuki', 'Sesshomaru', 'Tenten']\n",
    "for guest in guests:\n",
    "    print('{}, please come to my home and have dinner together!'.format(guest))"
   ]
  },
  {
   "cell_type": "markdown",
   "metadata": {},
   "source": [
    "### 3-5"
   ]
  },
  {
   "cell_type": "code",
   "execution_count": 7,
   "metadata": {},
   "outputs": [
    {
     "name": "stdout",
     "output_type": "stream",
     "text": [
      "Sesshomaru can't come to the dinner.\n",
      "\n",
      "Seo Yuzuki, please come to my home and have dinner together!\n",
      "Doraemon, please come to my home and have dinner together!\n",
      "Tenten, please come to my home and have dinner together!\n"
     ]
    }
   ],
   "source": [
    "# Stating the name of the guest who can't make the dinner\n",
    "print(guests[1], \"can't come to the dinner.\\n\")\n",
    "\n",
    "# Replacing the name of the guest who can't make it with the name of new person\n",
    "guests[1] = 'Doraemon'\n",
    "\n",
    "# Print a second set of invitation messages\n",
    "for guest in guests:\n",
    "    print('{}, please come to my home and have dinner together!'.format(guest))"
   ]
  },
  {
   "cell_type": "markdown",
   "metadata": {},
   "source": [
    "### 3-6"
   ]
  },
  {
   "cell_type": "code",
   "execution_count": 8,
   "metadata": {},
   "outputs": [
    {
     "name": "stdout",
     "output_type": "stream",
     "text": [
      "Everyone, I have just found a bigger dinner table!\n",
      "\n",
      "Yuqi, please come to my home and have dinner together!\n",
      "Seo Yuzuki, please come to my home and have dinner together!\n",
      "Mafuyu Kurosaki, please come to my home and have dinner together!\n",
      "Doraemon, please come to my home and have dinner together!\n",
      "Tenten, please come to my home and have dinner together!\n",
      "Rein, please come to my home and have dinner together!\n"
     ]
    }
   ],
   "source": [
    "# Informing the guests about a bigger table\n",
    "print(\"Everyone, I have just found a bigger dinner table!\\n\")\n",
    "\n",
    "# Use insert() to add one new guest to the beginning of your list.\n",
    "guests.insert(0, 'Yuqi')\n",
    "\n",
    "# Use insert() to add one new guest to the middle of your list.\n",
    "guests.insert(2,'Mafuyu Kurosaki')\n",
    "\n",
    "# Use append() to add one new guest to the end of your list.\n",
    "guests.append('Rein')\n",
    "\n",
    "# Print a new set of invitation messages\n",
    "for guest in guests:\n",
    "    print('{}, please come to my home and have dinner together!'.format(guest))"
   ]
  },
  {
   "cell_type": "markdown",
   "metadata": {},
   "source": [
    "### 3-7"
   ]
  },
  {
   "cell_type": "code",
   "execution_count": 9,
   "metadata": {},
   "outputs": [
    {
     "name": "stdout",
     "output_type": "stream",
     "text": [
      "Sorry, the new dinner table won’t arrive in time, so I can invite only two guests at the moment.\n",
      "\n",
      "I'm so sorry, Rein! There is no room in the table. See you on another occasion.\n",
      "I'm so sorry, Tenten! There is no room in the table. See you on another occasion.\n",
      "I'm so sorry, Doraemon! There is no room in the table. See you on another occasion.\n",
      "I'm so sorry, Mafuyu Kurosaki! There is no room in the table. See you on another occasion.\n",
      "\n",
      "Yuqi, please come to my home and have dinner together!\n",
      "Seo Yuzuki, please come to my home and have dinner together!\n",
      "\n",
      "[]\n"
     ]
    }
   ],
   "source": [
    "#print a message saying that only two guest can be invited\n",
    "print(\"Sorry, the new dinner table won’t arrive in time, so I can invite only two guests at the moment.\\n\")\n",
    "\n",
    "#inform each person who can't be invited\n",
    "print(\"I'm so sorry, {}! There is no room in the table. See you on another occasion.\". format(guests.pop()))\n",
    "print(\"I'm so sorry, {}! There is no room in the table. See you on another occasion.\". format(guests.pop()))\n",
    "print(\"I'm so sorry, {}! There is no room in the table. See you on another occasion.\". format(guests.pop()))\n",
    "print(\"I'm so sorry, {}! There is no room in the table. See you on another occasion.\\n\". format(guests.pop()))\n",
    "\n",
    "#message for the two who are still invited\n",
    "for guest in guests:\n",
    "    print('{}, please come to my home and have dinner together!'.format(guest))\n",
    "\n",
    "#delete the last two name\n",
    "del guests[0]\n",
    "del guests[0]\n",
    "\n",
    "#prove that the list is empty\n",
    "print(\"\\n{}\".format(guests))"
   ]
  },
  {
   "cell_type": "markdown",
   "metadata": {},
   "source": [
    "### 3-8"
   ]
  },
  {
   "cell_type": "code",
   "execution_count": 10,
   "metadata": {},
   "outputs": [
    {
     "name": "stdout",
     "output_type": "stream",
     "text": [
      "Original Order: ['Tokyo', 'London', 'Paris', 'Dubai', 'New York']\n",
      "\n",
      "Alphabetical Order: ['Dubai', 'London', 'New York', 'Paris', 'Tokyo']\n",
      "Original Order: ['Tokyo', 'London', 'Paris', 'Dubai', 'New York']\n",
      "\n",
      "Reverse Alphabetical Order: ['Tokyo', 'Paris', 'New York', 'London', 'Dubai']\n",
      "Original Order: ['Tokyo', 'London', 'Paris', 'Dubai', 'New York']\n",
      "\n",
      "Reversed: ['New York', 'Dubai', 'Paris', 'London', 'Tokyo']\n",
      "\n",
      "Original Order: ['Tokyo', 'London', 'Paris', 'Dubai', 'New York']\n",
      "\n",
      "Alphabetical Order: ['Dubai', 'London', 'New York', 'Paris', 'Tokyo']\n",
      "\n",
      "Reverse Alphabetical Order: ['Tokyo', 'Paris', 'New York', 'London', 'Dubai']\n"
     ]
    }
   ],
   "source": [
    "# Make a list\n",
    "locations = ['Tokyo', 'London', 'Paris', 'Dubai', 'New York']\n",
    "print(\"Original Order:\", locations)\n",
    "\n",
    "# Use sorted() to sort the list in alphabetical order without modifying it\n",
    "print(\"\\nAlphabetical Order:\", sorted(locations))\n",
    "print(\"Original Order:\", locations)\n",
    "\n",
    "# Use sorted() to sort the list in reverse alphabetical order without modifying it\n",
    "print(\"\\nReverse Alphabetical Order:\", sorted(locations, reverse = True))\n",
    "print(\"Original Order:\", locations)\n",
    "\n",
    "# Use reverse() to change the order of your list.\n",
    "locations.reverse()\n",
    "print(\"\\nReversed:\", locations)\n",
    "\n",
    "# Use reverse() to change the order of your list again.\n",
    "locations.reverse()\n",
    "print(\"\\nOriginal Order:\", locations)\n",
    "\n",
    "# Use sort() to sort the list in alphabetical order. The order of original list has changed.\n",
    "locations.sort()\n",
    "print(\"\\nAlphabetical Order:\", locations)\n",
    "\n",
    "# Use sort() to sort the list in reverse alphabetical order. The order of original list has changed.\n",
    "locations.sort(reverse = 1)\n",
    "print(\"\\nReverse Alphabetical Order:\", locations)"
   ]
  },
  {
   "cell_type": "markdown",
   "metadata": {},
   "source": [
    "### 3-9"
   ]
  },
  {
   "cell_type": "code",
   "execution_count": 11,
   "metadata": {},
   "outputs": [
    {
     "name": "stdout",
     "output_type": "stream",
     "text": [
      "The number of people invited is: 3\n"
     ]
    }
   ],
   "source": [
    "guests_2 = ['Seo Yuzuki', 'Tenten', 'Yuqi']\n",
    "count = len(guests_2)\n",
    "print(\"The number of people invited is: {}\".format(count))"
   ]
  },
  {
   "cell_type": "markdown",
   "metadata": {},
   "source": [
    "### 3-10"
   ]
  },
  {
   "cell_type": "code",
   "execution_count": 12,
   "metadata": {},
   "outputs": [
    {
     "name": "stdout",
     "output_type": "stream",
     "text": [
      "Orginal list: ['Oresama Teacher', 'My Broken Mariko', 'Nana', 'Doraemon', 'Lovely Complex']\n",
      "\n",
      ">>> sorted()\n",
      "Alphabetical Order: ['Doraemon', 'Lovely Complex', 'My Broken Mariko', 'Nana', 'Oresama Teacher']\n",
      "Reverse Alphabetical Order: ['Oresama Teacher', 'Nana', 'My Broken Mariko', 'Lovely Complex', 'Doraemon']\n",
      "Original List: ['Oresama Teacher', 'My Broken Mariko', 'Nana', 'Doraemon', 'Lovely Complex']\n",
      "\n",
      ">>> sort()\n",
      "Alphabetical Order: ['Doraemon', 'Lovely Complex', 'My Broken Mariko', 'Nana', 'Oresama Teacher']\n",
      "Reverse Alphabetical Order: ['Oresama Teacher', 'Nana', 'My Broken Mariko', 'Lovely Complex', 'Doraemon']\n",
      "\n",
      ">>> reverve(): ['Doraemon', 'Lovely Complex', 'My Broken Mariko', 'Nana', 'Oresama Teacher']\n",
      "\n",
      ">>> changing:  ['Doraemon', 'Nozaki', 'My Broken Mariko', 'Nana', 'Oresama Teacher']\n",
      "\n",
      ">>> append(): ['Doraemon', 'Nozaki', 'My Broken Mariko', 'Nana', 'Oresama Teacher', 'Conan']\n",
      "\n",
      ">>> insert(): ['Doraemon', 'Nozaki', 'Inuyasha', 'My Broken Mariko', 'Nana', 'Oresama Teacher', 'Conan']\n",
      "\n",
      ">>> del: ['Doraemon', 'Nozaki', 'Inuyasha', 'Nana', 'Oresama Teacher', 'Conan']\n",
      "\n",
      ">>> pop():  ['Doraemon', 'Nozaki', 'Inuyasha', 'Nana', 'Oresama Teacher']\n",
      "\n",
      ">>> pop(index): ['Doraemon', 'Nozaki', 'Nana', 'Oresama Teacher']\n",
      "\n",
      ">>> remove(): ['Doraemon', 'Nozaki', 'Oresama Teacher']\n",
      "\n",
      "The number of items in the final list: 3\n"
     ]
    }
   ],
   "source": [
    "manga_list = ['Oresama Teacher', 'My Broken Mariko', 'Nana', 'Doraemon', 'Lovely Complex']\n",
    "print(\"Orginal list:\", manga_list)\n",
    "\n",
    "# sorted without modifying original list\n",
    "print(\"\\n>>> sorted()\\nAlphabetical Order:\", sorted(manga_list))\n",
    "print(\"Reverse Alphabetical Order:\", sorted(manga_list, reverse = 1))\n",
    "print(\"Original List:\", manga_list)\n",
    "\n",
    "# sort the list\n",
    "manga_list.sort()\n",
    "print(\"\\n>>> sort()\\nAlphabetical Order:\", manga_list)\n",
    "manga_list.sort(reverse = 1)\n",
    "print(\"Reverse Alphabetical Order:\", manga_list)\n",
    "\n",
    "# reverse order\n",
    "manga_list.reverse()\n",
    "print(\"\\n>>> reverve():\", manga_list)\n",
    "\n",
    "# changing\n",
    "manga_list[1] = 'Nozaki'\n",
    "print(\"\\n>>> changing: \", manga_list)\n",
    "\n",
    "# adding an element to the end of the list\n",
    "manga_list.append('Conan')\n",
    "print(\"\\n>>> append():\", manga_list)\n",
    "\n",
    "# inserting element\n",
    "manga_list.insert(2, 'Inuyasha')\n",
    "print(\"\\n>>> insert():\", manga_list)\n",
    "\n",
    "# removing by using del\n",
    "del manga_list[3]\n",
    "print(\"\\n>>> del:\", manga_list)\n",
    "\n",
    "# removing using pop (the last item)\n",
    "itempop_1 = manga_list.pop()\n",
    "print(\"\\n>>> pop(): \", manga_list)\n",
    "\n",
    "# removing using pop (item at any position)\n",
    "itempop_2 = manga_list.pop(2)\n",
    "print(\"\\n>>> pop(index):\", manga_list)\n",
    "\n",
    "# removing by value\n",
    "manga_list.remove('Nana')\n",
    "print(\"\\n>>> remove():\", manga_list)\n",
    "\n",
    "# count the number of items\n",
    "count2 = len(manga_list)\n",
    "print(\"\\nThe number of items in the final list:\", count2)"
   ]
  },
  {
   "cell_type": "markdown",
   "metadata": {},
   "source": [
    "### 3-11"
   ]
  },
  {
   "cell_type": "code",
   "execution_count": 13,
   "metadata": {},
   "outputs": [
    {
     "name": "stdout",
     "output_type": "stream",
     "text": [
      "Blue\n"
     ]
    }
   ],
   "source": [
    "colors = ['Red', 'Green', 'Blue']\n",
    "\n",
    "# IndexError appears if the index is larger than 2 (length of the initial list)\n",
    "# Fix the error\n",
    "print(colors[-1])"
   ]
  },
  {
   "cell_type": "markdown",
   "metadata": {},
   "source": [
    "## Exercise 2"
   ]
  },
  {
   "cell_type": "code",
   "execution_count": 14,
   "metadata": {},
   "outputs": [
    {
     "name": "stdout",
     "output_type": "stream",
     "text": [
      "\n",
      ">>> Output:\n",
      "10 + 3 = 13\n",
      "10 - 3 = 7\n",
      "10 * 3 = 30\n",
      "10/3 = 3.3333333333333335 or [10/3] = 3\n",
      "10 mod 3 = 1\n",
      "log10(10) = 1.0\n",
      "10^3 = 1000\n"
     ]
    }
   ],
   "source": [
    "# Enter two integers - a and b\n",
    "a = int(input(\"a = \"))\n",
    "b = int(input(\"b = \"))\n",
    "\n",
    "# The sum of a and b\n",
    "add = a + b\n",
    "print(\"\\n>>> Output:\\n{} + {} = {}\".format(a, b, add))\n",
    "\n",
    "# The difference when b is subtracted from a\n",
    "sub = a - b\n",
    "print(\"{} - {} = {}\".format(a, b, sub))\n",
    "\n",
    "# The product of a and b\n",
    "product = a*b\n",
    "print(\"{} * {} = {}\".format(a, b, product))\n",
    "\n",
    "# The quotient when a is divided by b\n",
    "quo1 = a/b\n",
    "quo2 = a//b\n",
    "print(\"{}/{} = {} or [{}/{}] = {}\".format(a, b, quo1, a, b, quo2))\n",
    "\n",
    "# The remainder when a is divided by b\n",
    "remainder = a%b\n",
    "print(\"{} mod {} = {}\".format(a, b, remainder))\n",
    "\n",
    "# The result of log10 a\n",
    "import math\n",
    "log10a = (math.log(a, 10))\n",
    "print(\"log10({}) = {}\".format(a, log10a))\n",
    "\n",
    "# The result of a^b\n",
    "expo = a**b\n",
    "print(\"{}^{} = {}\".format(a, b, expo))"
   ]
  },
  {
   "cell_type": "markdown",
   "metadata": {},
   "source": [
    "## Exercise 3"
   ]
  },
  {
   "cell_type": "code",
   "execution_count": 15,
   "metadata": {},
   "outputs": [
    {
     "name": "stdout",
     "output_type": "stream",
     "text": [
      "Enter the dimension of the room (meters)\n",
      "\n",
      ">>> The area of the room: 160.0 m2\n"
     ]
    }
   ],
   "source": [
    "print(\"Enter the dimension of the room (meters)\")\n",
    "width = float(input(\"Width: \"))\n",
    "length = float(input(\"Length: \"))\n",
    "area = width*length\n",
    "print(\"\\n>>> The area of the room: {} m2\".format(area))"
   ]
  },
  {
   "cell_type": "markdown",
   "metadata": {},
   "source": [
    "## Exercise 4"
   ]
  },
  {
   "cell_type": "code",
   "execution_count": 16,
   "metadata": {},
   "outputs": [
    {
     "name": "stdout",
     "output_type": "stream",
     "text": [
      "\n",
      ">>> The area of a circle with radius 3.0 is about 28.274.\n",
      ">>> The volume of a sphere with radius 3.0 is about 113.097.\n"
     ]
    }
   ],
   "source": [
    "radius = float(input(\"Radius = \"))\n",
    "import math\n",
    "pi = math.pi\n",
    "area2 = pi*(radius**2)\n",
    "sphere = 4/3*(pi)*(radius**3)\n",
    "print(\"\\n>>> The area of a circle with radius {} is about {:.3f}.\\n>>> The volume of a sphere with radius {} is about {:.3f}.\".format(radius, area2, radius, sphere))"
   ]
  },
  {
   "cell_type": "markdown",
   "metadata": {},
   "source": [
    "## Exercise 5"
   ]
  },
  {
   "cell_type": "code",
   "execution_count": 17,
   "metadata": {},
   "outputs": [
    {
     "name": "stdout",
     "output_type": "stream",
     "text": [
      "\n",
      "The sum of all integers from 1 to 3 is 6\n"
     ]
    }
   ],
   "source": [
    "n = int(input(\"A positive integer n = \"))\n",
    "while n<=0:\n",
    "    n = int(input(\">>> n must be positive! n = \"))\n",
    "sum1n = 0\n",
    "temp = 1\n",
    "while temp<=n:\n",
    "    sum1n += temp\n",
    "    temp += 1\n",
    "print(\"\\nThe sum of all integers from 1 to {} is {}\".format(n, sum1n))"
   ]
  },
  {
   "cell_type": "markdown",
   "metadata": {},
   "source": [
    "## Exercise 6"
   ]
  },
  {
   "cell_type": "code",
   "execution_count": 18,
   "metadata": {},
   "outputs": [
    {
     "name": "stdout",
     "output_type": "stream",
     "text": [
      "Enter a duration\n",
      "\n",
      ">>> The total number of seconds represented by this duration is: 99955 seconds.\n"
     ]
    }
   ],
   "source": [
    "print(\"Enter a duration\")\n",
    "day = int(input(\"Days: \"))\n",
    "hour = int(input(\"Hours: \"))\n",
    "minute = int(input(\"Minutes: \"))\n",
    "second = int(input(\"Seconds: \"))\n",
    "total_second = day*24*60*60 + hour*60*60 + minute*60 + second\n",
    "print(\"\\n>>> The total number of seconds represented by this duration is: {} seconds.\".format(total_second))"
   ]
  },
  {
   "cell_type": "markdown",
   "metadata": {},
   "source": [
    "## Exercise 7"
   ]
  },
  {
   "cell_type": "code",
   "execution_count": 19,
   "metadata": {},
   "outputs": [
    {
     "name": "stdout",
     "output_type": "stream",
     "text": [
      "Statement: 0.1 + 0.1 + 0.1 == 0.3 in Python\n",
      ">>> False\n",
      "\n",
      "In Python: 0.1 + 0.1 + 0.1 = 0.30000000000000004\n"
     ]
    }
   ],
   "source": [
    "sample = 0.1+0.1+0.1\n",
    "statement = sample==0.3\n",
    "print(\"Statement: 0.1 + 0.1 + 0.1 == 0.3 in Python\\n>>>\", statement)\n",
    "\n",
    "print(\"\\nIn Python: 0.1 + 0.1 + 0.1 =\", sample)"
   ]
  },
  {
   "cell_type": "markdown",
   "metadata": {},
   "source": [
    "__Explanation:__\n",
    "<br>\n",
    "Python 0.1 + 0.1 + 0.1 == 0.3 is FALSE because 0.1 is a number of type float, so it seems very likely not an exact value, but just an approximation. Although this approximation is negligible itself, the act of compounding much will lead to a large error."
   ]
  },
  {
   "cell_type": "markdown",
   "metadata": {},
   "source": [
    "## Exercise 8"
   ]
  },
  {
   "cell_type": "code",
   "execution_count": 20,
   "metadata": {},
   "outputs": [
    {
     "name": "stdout",
     "output_type": "stream",
     "text": [
      "The number of \"1\" in the list 1: 9\n",
      "The number of \"0\" in the list 2: 11\n",
      "\n",
      "P(A) = 0.45\n",
      "P(B) = 0.4583333333333333\n",
      "\n",
      "P(A,B) = 0.20625\n",
      "P(A|not B) = 0.5416666666666667\n"
     ]
    }
   ],
   "source": [
    "list1 = list(\"10101000100101101010\")\n",
    "list2 = list(\"101110010110101000001010\")\n",
    "\n",
    "list1_1 = list1.count('1')\n",
    "list2_0 = list1.count('0')\n",
    "\n",
    "#Exercise 8-a\n",
    "print('The number of \"1\" in the list 1:',list1_1)\n",
    "print('The number of \"0\" in the list 2:',list2_0)\n",
    "\n",
    "#Exercise 8-a\n",
    "pa = list1_1/len(list1)\n",
    "pb = list2_0/len(list2)\n",
    "print(\"\\nP(A) =\", pa)\n",
    "print(\"P(B) =\", pb)\n",
    "\n",
    "#Exercise 8-c\n",
    "p_notb = 1 - pb\n",
    "p_ab = pa*pb\n",
    "p_anotb = pa*p_notb\n",
    "pa_notb = p_anotb/pa\n",
    "print(\"\\nP(A,B) =\", p_ab)\n",
    "print(\"P(A|not B) =\", pa_notb)"
   ]
  }
 ],
 "metadata": {
  "kernelspec": {
   "display_name": ".venv",
   "language": "python",
   "name": "python3"
  },
  "language_info": {
   "codemirror_mode": {
    "name": "ipython",
    "version": 3
   },
   "file_extension": ".py",
   "mimetype": "text/x-python",
   "name": "python",
   "nbconvert_exporter": "python",
   "pygments_lexer": "ipython3",
   "version": "3.11.7"
  }
 },
 "nbformat": 4,
 "nbformat_minor": 2
}
